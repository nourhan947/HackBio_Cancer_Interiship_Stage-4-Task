{
  "cells": [
    {
      "cell_type": "code",
      "execution_count": 1,
      "metadata": {
        "colab": {
          "base_uri": "https://localhost:8080/"
        },
        "id": "CzM1aHeUtY64",
        "outputId": "0e784b77-df0f-4a9f-f450-ca89b062e1ae",
        "collapsed": true
      },
      "outputs": [
        {
          "output_type": "stream",
          "name": "stderr",
          "text": [
            "Installing package into ‘/usr/local/lib/R/site-library’\n",
            "(as ‘lib’ is unspecified)\n",
            "\n",
            "'getOption(\"repos\")' replaces Bioconductor standard repositories, see\n",
            "'help(\"repositories\", package = \"BiocManager\")' for details.\n",
            "Replacement repositories:\n",
            "    CRAN: https://cran.rstudio.com\n",
            "\n",
            "Bioconductor version 3.19 (BiocManager 1.30.25), R 4.4.1 (2024-06-14)\n",
            "\n",
            "Installing package(s) 'BiocVersion'\n",
            "\n",
            "Old packages: 'askpass', 'commonmark', 'credentials', 'sys', 'xfun'\n",
            "\n",
            "'getOption(\"repos\")' replaces Bioconductor standard repositories, see\n",
            "'help(\"repositories\", package = \"BiocManager\")' for details.\n",
            "Replacement repositories:\n",
            "    CRAN: https://cran.rstudio.com\n",
            "\n",
            "Bioconductor version 3.19 (BiocManager 1.30.25), R 4.4.1 (2024-06-14)\n",
            "\n",
            "Installing package(s) 'EDASeq'\n",
            "\n",
            "also installing the dependencies ‘formatR’, ‘abind’, ‘SparseArray’, ‘lambda.r’, ‘futile.options’, ‘MatrixGenerics’, ‘S4Arrays’, ‘DelayedArray’, ‘deldir’, ‘RcppEigen’, ‘RCurl’, ‘rjson’, ‘futile.logger’, ‘snow’, ‘BH’, ‘SummarizedExperiment’, ‘UCSC.utils’, ‘GenomeInfoDbData’, ‘png’, ‘jpeg’, ‘interp’, ‘filelock’, ‘plogr’, ‘XML’, ‘BiocIO’, ‘restfulr’, ‘BiocParallel’, ‘GenomicAlignments’, ‘S4Vectors’, ‘GenomeInfoDb’, ‘pwalign’, ‘hwriter’, ‘zlibbioc’, ‘latticeExtra’, ‘XVector’, ‘Rhtslib’, ‘R.methodsS3’, ‘R.oo’, ‘R.utils’, ‘matrixStats’, ‘bitops’, ‘BiocFileCache’, ‘RSQLite’, ‘KEGGREST’, ‘rtracklayer’, ‘Biobase’, ‘ShortRead’, ‘BiocGenerics’, ‘IRanges’, ‘aroma.light’, ‘Rsamtools’, ‘biomaRt’, ‘Biostrings’, ‘AnnotationDbi’, ‘GenomicFeatures’, ‘GenomicRanges’\n",
            "\n",
            "\n",
            "Old packages: 'askpass', 'commonmark', 'credentials', 'sys', 'xfun'\n",
            "\n",
            "'getOption(\"repos\")' replaces Bioconductor standard repositories, see\n",
            "'help(\"repositories\", package = \"BiocManager\")' for details.\n",
            "Replacement repositories:\n",
            "    CRAN: https://cran.rstudio.com\n",
            "\n",
            "Bioconductor version 3.19 (BiocManager 1.30.25), R 4.4.1 (2024-06-14)\n",
            "\n",
            "Installing package(s) 'limma'\n",
            "\n",
            "also installing the dependency ‘statmod’\n",
            "\n",
            "\n",
            "Old packages: 'askpass', 'commonmark', 'credentials', 'sys', 'xfun'\n",
            "\n",
            "'getOption(\"repos\")' replaces Bioconductor standard repositories, see\n",
            "'help(\"repositories\", package = \"BiocManager\")' for details.\n",
            "Replacement repositories:\n",
            "    CRAN: https://cran.rstudio.com\n",
            "\n",
            "Bioconductor version 3.19 (BiocManager 1.30.25), R 4.4.1 (2024-06-14)\n",
            "\n",
            "Installing package(s) 'edgeR'\n",
            "\n",
            "also installing the dependency ‘locfit’\n",
            "\n",
            "\n",
            "Old packages: 'askpass', 'commonmark', 'credentials', 'sys', 'xfun'\n",
            "\n",
            "'getOption(\"repos\")' replaces Bioconductor standard repositories, see\n",
            "'help(\"repositories\", package = \"BiocManager\")' for details.\n",
            "Replacement repositories:\n",
            "    CRAN: https://cran.rstudio.com\n",
            "\n",
            "Bioconductor version 3.19 (BiocManager 1.30.25), R 4.4.1 (2024-06-14)\n",
            "\n",
            "Installing package(s) 'TCGAbiolinks'\n",
            "\n",
            "also installing the dependencies ‘downloader’, ‘plyr’, ‘TCGAbiolinksGUI.data’\n",
            "\n",
            "\n",
            "Old packages: 'askpass', 'commonmark', 'credentials', 'sys', 'xfun'\n",
            "\n",
            "'getOption(\"repos\")' replaces Bioconductor standard repositories, see\n",
            "'help(\"repositories\", package = \"BiocManager\")' for details.\n",
            "Replacement repositories:\n",
            "    CRAN: https://cran.rstudio.com\n",
            "\n",
            "Bioconductor version 3.19 (BiocManager 1.30.25), R 4.4.1 (2024-06-14)\n",
            "\n",
            "Installing package(s) 'sesame'\n",
            "\n",
            "also installing the dependencies ‘ExperimentHub’, ‘AnnotationHub’, ‘sesameData’, ‘wheatmap’, ‘preprocessCore’, ‘reshape2’\n",
            "\n",
            "\n",
            "Old packages: 'askpass', 'commonmark', 'credentials', 'sys', 'xfun'\n",
            "\n",
            "'getOption(\"repos\")' replaces Bioconductor standard repositories, see\n",
            "'help(\"repositories\", package = \"BiocManager\")' for details.\n",
            "Replacement repositories:\n",
            "    CRAN: https://cran.rstudio.com\n",
            "\n",
            "Bioconductor version 3.19 (BiocManager 1.30.25), R 4.4.1 (2024-06-14)\n",
            "\n",
            "Installing package(s) 'SummarizedExperiment'\n",
            "\n",
            "Old packages: 'askpass', 'commonmark', 'credentials', 'sys', 'xfun'\n",
            "\n",
            "'getOption(\"repos\")' replaces Bioconductor standard repositories, see\n",
            "'help(\"repositories\", package = \"BiocManager\")' for details.\n",
            "Replacement repositories:\n",
            "    CRAN: https://cran.rstudio.com\n",
            "\n",
            "Bioconductor version 3.19 (BiocManager 1.30.25), R 4.4.1 (2024-06-14)\n",
            "\n",
            "Installing package(s) 'dplyr'\n",
            "\n",
            "Old packages: 'askpass', 'commonmark', 'credentials', 'sys', 'xfun'\n",
            "\n",
            "Installing package into ‘/usr/local/lib/R/site-library’\n",
            "(as ‘lib’ is unspecified)\n",
            "\n",
            "also installing the dependencies ‘gtools’, ‘caTools’\n",
            "\n",
            "\n",
            "Installing package into ‘/usr/local/lib/R/site-library’\n",
            "(as ‘lib’ is unspecified)\n",
            "\n",
            "Installing package into ‘/usr/local/lib/R/site-library’\n",
            "(as ‘lib’ is unspecified)\n",
            "\n",
            "Warning message:\n",
            "“package ‘SummarizedExperiment’ is not available for this version of R\n",
            "\n",
            "A version of this package for your version of R might be available elsewhere,\n",
            "see the ideas at\n",
            "https://cran.r-project.org/doc/manuals/r-patched/R-admin.html#Installing-packages”\n",
            "Installing package into ‘/usr/local/lib/R/site-library’\n",
            "(as ‘lib’ is unspecified)\n",
            "\n"
          ]
        }
      ],
      "source": [
        "if (!require(\"BiocManager\", quietly = TRUE))\n",
        "    install.packages(\"BiocManager\")\n",
        "\n",
        "BiocManager::install(version = \"3.19\")\n",
        "BiocManager::install(\"EDASeq\")\n",
        "BiocManager::install(\"limma\")\n",
        "BiocManager::install(\"edgeR\")\n",
        "BiocManager::install(\"TCGAbiolinks\")\n",
        "BiocManager::install(\"sesame\")\n",
        "BiocManager::install(\"SummarizedExperiment\", force = TRUE)\n",
        "\n",
        "BiocManager::install(\"dplyr\", force = TRUE)\n",
        "install.packages('gplots')\n",
        "install.packages(\"pheatmap\")\n",
        "install.packages(\"SummarizedExperiment\")\n",
        "install.packages(\"ggrepel\")"
      ]
    },
    {
      "cell_type": "code",
      "execution_count": 2,
      "metadata": {
        "colab": {
          "base_uri": "https://localhost:8080/"
        },
        "id": "jSfzN6fusUnz",
        "outputId": "eeacee60-cda8-4d6d-c509-0d87771f0021",
        "collapsed": true
      },
      "outputs": [
        {
          "output_type": "stream",
          "name": "stderr",
          "text": [
            "Loading required package: MatrixGenerics\n",
            "\n",
            "Loading required package: matrixStats\n",
            "\n",
            "\n",
            "Attaching package: ‘MatrixGenerics’\n",
            "\n",
            "\n",
            "The following objects are masked from ‘package:matrixStats’:\n",
            "\n",
            "    colAlls, colAnyNAs, colAnys, colAvgsPerRowSet, colCollapse,\n",
            "    colCounts, colCummaxs, colCummins, colCumprods, colCumsums,\n",
            "    colDiffs, colIQRDiffs, colIQRs, colLogSumExps, colMadDiffs,\n",
            "    colMads, colMaxs, colMeans2, colMedians, colMins, colOrderStats,\n",
            "    colProds, colQuantiles, colRanges, colRanks, colSdDiffs, colSds,\n",
            "    colSums2, colTabulates, colVarDiffs, colVars, colWeightedMads,\n",
            "    colWeightedMeans, colWeightedMedians, colWeightedSds,\n",
            "    colWeightedVars, rowAlls, rowAnyNAs, rowAnys, rowAvgsPerColSet,\n",
            "    rowCollapse, rowCounts, rowCummaxs, rowCummins, rowCumprods,\n",
            "    rowCumsums, rowDiffs, rowIQRDiffs, rowIQRs, rowLogSumExps,\n",
            "    rowMadDiffs, rowMads, rowMaxs, rowMeans2, rowMedians, rowMins,\n",
            "    rowOrderStats, rowProds, rowQuantiles, rowRanges, rowRanks,\n",
            "    rowSdDiffs, rowSds, rowSums2, rowTabulates, rowVarDiffs, rowVars,\n",
            "    rowWeightedMads, rowWeightedMeans, rowWeightedMedians,\n",
            "    rowWeightedSds, rowWeightedVars\n",
            "\n",
            "\n",
            "Loading required package: GenomicRanges\n",
            "\n",
            "Loading required package: stats4\n",
            "\n",
            "Loading required package: BiocGenerics\n",
            "\n",
            "\n",
            "Attaching package: ‘BiocGenerics’\n",
            "\n",
            "\n",
            "The following objects are masked from ‘package:stats’:\n",
            "\n",
            "    IQR, mad, sd, var, xtabs\n",
            "\n",
            "\n",
            "The following objects are masked from ‘package:base’:\n",
            "\n",
            "    anyDuplicated, aperm, append, as.data.frame, basename, cbind,\n",
            "    colnames, dirname, do.call, duplicated, eval, evalq, Filter, Find,\n",
            "    get, grep, grepl, intersect, is.unsorted, lapply, Map, mapply,\n",
            "    match, mget, order, paste, pmax, pmax.int, pmin, pmin.int,\n",
            "    Position, rank, rbind, Reduce, rownames, sapply, setdiff, table,\n",
            "    tapply, union, unique, unsplit, which.max, which.min\n",
            "\n",
            "\n",
            "Loading required package: S4Vectors\n",
            "\n",
            "\n",
            "Attaching package: ‘S4Vectors’\n",
            "\n",
            "\n",
            "The following object is masked from ‘package:utils’:\n",
            "\n",
            "    findMatches\n",
            "\n",
            "\n",
            "The following objects are masked from ‘package:base’:\n",
            "\n",
            "    expand.grid, I, unname\n",
            "\n",
            "\n",
            "Loading required package: IRanges\n",
            "\n",
            "Loading required package: GenomeInfoDb\n",
            "\n",
            "Loading required package: Biobase\n",
            "\n",
            "Welcome to Bioconductor\n",
            "\n",
            "    Vignettes contain introductory material; view with\n",
            "    'browseVignettes()'. To cite Bioconductor, see\n",
            "    'citation(\"Biobase\")', and for packages 'citation(\"pkgname\")'.\n",
            "\n",
            "\n",
            "\n",
            "Attaching package: ‘Biobase’\n",
            "\n",
            "\n",
            "The following object is masked from ‘package:MatrixGenerics’:\n",
            "\n",
            "    rowMedians\n",
            "\n",
            "\n",
            "The following objects are masked from ‘package:matrixStats’:\n",
            "\n",
            "    anyMissing, rowMedians\n",
            "\n",
            "\n",
            "\n",
            "Attaching package: ‘dplyr’\n",
            "\n",
            "\n",
            "The following object is masked from ‘package:Biobase’:\n",
            "\n",
            "    combine\n",
            "\n",
            "\n",
            "The following objects are masked from ‘package:GenomicRanges’:\n",
            "\n",
            "    intersect, setdiff, union\n",
            "\n",
            "\n",
            "The following object is masked from ‘package:GenomeInfoDb’:\n",
            "\n",
            "    intersect\n",
            "\n",
            "\n",
            "The following objects are masked from ‘package:IRanges’:\n",
            "\n",
            "    collapse, desc, intersect, setdiff, slice, union\n",
            "\n",
            "\n",
            "The following objects are masked from ‘package:S4Vectors’:\n",
            "\n",
            "    first, intersect, rename, setdiff, setequal, union\n",
            "\n",
            "\n",
            "The following objects are masked from ‘package:BiocGenerics’:\n",
            "\n",
            "    combine, intersect, setdiff, union\n",
            "\n",
            "\n",
            "The following object is masked from ‘package:matrixStats’:\n",
            "\n",
            "    count\n",
            "\n",
            "\n",
            "The following objects are masked from ‘package:stats’:\n",
            "\n",
            "    filter, lag\n",
            "\n",
            "\n",
            "The following objects are masked from ‘package:base’:\n",
            "\n",
            "    intersect, setdiff, setequal, union\n",
            "\n",
            "\n",
            "Loading required package: sesameData\n",
            "\n",
            "Loading required package: ExperimentHub\n",
            "\n",
            "Loading required package: AnnotationHub\n",
            "\n",
            "Loading required package: BiocFileCache\n",
            "\n",
            "Loading required package: dbplyr\n",
            "\n",
            "\n",
            "Attaching package: ‘dbplyr’\n",
            "\n",
            "\n",
            "The following objects are masked from ‘package:dplyr’:\n",
            "\n",
            "    ident, sql\n",
            "\n",
            "\n",
            "\n",
            "Attaching package: ‘AnnotationHub’\n",
            "\n",
            "\n",
            "The following object is masked from ‘package:Biobase’:\n",
            "\n",
            "    cache\n",
            "\n",
            "\n",
            "Loading sesameData.\n",
            "\n",
            "\n",
            "----------------------------------------------------------\n",
            "| SEnsible Step-wise Analysis of DNA MEthylation (SeSAMe)\n",
            "| --------------------------------------------------------\n",
            "| Please cache auxiliary data by \"sesameDataCache()\".\n",
            "| This needs to be done only once per SeSAMe installation.\n",
            "----------------------------------------------------------\n",
            "\n",
            "\n",
            "Loading required package: limma\n",
            "\n",
            "\n",
            "Attaching package: ‘limma’\n",
            "\n",
            "\n",
            "The following object is masked from ‘package:BiocGenerics’:\n",
            "\n",
            "    plotMA\n",
            "\n",
            "\n",
            "Loading required package: ShortRead\n",
            "\n",
            "Loading required package: BiocParallel\n",
            "\n",
            "Loading required package: Biostrings\n",
            "\n",
            "Loading required package: XVector\n",
            "\n",
            "\n",
            "Attaching package: ‘Biostrings’\n",
            "\n",
            "\n",
            "The following object is masked from ‘package:base’:\n",
            "\n",
            "    strsplit\n",
            "\n",
            "\n",
            "Loading required package: Rsamtools\n",
            "\n",
            "Loading required package: GenomicAlignments\n",
            "\n",
            "\n",
            "Attaching package: ‘GenomicAlignments’\n",
            "\n",
            "\n",
            "The following object is masked from ‘package:dplyr’:\n",
            "\n",
            "    last\n",
            "\n",
            "\n",
            "\n",
            "Attaching package: ‘ShortRead’\n",
            "\n",
            "\n",
            "The following object is masked from ‘package:dplyr’:\n",
            "\n",
            "    id\n",
            "\n",
            "\n",
            "\n",
            "Attaching package: ‘gplots’\n",
            "\n",
            "\n",
            "The following object is masked from ‘package:IRanges’:\n",
            "\n",
            "    space\n",
            "\n",
            "\n",
            "The following object is masked from ‘package:S4Vectors’:\n",
            "\n",
            "    space\n",
            "\n",
            "\n",
            "The following object is masked from ‘package:stats’:\n",
            "\n",
            "    lowess\n",
            "\n",
            "\n",
            "Loading required package: ggplot2\n",
            "\n"
          ]
        }
      ],
      "source": [
        "# Load libraries\n",
        "library(TCGAbiolinks)\n",
        "library(SummarizedExperiment)\n",
        "library(dplyr)\n",
        "library(sesame)\n",
        "library(edgeR)\n",
        "library(EDASeq)\n",
        "library(limma)\n",
        "library(gplots)\n",
        "library(pheatmap)\n",
        "library(ggrepel)"
      ]
    },
    {
      "cell_type": "markdown",
      "metadata": {
        "id": "AtbGiDH4elnL"
      },
      "source": [
        "###**Glioma is a growth of cells that starts in the brain or spinal cord.**"
      ]
    },
    {
      "cell_type": "code",
      "execution_count": 3,
      "metadata": {
        "id": "TCHPEYavzcJq"
      },
      "outputs": [],
      "source": [
        "#get project summary of TCGA-LGG dataset number of samples n=516\n",
        "summary <- getProjectSummary(\"TCGA-LGG\")"
      ]
    },
    {
      "cell_type": "code",
      "execution_count": 4,
      "metadata": {
        "colab": {
          "base_uri": "https://localhost:8080/",
          "height": 52
        },
        "id": "E9XycP0fK8HR",
        "outputId": "0876890f-b2d2-45ae-a4cb-df11e822548a"
      },
      "outputs": [
        {
          "output_type": "display_data",
          "data": {
            "text/html": [
              "<style>\n",
              ".list-inline {list-style: none; margin:0; padding: 0}\n",
              ".list-inline>li {display: inline-block}\n",
              ".list-inline>li:not(:last-child)::after {content: \"\\00b7\"; padding: 0 .5ex}\n",
              "</style>\n",
              "<ol class=list-inline><li>'Simple Nucleotide Variation'</li><li>'Sequencing Reads'</li><li>'Biospecimen'</li><li>'Clinical'</li><li>'Copy Number Variation'</li><li>'Transcriptome Profiling'</li><li>'DNA Methylation'</li><li>'Proteome Profiling'</li><li>'Somatic Structural Variation'</li><li>'Structural Variation'</li></ol>\n"
            ],
            "text/markdown": "1. 'Simple Nucleotide Variation'\n2. 'Sequencing Reads'\n3. 'Biospecimen'\n4. 'Clinical'\n5. 'Copy Number Variation'\n6. 'Transcriptome Profiling'\n7. 'DNA Methylation'\n8. 'Proteome Profiling'\n9. 'Somatic Structural Variation'\n10. 'Structural Variation'\n\n\n",
            "text/latex": "\\begin{enumerate*}\n\\item 'Simple Nucleotide Variation'\n\\item 'Sequencing Reads'\n\\item 'Biospecimen'\n\\item 'Clinical'\n\\item 'Copy Number Variation'\n\\item 'Transcriptome Profiling'\n\\item 'DNA Methylation'\n\\item 'Proteome Profiling'\n\\item 'Somatic Structural Variation'\n\\item 'Structural Variation'\n\\end{enumerate*}\n",
            "text/plain": [
              " [1] \"Simple Nucleotide Variation\"  \"Sequencing Reads\"            \n",
              " [3] \"Biospecimen\"                  \"Clinical\"                    \n",
              " [5] \"Copy Number Variation\"        \"Transcriptome Profiling\"     \n",
              " [7] \"DNA Methylation\"              \"Proteome Profiling\"          \n",
              " [9] \"Somatic Structural Variation\" \"Structural Variation\"        "
            ]
          },
          "metadata": {}
        }
      ],
      "source": [
        "summary$data_categories$data_category"
      ]
    },
    {
      "cell_type": "markdown",
      "metadata": {
        "id": "kHmr0pkn-1bE"
      },
      "source": [
        "### **Download Gene expression data for DGA between IDH statuses**"
      ]
    },
    {
      "cell_type": "code",
      "execution_count": 5,
      "metadata": {
        "colab": {
          "base_uri": "https://localhost:8080/"
        },
        "collapsed": true,
        "id": "Vwoc04DY-0eA",
        "outputId": "08872412-eeb1-424b-da96-8bdf7765904e"
      },
      "outputs": [
        {
          "output_type": "stream",
          "name": "stderr",
          "text": [
            "--------------------------------------\n",
            "\n",
            "o GDCquery: Searching in GDC database\n",
            "\n",
            "--------------------------------------\n",
            "\n",
            "Genome of reference: hg38\n",
            "\n",
            "--------------------------------------------\n",
            "\n",
            "oo Accessing GDC. This might take a while...\n",
            "\n",
            "--------------------------------------------\n",
            "\n",
            "ooo Project: TCGA-LGG\n",
            "\n",
            "--------------------\n",
            "\n",
            "oo Filtering results\n",
            "\n",
            "--------------------\n",
            "\n",
            "ooo By access\n",
            "\n",
            "ooo By experimental.strategy\n",
            "\n",
            "ooo By workflow.type\n",
            "\n",
            "----------------\n",
            "\n",
            "oo Checking data\n",
            "\n",
            "----------------\n",
            "\n",
            "ooo Checking if there are duplicated cases\n",
            "\n",
            "ooo Checking if there are results for the query\n",
            "\n",
            "-------------------\n",
            "\n",
            "o Preparing output\n",
            "\n",
            "-------------------\n",
            "\n"
          ]
        }
      ],
      "source": [
        "# Query for RNA-seq gene expression data for LGG\n",
        "query_DGE_TCGA <- GDCquery(project = \"TCGA-LGG\",\n",
        "                       data.category = \"Transcriptome Profiling\",\n",
        "                       experimental.strategy = \"RNA-Seq\",\n",
        "                       workflow.type = \"STAR - Counts\",\n",
        "                       access = \"open\")"
      ]
    },
    {
      "cell_type": "code",
      "execution_count": 6,
      "metadata": {
        "colab": {
          "base_uri": "https://localhost:8080/",
          "height": 286
        },
        "id": "zsujphbNyOz-",
        "outputId": "f6bab946-26d8-4cda-bd5f-d7d9abd5d034"
      },
      "outputs": [
        {
          "output_type": "display_data",
          "data": {
            "text/html": [
              "<table class=\"dataframe\">\n",
              "<caption>A data.frame: 6 × 2</caption>\n",
              "<thead>\n",
              "\t<tr><th></th><th scope=col>sample_names</th><th scope=col>sample_type</th></tr>\n",
              "\t<tr><th></th><th scope=col>&lt;chr&gt;</th><th scope=col>&lt;chr&gt;</th></tr>\n",
              "</thead>\n",
              "<tbody>\n",
              "\t<tr><th scope=row>1</th><td>TCGA-E1-A7YQ-01A-11R-A34R-07</td><td>Primary Tumor</td></tr>\n",
              "\t<tr><th scope=row>2</th><td>TCGA-S9-A7QW-01A-11R-A34F-07</td><td>Primary Tumor</td></tr>\n",
              "\t<tr><th scope=row>3</th><td>TCGA-FG-A4MU-01B-11R-A28M-07</td><td>Primary Tumor</td></tr>\n",
              "\t<tr><th scope=row>4</th><td>TCGA-QH-A6CU-01A-11R-A31N-07</td><td>Primary Tumor</td></tr>\n",
              "\t<tr><th scope=row>5</th><td>TCGA-DU-8162-01A-21R-2256-07</td><td>Primary Tumor</td></tr>\n",
              "\t<tr><th scope=row>6</th><td>TCGA-S9-A7R8-01A-11R-A34R-07</td><td>Primary Tumor</td></tr>\n",
              "</tbody>\n",
              "</table>\n"
            ],
            "text/markdown": "\nA data.frame: 6 × 2\n\n| <!--/--> | sample_names &lt;chr&gt; | sample_type &lt;chr&gt; |\n|---|---|---|\n| 1 | TCGA-E1-A7YQ-01A-11R-A34R-07 | Primary Tumor |\n| 2 | TCGA-S9-A7QW-01A-11R-A34F-07 | Primary Tumor |\n| 3 | TCGA-FG-A4MU-01B-11R-A28M-07 | Primary Tumor |\n| 4 | TCGA-QH-A6CU-01A-11R-A31N-07 | Primary Tumor |\n| 5 | TCGA-DU-8162-01A-21R-2256-07 | Primary Tumor |\n| 6 | TCGA-S9-A7R8-01A-11R-A34R-07 | Primary Tumor |\n\n",
            "text/latex": "A data.frame: 6 × 2\n\\begin{tabular}{r|ll}\n  & sample\\_names & sample\\_type\\\\\n  & <chr> & <chr>\\\\\n\\hline\n\t1 & TCGA-E1-A7YQ-01A-11R-A34R-07 & Primary Tumor\\\\\n\t2 & TCGA-S9-A7QW-01A-11R-A34F-07 & Primary Tumor\\\\\n\t3 & TCGA-FG-A4MU-01B-11R-A28M-07 & Primary Tumor\\\\\n\t4 & TCGA-QH-A6CU-01A-11R-A31N-07 & Primary Tumor\\\\\n\t5 & TCGA-DU-8162-01A-21R-2256-07 & Primary Tumor\\\\\n\t6 & TCGA-S9-A7R8-01A-11R-A34R-07 & Primary Tumor\\\\\n\\end{tabular}\n",
            "text/plain": [
              "  sample_names                 sample_type  \n",
              "1 TCGA-E1-A7YQ-01A-11R-A34R-07 Primary Tumor\n",
              "2 TCGA-S9-A7QW-01A-11R-A34F-07 Primary Tumor\n",
              "3 TCGA-FG-A4MU-01B-11R-A28M-07 Primary Tumor\n",
              "4 TCGA-QH-A6CU-01A-11R-A31N-07 Primary Tumor\n",
              "5 TCGA-DU-8162-01A-21R-2256-07 Primary Tumor\n",
              "6 TCGA-S9-A7R8-01A-11R-A34R-07 Primary Tumor"
            ]
          },
          "metadata": {}
        }
      ],
      "source": [
        "#get results of the query\n",
        "output_query_DGE_TCGA <- getResults(query_DGE_TCGA)\n",
        "\n",
        "#generate DGE metadata\n",
        "DGE_metadata <- data.frame(\"sample_names\"=output_query_DGE_TCGA$cases,\"sample_type\"=output_query_DGE_TCGA$sample_type)\n",
        "\n",
        "#write metadata to file\n",
        "write.csv(DGE_metadata,\"DGE_metadata.csv\")\n",
        "\n",
        "head(DGE_metadata)"
      ]
    },
    {
      "cell_type": "code",
      "execution_count": 7,
      "metadata": {
        "colab": {
          "base_uri": "https://localhost:8080/"
        },
        "id": "Yi4hNcxv--iT",
        "outputId": "b41e000f-ba9d-41f1-c0d1-c6b43d1202b8"
      },
      "outputs": [
        {
          "output_type": "stream",
          "name": "stderr",
          "text": [
            "Downloading data for project TCGA-LGG\n",
            "\n",
            "GDCdownload will download 534 files. A total of 2.267094301 GB\n",
            "\n",
            "The total size of files is big. We will download files in chunks\n",
            "\n",
            "Downloading chunk 1 of 3 (235 files, size = 997.720977 MB) as Mon_Oct__7_21_10_15_2024_0.tar.gz\n",
            "\n"
          ]
        },
        {
          "output_type": "stream",
          "name": "stdout",
          "text": [
            "Downloading: 250 MB     "
          ]
        },
        {
          "output_type": "stream",
          "name": "stderr",
          "text": [
            "Downloading chunk 2 of 3 (235 files, size = 997.728398 MB) as Mon_Oct__7_21_10_15_2024_1.tar.gz\n",
            "\n"
          ]
        },
        {
          "output_type": "stream",
          "name": "stdout",
          "text": [
            "Downloading: 250 MB     "
          ]
        },
        {
          "output_type": "stream",
          "name": "stderr",
          "text": [
            "Downloading chunk 3 of 3 (64 files, size = 271.644926 MB) as Mon_Oct__7_21_10_15_2024_2.tar.gz\n",
            "\n"
          ]
        },
        {
          "output_type": "stream",
          "name": "stdout",
          "text": [
            "Downloading: 67 MB     "
          ]
        }
      ],
      "source": [
        "# Download the gene expression data\n",
        "GDCdownload(query_DGE_TCGA)"
      ]
    },
    {
      "cell_type": "code",
      "execution_count": 8,
      "metadata": {
        "colab": {
          "base_uri": "https://localhost:8080/"
        },
        "id": "XbEGXxJW_BOq",
        "outputId": "3449107a-1b67-4e35-897d-6e8bfbd9ff81"
      },
      "outputs": [
        {
          "output_type": "stream",
          "name": "stdout",
          "text": [
            "|====================================================|100%                      Completed after 24 s \n"
          ]
        },
        {
          "output_type": "stream",
          "name": "stderr",
          "text": [
            "Starting to add information to samples\n",
            "\n",
            " => Add clinical information to samples\n",
            "\n",
            " => Adding TCGA molecular information from marker papers\n",
            "\n",
            " => Information will have prefix 'paper_' \n",
            "\n",
            "lgg subtype information from:doi:10.1016/j.cell.2015.12.028\n",
            "\n",
            "Available assays in SummarizedExperiment : \n",
            "  => unstranded\n",
            "  => stranded_first\n",
            "  => stranded_second\n",
            "  => tpm_unstrand\n",
            "  => fpkm_unstrand\n",
            "  => fpkm_uq_unstrand\n",
            "\n"
          ]
        }
      ],
      "source": [
        "# Prepare the gene expression data\n",
        "expression_data <- GDCprepare(query_DGE_TCGA)\n",
        "\n",
        "DEA_matrix <- assay(expression_data, \"unstranded\")\n",
        "\n"
      ]
    },
    {
      "cell_type": "code",
      "source": [
        "write.csv(DEA_matrix, \"LGG_rawdata_DGE.csv\")"
      ],
      "metadata": {
        "id": "gbK454oZ4ZcM"
      },
      "execution_count": 13,
      "outputs": []
    },
    {
      "cell_type": "code",
      "source": [
        "expression_data$paper_IDH.status"
      ],
      "metadata": {
        "colab": {
          "base_uri": "https://localhost:8080/",
          "height": 416
        },
        "id": "3be0lBtF4N1Z",
        "outputId": "d08c1b02-22d7-45fd-dfef-fb7449ca7b6d"
      },
      "execution_count": 9,
      "outputs": [
        {
          "output_type": "display_data",
          "data": {
            "text/html": [
              "<style>\n",
              ".list-inline {list-style: none; margin:0; padding: 0}\n",
              ".list-inline>li {display: inline-block}\n",
              ".list-inline>li:not(:last-child)::after {content: \"\\00b7\"; padding: 0 .5ex}\n",
              "</style>\n",
              "<ol class=list-inline><li>WT</li><li>Mutant</li><li>WT</li><li>Mutant</li><li>WT</li><li>Mutant</li><li>Mutant</li><li>Mutant</li><li>Mutant</li><li>Mutant</li><li>Mutant</li><li>WT</li><li>Mutant</li><li>Mutant</li><li>Mutant</li><li>Mutant</li><li>Mutant</li><li>Mutant</li><li>WT</li><li>Mutant</li><li>Mutant</li><li>Mutant</li><li>WT</li><li>WT</li><li>Mutant</li><li>WT</li><li>Mutant</li><li>Mutant</li><li>WT</li><li>Mutant</li><li>Mutant</li><li>Mutant</li><li>Mutant</li><li>Mutant</li><li>WT</li><li>Mutant</li><li>Mutant</li><li>WT</li><li>WT</li><li>Mutant</li><li>Mutant</li><li>WT</li><li>Mutant</li><li>Mutant</li><li>WT</li><li>Mutant</li><li>WT</li><li>Mutant</li><li>WT</li><li>Mutant</li><li>WT</li><li>WT</li><li>Mutant</li><li>Mutant</li><li>Mutant</li><li>Mutant</li><li>WT</li><li>&lt;NA&gt;</li><li>Mutant</li><li>Mutant</li><li>Mutant</li><li>WT</li><li>Mutant</li><li>Mutant</li><li>WT</li><li>Mutant</li><li>Mutant</li><li>&lt;NA&gt;</li><li>Mutant</li><li>WT</li><li>Mutant</li><li>Mutant</li><li>Mutant</li><li>Mutant</li><li>Mutant</li><li>Mutant</li><li>WT</li><li>Mutant</li><li>Mutant</li><li>Mutant</li><li>Mutant</li><li>Mutant</li><li>Mutant</li><li>WT</li><li>WT</li><li>Mutant</li><li>Mutant</li><li>Mutant</li><li>&lt;NA&gt;</li><li>Mutant</li><li>Mutant</li><li>Mutant</li><li>WT</li><li>Mutant</li><li>Mutant</li><li>WT</li><li>Mutant</li><li>WT</li><li>Mutant</li><li>Mutant</li><li>Mutant</li><li>Mutant</li><li>WT</li><li>WT</li><li>Mutant</li><li>Mutant</li><li>Mutant</li><li>Mutant</li><li>Mutant</li><li>Mutant</li><li>Mutant</li><li>Mutant</li><li>WT</li><li>Mutant</li><li>Mutant</li><li>Mutant</li><li>Mutant</li><li>Mutant</li><li>Mutant</li><li>Mutant</li><li>Mutant</li><li>Mutant</li><li>Mutant</li><li>Mutant</li><li>Mutant</li><li>Mutant</li><li>Mutant</li><li>Mutant</li><li>Mutant</li><li>Mutant</li><li>Mutant</li><li>Mutant</li><li>Mutant</li><li>Mutant</li><li>Mutant</li><li>WT</li><li>Mutant</li><li>Mutant</li><li>WT</li><li>&lt;NA&gt;</li><li>&lt;NA&gt;</li><li>Mutant</li><li>Mutant</li><li>Mutant</li><li>Mutant</li><li>Mutant</li><li>Mutant</li><li>Mutant</li><li>Mutant</li><li>WT</li><li>Mutant</li><li>Mutant</li><li>Mutant</li><li>Mutant</li><li>Mutant</li><li>Mutant</li><li>Mutant</li><li>Mutant</li><li>Mutant</li><li>Mutant</li><li>Mutant</li><li>Mutant</li><li>WT</li><li>Mutant</li><li>Mutant</li><li>Mutant</li><li>Mutant</li><li>WT</li><li>Mutant</li><li>Mutant</li><li>Mutant</li><li>&lt;NA&gt;</li><li>&lt;NA&gt;</li><li>Mutant</li><li>Mutant</li><li>Mutant</li><li>WT</li><li>Mutant</li><li>Mutant</li><li>Mutant</li><li>WT</li><li>Mutant</li><li>WT</li><li>WT</li><li>Mutant</li><li>Mutant</li><li>WT</li><li>WT</li><li>Mutant</li><li>Mutant</li><li>Mutant</li><li>Mutant</li><li>Mutant</li><li>Mutant</li><li>Mutant</li><li>Mutant</li><li>Mutant</li><li>WT</li><li>Mutant</li><li>Mutant</li><li>⋯</li><li>Mutant</li><li>&lt;NA&gt;</li><li>WT</li><li>Mutant</li><li>Mutant</li><li>Mutant</li><li>&lt;NA&gt;</li><li>Mutant</li><li>Mutant</li><li>Mutant</li><li>Mutant</li><li>Mutant</li><li>Mutant</li><li>Mutant</li><li>Mutant</li><li>&lt;NA&gt;</li><li>Mutant</li><li>Mutant</li><li>Mutant</li><li>WT</li><li>Mutant</li><li>Mutant</li><li>Mutant</li><li>WT</li><li>Mutant</li><li>Mutant</li><li>Mutant</li><li>WT</li><li>Mutant</li><li>Mutant</li><li>Mutant</li><li>Mutant</li><li>Mutant</li><li>Mutant</li><li>WT</li><li>Mutant</li><li>Mutant</li><li>WT</li><li>Mutant</li><li>Mutant</li><li>Mutant</li><li>Mutant</li><li>Mutant</li><li>Mutant</li><li>WT</li><li>Mutant</li><li>Mutant</li><li>Mutant</li><li>Mutant</li><li>Mutant</li><li>Mutant</li><li>Mutant</li><li>WT</li><li>WT</li><li>Mutant</li><li>Mutant</li><li>Mutant</li><li>Mutant</li><li>Mutant</li><li>Mutant</li><li>Mutant</li><li>Mutant</li><li>Mutant</li><li>Mutant</li><li>Mutant</li><li>Mutant</li><li>Mutant</li><li>Mutant</li><li>Mutant</li><li>Mutant</li><li>Mutant</li><li>Mutant</li><li>Mutant</li><li>Mutant</li><li>Mutant</li><li>Mutant</li><li>WT</li><li>Mutant</li><li>Mutant</li><li>Mutant</li><li>Mutant</li><li>Mutant</li><li>Mutant</li><li>Mutant</li><li>WT</li><li>WT</li><li>Mutant</li><li>Mutant</li><li>Mutant</li><li>Mutant</li><li>Mutant</li><li>WT</li><li>Mutant</li><li>WT</li><li>Mutant</li><li>Mutant</li><li>Mutant</li><li>Mutant</li><li>Mutant</li><li>Mutant</li><li>Mutant</li><li>Mutant</li><li>Mutant</li><li>WT</li><li>Mutant</li><li>Mutant</li><li>Mutant</li><li>Mutant</li><li>Mutant</li><li>Mutant</li><li>Mutant</li><li>Mutant</li><li>WT</li><li>WT</li><li>WT</li><li>Mutant</li><li>Mutant</li><li>Mutant</li><li>Mutant</li><li>Mutant</li><li>Mutant</li><li>WT</li><li>WT</li><li>Mutant</li><li>Mutant</li><li>Mutant</li><li>Mutant</li><li>WT</li><li>Mutant</li><li>WT</li><li>WT</li><li>WT</li><li>Mutant</li><li>Mutant</li><li>Mutant</li><li>Mutant</li><li>Mutant</li><li>Mutant</li><li>Mutant</li><li>WT</li><li>Mutant</li><li>Mutant</li><li>Mutant</li><li>Mutant</li><li>Mutant</li><li>Mutant</li><li>Mutant</li><li>Mutant</li><li>Mutant</li><li>Mutant</li><li>Mutant</li><li>Mutant</li><li>Mutant</li><li>Mutant</li><li>Mutant</li><li>Mutant</li><li>Mutant</li><li>Mutant</li><li>Mutant</li><li>WT</li><li>WT</li><li>WT</li><li>Mutant</li><li>Mutant</li><li>&lt;NA&gt;</li><li>Mutant</li><li>Mutant</li><li>Mutant</li><li>Mutant</li><li>Mutant</li><li>Mutant</li><li>Mutant</li><li>Mutant</li><li>Mutant</li><li>Mutant</li><li>WT</li><li>Mutant</li><li>Mutant</li><li>WT</li><li>WT</li><li>Mutant</li><li>WT</li><li>Mutant</li><li>Mutant</li><li>Mutant</li><li>Mutant</li><li>Mutant</li><li>Mutant</li><li>Mutant</li><li>Mutant</li><li>Mutant</li><li>Mutant</li><li>WT</li><li>WT</li><li>Mutant</li><li>WT</li><li>Mutant</li><li>Mutant</li><li>Mutant</li><li>Mutant</li></ol>\n",
              "\n",
              "<details>\n",
              "\t<summary style=display:list-item;cursor:pointer>\n",
              "\t\t<strong>Levels</strong>:\n",
              "\t</summary>\n",
              "\t<style>\n",
              "\t.list-inline {list-style: none; margin:0; padding: 0}\n",
              "\t.list-inline>li {display: inline-block}\n",
              "\t.list-inline>li:not(:last-child)::after {content: \"\\00b7\"; padding: 0 .5ex}\n",
              "\t</style>\n",
              "\t<ol class=list-inline><li>'Mutant'</li><li>'WT'</li></ol>\n",
              "</details>"
            ],
            "text/markdown": "1. WT\n2. Mutant\n3. WT\n4. Mutant\n5. WT\n6. Mutant\n7. Mutant\n8. Mutant\n9. Mutant\n10. Mutant\n11. Mutant\n12. WT\n13. Mutant\n14. Mutant\n15. Mutant\n16. Mutant\n17. Mutant\n18. Mutant\n19. WT\n20. Mutant\n21. Mutant\n22. Mutant\n23. WT\n24. WT\n25. Mutant\n26. WT\n27. Mutant\n28. Mutant\n29. WT\n30. Mutant\n31. Mutant\n32. Mutant\n33. Mutant\n34. Mutant\n35. WT\n36. Mutant\n37. Mutant\n38. WT\n39. WT\n40. Mutant\n41. Mutant\n42. WT\n43. Mutant\n44. Mutant\n45. WT\n46. Mutant\n47. WT\n48. Mutant\n49. WT\n50. Mutant\n51. WT\n52. WT\n53. Mutant\n54. Mutant\n55. Mutant\n56. Mutant\n57. WT\n58. &lt;NA&gt;\n59. Mutant\n60. Mutant\n61. Mutant\n62. WT\n63. Mutant\n64. Mutant\n65. WT\n66. Mutant\n67. Mutant\n68. &lt;NA&gt;\n69. Mutant\n70. WT\n71. Mutant\n72. Mutant\n73. Mutant\n74. Mutant\n75. Mutant\n76. Mutant\n77. WT\n78. Mutant\n79. Mutant\n80. Mutant\n81. Mutant\n82. Mutant\n83. Mutant\n84. WT\n85. WT\n86. Mutant\n87. Mutant\n88. Mutant\n89. &lt;NA&gt;\n90. Mutant\n91. Mutant\n92. Mutant\n93. WT\n94. Mutant\n95. Mutant\n96. WT\n97. Mutant\n98. WT\n99. Mutant\n100. Mutant\n101. Mutant\n102. Mutant\n103. WT\n104. WT\n105. Mutant\n106. Mutant\n107. Mutant\n108. Mutant\n109. Mutant\n110. Mutant\n111. Mutant\n112. Mutant\n113. WT\n114. Mutant\n115. Mutant\n116. Mutant\n117. Mutant\n118. Mutant\n119. Mutant\n120. Mutant\n121. Mutant\n122. Mutant\n123. Mutant\n124. Mutant\n125. Mutant\n126. Mutant\n127. Mutant\n128. Mutant\n129. Mutant\n130. Mutant\n131. Mutant\n132. Mutant\n133. Mutant\n134. Mutant\n135. Mutant\n136. WT\n137. Mutant\n138. Mutant\n139. WT\n140. &lt;NA&gt;\n141. &lt;NA&gt;\n142. Mutant\n143. Mutant\n144. Mutant\n145. Mutant\n146. Mutant\n147. Mutant\n148. Mutant\n149. Mutant\n150. WT\n151. Mutant\n152. Mutant\n153. Mutant\n154. Mutant\n155. Mutant\n156. Mutant\n157. Mutant\n158. Mutant\n159. Mutant\n160. Mutant\n161. Mutant\n162. Mutant\n163. WT\n164. Mutant\n165. Mutant\n166. Mutant\n167. Mutant\n168. WT\n169. Mutant\n170. Mutant\n171. Mutant\n172. &lt;NA&gt;\n173. &lt;NA&gt;\n174. Mutant\n175. Mutant\n176. Mutant\n177. WT\n178. Mutant\n179. Mutant\n180. Mutant\n181. WT\n182. Mutant\n183. WT\n184. WT\n185. Mutant\n186. Mutant\n187. WT\n188. WT\n189. Mutant\n190. Mutant\n191. Mutant\n192. Mutant\n193. Mutant\n194. Mutant\n195. Mutant\n196. Mutant\n197. Mutant\n198. WT\n199. Mutant\n200. Mutant\n201. ⋯\n202. Mutant\n203. &lt;NA&gt;\n204. WT\n205. Mutant\n206. Mutant\n207. Mutant\n208. &lt;NA&gt;\n209. Mutant\n210. Mutant\n211. Mutant\n212. Mutant\n213. Mutant\n214. Mutant\n215. Mutant\n216. Mutant\n217. &lt;NA&gt;\n218. Mutant\n219. Mutant\n220. Mutant\n221. WT\n222. Mutant\n223. Mutant\n224. Mutant\n225. WT\n226. Mutant\n227. Mutant\n228. Mutant\n229. WT\n230. Mutant\n231. Mutant\n232. Mutant\n233. Mutant\n234. Mutant\n235. Mutant\n236. WT\n237. Mutant\n238. Mutant\n239. WT\n240. Mutant\n241. Mutant\n242. Mutant\n243. Mutant\n244. Mutant\n245. Mutant\n246. WT\n247. Mutant\n248. Mutant\n249. Mutant\n250. Mutant\n251. Mutant\n252. Mutant\n253. Mutant\n254. WT\n255. WT\n256. Mutant\n257. Mutant\n258. Mutant\n259. Mutant\n260. Mutant\n261. Mutant\n262. Mutant\n263. Mutant\n264. Mutant\n265. Mutant\n266. Mutant\n267. Mutant\n268. Mutant\n269. Mutant\n270. Mutant\n271. Mutant\n272. Mutant\n273. Mutant\n274. Mutant\n275. Mutant\n276. Mutant\n277. Mutant\n278. WT\n279. Mutant\n280. Mutant\n281. Mutant\n282. Mutant\n283. Mutant\n284. Mutant\n285. Mutant\n286. WT\n287. WT\n288. Mutant\n289. Mutant\n290. Mutant\n291. Mutant\n292. Mutant\n293. WT\n294. Mutant\n295. WT\n296. Mutant\n297. Mutant\n298. Mutant\n299. Mutant\n300. Mutant\n301. Mutant\n302. Mutant\n303. Mutant\n304. Mutant\n305. WT\n306. Mutant\n307. Mutant\n308. Mutant\n309. Mutant\n310. Mutant\n311. Mutant\n312. Mutant\n313. Mutant\n314. WT\n315. WT\n316. WT\n317. Mutant\n318. Mutant\n319. Mutant\n320. Mutant\n321. Mutant\n322. Mutant\n323. WT\n324. WT\n325. Mutant\n326. Mutant\n327. Mutant\n328. Mutant\n329. WT\n330. Mutant\n331. WT\n332. WT\n333. WT\n334. Mutant\n335. Mutant\n336. Mutant\n337. Mutant\n338. Mutant\n339. Mutant\n340. Mutant\n341. WT\n342. Mutant\n343. Mutant\n344. Mutant\n345. Mutant\n346. Mutant\n347. Mutant\n348. Mutant\n349. Mutant\n350. Mutant\n351. Mutant\n352. Mutant\n353. Mutant\n354. Mutant\n355. Mutant\n356. Mutant\n357. Mutant\n358. Mutant\n359. Mutant\n360. Mutant\n361. WT\n362. WT\n363. WT\n364. Mutant\n365. Mutant\n366. &lt;NA&gt;\n367. Mutant\n368. Mutant\n369. Mutant\n370. Mutant\n371. Mutant\n372. Mutant\n373. Mutant\n374. Mutant\n375. Mutant\n376. Mutant\n377. WT\n378. Mutant\n379. Mutant\n380. WT\n381. WT\n382. Mutant\n383. WT\n384. Mutant\n385. Mutant\n386. Mutant\n387. Mutant\n388. Mutant\n389. Mutant\n390. Mutant\n391. Mutant\n392. Mutant\n393. Mutant\n394. WT\n395. WT\n396. Mutant\n397. WT\n398. Mutant\n399. Mutant\n400. Mutant\n401. Mutant\n\n\n\n**Levels**: 1. 'Mutant'\n2. 'WT'\n\n\n",
            "text/latex": "\\begin{enumerate*}\n\\item WT\n\\item Mutant\n\\item WT\n\\item Mutant\n\\item WT\n\\item Mutant\n\\item Mutant\n\\item Mutant\n\\item Mutant\n\\item Mutant\n\\item Mutant\n\\item WT\n\\item Mutant\n\\item Mutant\n\\item Mutant\n\\item Mutant\n\\item Mutant\n\\item Mutant\n\\item WT\n\\item Mutant\n\\item Mutant\n\\item Mutant\n\\item WT\n\\item WT\n\\item Mutant\n\\item WT\n\\item Mutant\n\\item Mutant\n\\item WT\n\\item Mutant\n\\item Mutant\n\\item Mutant\n\\item Mutant\n\\item Mutant\n\\item WT\n\\item Mutant\n\\item Mutant\n\\item WT\n\\item WT\n\\item Mutant\n\\item Mutant\n\\item WT\n\\item Mutant\n\\item Mutant\n\\item WT\n\\item Mutant\n\\item WT\n\\item Mutant\n\\item WT\n\\item Mutant\n\\item WT\n\\item WT\n\\item Mutant\n\\item Mutant\n\\item Mutant\n\\item Mutant\n\\item WT\n\\item <NA>\n\\item Mutant\n\\item Mutant\n\\item Mutant\n\\item WT\n\\item Mutant\n\\item Mutant\n\\item WT\n\\item Mutant\n\\item Mutant\n\\item <NA>\n\\item Mutant\n\\item WT\n\\item Mutant\n\\item Mutant\n\\item Mutant\n\\item Mutant\n\\item Mutant\n\\item Mutant\n\\item WT\n\\item Mutant\n\\item Mutant\n\\item Mutant\n\\item Mutant\n\\item Mutant\n\\item Mutant\n\\item WT\n\\item WT\n\\item Mutant\n\\item Mutant\n\\item Mutant\n\\item <NA>\n\\item Mutant\n\\item Mutant\n\\item Mutant\n\\item WT\n\\item Mutant\n\\item Mutant\n\\item WT\n\\item Mutant\n\\item WT\n\\item Mutant\n\\item Mutant\n\\item Mutant\n\\item Mutant\n\\item WT\n\\item WT\n\\item Mutant\n\\item Mutant\n\\item Mutant\n\\item Mutant\n\\item Mutant\n\\item Mutant\n\\item Mutant\n\\item Mutant\n\\item WT\n\\item Mutant\n\\item Mutant\n\\item Mutant\n\\item Mutant\n\\item Mutant\n\\item Mutant\n\\item Mutant\n\\item Mutant\n\\item Mutant\n\\item Mutant\n\\item Mutant\n\\item Mutant\n\\item Mutant\n\\item Mutant\n\\item Mutant\n\\item Mutant\n\\item Mutant\n\\item Mutant\n\\item Mutant\n\\item Mutant\n\\item Mutant\n\\item Mutant\n\\item WT\n\\item Mutant\n\\item Mutant\n\\item WT\n\\item <NA>\n\\item <NA>\n\\item Mutant\n\\item Mutant\n\\item Mutant\n\\item Mutant\n\\item Mutant\n\\item Mutant\n\\item Mutant\n\\item Mutant\n\\item WT\n\\item Mutant\n\\item Mutant\n\\item Mutant\n\\item Mutant\n\\item Mutant\n\\item Mutant\n\\item Mutant\n\\item Mutant\n\\item Mutant\n\\item Mutant\n\\item Mutant\n\\item Mutant\n\\item WT\n\\item Mutant\n\\item Mutant\n\\item Mutant\n\\item Mutant\n\\item WT\n\\item Mutant\n\\item Mutant\n\\item Mutant\n\\item <NA>\n\\item <NA>\n\\item Mutant\n\\item Mutant\n\\item Mutant\n\\item WT\n\\item Mutant\n\\item Mutant\n\\item Mutant\n\\item WT\n\\item Mutant\n\\item WT\n\\item WT\n\\item Mutant\n\\item Mutant\n\\item WT\n\\item WT\n\\item Mutant\n\\item Mutant\n\\item Mutant\n\\item Mutant\n\\item Mutant\n\\item Mutant\n\\item Mutant\n\\item Mutant\n\\item Mutant\n\\item WT\n\\item Mutant\n\\item Mutant\n\\item ⋯\n\\item Mutant\n\\item <NA>\n\\item WT\n\\item Mutant\n\\item Mutant\n\\item Mutant\n\\item <NA>\n\\item Mutant\n\\item Mutant\n\\item Mutant\n\\item Mutant\n\\item Mutant\n\\item Mutant\n\\item Mutant\n\\item Mutant\n\\item <NA>\n\\item Mutant\n\\item Mutant\n\\item Mutant\n\\item WT\n\\item Mutant\n\\item Mutant\n\\item Mutant\n\\item WT\n\\item Mutant\n\\item Mutant\n\\item Mutant\n\\item WT\n\\item Mutant\n\\item Mutant\n\\item Mutant\n\\item Mutant\n\\item Mutant\n\\item Mutant\n\\item WT\n\\item Mutant\n\\item Mutant\n\\item WT\n\\item Mutant\n\\item Mutant\n\\item Mutant\n\\item Mutant\n\\item Mutant\n\\item Mutant\n\\item WT\n\\item Mutant\n\\item Mutant\n\\item Mutant\n\\item Mutant\n\\item Mutant\n\\item Mutant\n\\item Mutant\n\\item WT\n\\item WT\n\\item Mutant\n\\item Mutant\n\\item Mutant\n\\item Mutant\n\\item Mutant\n\\item Mutant\n\\item Mutant\n\\item Mutant\n\\item Mutant\n\\item Mutant\n\\item Mutant\n\\item Mutant\n\\item Mutant\n\\item Mutant\n\\item Mutant\n\\item Mutant\n\\item Mutant\n\\item Mutant\n\\item Mutant\n\\item Mutant\n\\item Mutant\n\\item Mutant\n\\item WT\n\\item Mutant\n\\item Mutant\n\\item Mutant\n\\item Mutant\n\\item Mutant\n\\item Mutant\n\\item Mutant\n\\item WT\n\\item WT\n\\item Mutant\n\\item Mutant\n\\item Mutant\n\\item Mutant\n\\item Mutant\n\\item WT\n\\item Mutant\n\\item WT\n\\item Mutant\n\\item Mutant\n\\item Mutant\n\\item Mutant\n\\item Mutant\n\\item Mutant\n\\item Mutant\n\\item Mutant\n\\item Mutant\n\\item WT\n\\item Mutant\n\\item Mutant\n\\item Mutant\n\\item Mutant\n\\item Mutant\n\\item Mutant\n\\item Mutant\n\\item Mutant\n\\item WT\n\\item WT\n\\item WT\n\\item Mutant\n\\item Mutant\n\\item Mutant\n\\item Mutant\n\\item Mutant\n\\item Mutant\n\\item WT\n\\item WT\n\\item Mutant\n\\item Mutant\n\\item Mutant\n\\item Mutant\n\\item WT\n\\item Mutant\n\\item WT\n\\item WT\n\\item WT\n\\item Mutant\n\\item Mutant\n\\item Mutant\n\\item Mutant\n\\item Mutant\n\\item Mutant\n\\item Mutant\n\\item WT\n\\item Mutant\n\\item Mutant\n\\item Mutant\n\\item Mutant\n\\item Mutant\n\\item Mutant\n\\item Mutant\n\\item Mutant\n\\item Mutant\n\\item Mutant\n\\item Mutant\n\\item Mutant\n\\item Mutant\n\\item Mutant\n\\item Mutant\n\\item Mutant\n\\item Mutant\n\\item Mutant\n\\item Mutant\n\\item WT\n\\item WT\n\\item WT\n\\item Mutant\n\\item Mutant\n\\item <NA>\n\\item Mutant\n\\item Mutant\n\\item Mutant\n\\item Mutant\n\\item Mutant\n\\item Mutant\n\\item Mutant\n\\item Mutant\n\\item Mutant\n\\item Mutant\n\\item WT\n\\item Mutant\n\\item Mutant\n\\item WT\n\\item WT\n\\item Mutant\n\\item WT\n\\item Mutant\n\\item Mutant\n\\item Mutant\n\\item Mutant\n\\item Mutant\n\\item Mutant\n\\item Mutant\n\\item Mutant\n\\item Mutant\n\\item Mutant\n\\item WT\n\\item WT\n\\item Mutant\n\\item WT\n\\item Mutant\n\\item Mutant\n\\item Mutant\n\\item Mutant\n\\end{enumerate*}\n\n\\emph{Levels}: \\begin{enumerate*}\n\\item 'Mutant'\n\\item 'WT'\n\\end{enumerate*}\n",
            "text/plain": [
              "  [1] WT     Mutant WT     Mutant WT     Mutant Mutant Mutant Mutant Mutant\n",
              " [11] Mutant WT     Mutant Mutant Mutant Mutant Mutant Mutant WT     Mutant\n",
              " [21] Mutant Mutant WT     WT     Mutant WT     Mutant Mutant WT     Mutant\n",
              " [31] Mutant Mutant Mutant Mutant WT     Mutant Mutant WT     WT     Mutant\n",
              " [41] Mutant WT     Mutant Mutant WT     Mutant WT     Mutant WT     Mutant\n",
              " [51] WT     WT     Mutant Mutant Mutant Mutant WT     <NA>   Mutant Mutant\n",
              " [61] Mutant WT     Mutant Mutant WT     Mutant Mutant <NA>   Mutant WT    \n",
              " [71] Mutant Mutant Mutant Mutant Mutant Mutant WT     Mutant Mutant Mutant\n",
              " [81] Mutant Mutant Mutant WT     WT     Mutant Mutant Mutant <NA>   Mutant\n",
              " [91] Mutant Mutant WT     Mutant Mutant WT     Mutant WT     Mutant Mutant\n",
              "[101] Mutant Mutant WT     WT     Mutant Mutant Mutant Mutant Mutant Mutant\n",
              "[111] Mutant Mutant WT     Mutant Mutant Mutant Mutant Mutant Mutant Mutant\n",
              "[121] Mutant Mutant Mutant Mutant Mutant Mutant Mutant Mutant Mutant Mutant\n",
              "[131] Mutant Mutant Mutant Mutant Mutant WT     Mutant Mutant WT     <NA>  \n",
              "[141] <NA>   Mutant Mutant Mutant Mutant Mutant Mutant Mutant Mutant WT    \n",
              "[151] Mutant Mutant Mutant Mutant Mutant Mutant Mutant Mutant Mutant Mutant\n",
              "[161] Mutant Mutant WT     Mutant Mutant Mutant Mutant WT     Mutant Mutant\n",
              "[171] Mutant <NA>   <NA>   Mutant Mutant Mutant WT     Mutant Mutant Mutant\n",
              "[181] WT     Mutant WT     WT     Mutant Mutant WT     WT     Mutant Mutant\n",
              "[191] Mutant Mutant Mutant Mutant Mutant Mutant Mutant WT     Mutant Mutant\n",
              "[201] WT     Mutant Mutant WT     Mutant Mutant Mutant Mutant Mutant <NA>  \n",
              "[211] WT     Mutant <NA>   Mutant WT     Mutant Mutant Mutant Mutant Mutant\n",
              "[221] Mutant Mutant Mutant Mutant Mutant WT     Mutant Mutant Mutant Mutant\n",
              "[231] <NA>   WT     Mutant Mutant Mutant Mutant WT     <NA>   Mutant <NA>  \n",
              "[241] Mutant Mutant Mutant Mutant Mutant Mutant Mutant Mutant Mutant Mutant\n",
              "[251] Mutant Mutant Mutant Mutant Mutant Mutant Mutant Mutant Mutant Mutant\n",
              "[261] Mutant Mutant WT     <NA>   WT     Mutant Mutant Mutant Mutant <NA>  \n",
              "[271] Mutant Mutant Mutant Mutant Mutant Mutant Mutant Mutant Mutant <NA>  \n",
              "[281] Mutant WT     Mutant Mutant Mutant Mutant Mutant Mutant Mutant Mutant\n",
              "[291] Mutant Mutant WT     Mutant <NA>   Mutant Mutant WT     Mutant Mutant\n",
              "[301] Mutant Mutant WT     Mutant Mutant Mutant Mutant Mutant Mutant Mutant\n",
              "[311] Mutant Mutant Mutant WT     Mutant Mutant Mutant <NA>   Mutant Mutant\n",
              "[321] Mutant WT     Mutant Mutant Mutant Mutant Mutant Mutant Mutant Mutant\n",
              "[331] WT     Mutant Mutant Mutant Mutant <NA>   WT     Mutant Mutant Mutant\n",
              "[341] <NA>   Mutant Mutant Mutant Mutant Mutant Mutant Mutant Mutant <NA>  \n",
              "[351] Mutant Mutant Mutant WT     Mutant Mutant Mutant WT     Mutant Mutant\n",
              "[361] Mutant WT     Mutant Mutant Mutant Mutant Mutant Mutant WT     Mutant\n",
              "[371] Mutant WT     Mutant Mutant Mutant Mutant Mutant Mutant WT     Mutant\n",
              "[381] Mutant Mutant Mutant Mutant Mutant Mutant WT     WT     Mutant Mutant\n",
              "[391] Mutant Mutant Mutant Mutant Mutant Mutant Mutant Mutant Mutant Mutant\n",
              "[401] Mutant Mutant Mutant Mutant Mutant Mutant Mutant Mutant Mutant Mutant\n",
              "[411] WT     Mutant Mutant Mutant Mutant Mutant Mutant Mutant WT     WT    \n",
              "[421] Mutant Mutant Mutant Mutant Mutant WT     Mutant WT     Mutant Mutant\n",
              "[431] Mutant Mutant Mutant Mutant Mutant Mutant Mutant WT     Mutant Mutant\n",
              "[441] Mutant Mutant Mutant Mutant Mutant Mutant WT     WT     WT     Mutant\n",
              "[451] Mutant Mutant Mutant Mutant Mutant WT     WT     Mutant Mutant Mutant\n",
              "[461] Mutant WT     Mutant WT     WT     WT     Mutant Mutant Mutant Mutant\n",
              "[471] Mutant Mutant Mutant WT     Mutant Mutant Mutant Mutant Mutant Mutant\n",
              "[481] Mutant Mutant Mutant Mutant Mutant Mutant Mutant Mutant Mutant Mutant\n",
              "[491] Mutant Mutant Mutant WT     WT     WT     Mutant Mutant <NA>   Mutant\n",
              "[501] Mutant Mutant Mutant Mutant Mutant Mutant Mutant Mutant Mutant WT    \n",
              "[511] Mutant Mutant WT     WT     Mutant WT     Mutant Mutant Mutant Mutant\n",
              "[521] Mutant Mutant Mutant Mutant Mutant Mutant WT     WT     Mutant WT    \n",
              "[531] Mutant Mutant Mutant Mutant\n",
              "Levels: Mutant WT"
            ]
          },
          "metadata": {}
        }
      ]
    },
    {
      "cell_type": "markdown",
      "metadata": {
        "id": "v9je4e_5rni9"
      },
      "source": [
        "**Normalize data based on lowly expressed genes**"
      ]
    },
    {
      "cell_type": "code",
      "execution_count": 10,
      "metadata": {
        "colab": {
          "base_uri": "https://localhost:8080/"
        },
        "id": "b624y4CbrnK6",
        "outputId": "d02a91f0-c39c-4b4a-d931-dbc708998c4b"
      },
      "outputs": [
        {
          "output_type": "stream",
          "name": "stderr",
          "text": [
            "I Need about  384 seconds for this Complete Normalization Upper Quantile  [Processing 80k elements /s]  \n",
            "\n",
            "Step 1 of 4: newSeqExpressionSet ...\n",
            "\n",
            "Step 2 of 4: withinLaneNormalization ...\n",
            "\n",
            "Step 3 of 4: betweenLaneNormalization ...\n",
            "\n",
            "Step 4 of 4: exprs ...\n",
            "\n"
          ]
        }
      ],
      "source": [
        "# Normalize data with TCGAanalyze_Normalization\n",
        "DEA_matrix_norm <- TCGAanalyze_Normalization(\n",
        "  tabDF = DEA_matrix,\n",
        "  geneInfo = geneInfoHT,\n",
        "  method = \"geneLength\"\n",
        ")\n"
      ]
    },
    {
      "cell_type": "markdown",
      "metadata": {
        "id": "cdsGKYQhxB6K"
      },
      "source": [
        "**Filter normalized data by checking quantile cutoff**"
      ]
    },
    {
      "cell_type": "code",
      "execution_count": 11,
      "metadata": {
        "id": "153BY4xu031u"
      },
      "outputs": [],
      "source": [
        "# filter coad data\n",
        "DEA_matrix_filter <- TCGAanalyze_Filtering(\n",
        "  tabDF = DEA_matrix_norm,\n",
        "  method = \"quantile\",\n",
        "  qnt.cut = 0.25\n",
        ")\n",
        "\n",
        "\n"
      ]
    },
    {
      "cell_type": "markdown",
      "metadata": {
        "id": "E57ESaXwxQUh"
      },
      "source": [
        "**Transform normalized and filtered data into Log2**"
      ]
    },
    {
      "cell_type": "code",
      "execution_count": 12,
      "metadata": {
        "id": "wd4YyDNzxPJS"
      },
      "outputs": [],
      "source": [
        "DEA_matrix_log2 <- log2(DEA_matrix_filter + 1)\n",
        "write.csv(DEA_matrix_log2, \"DGE_matrix_log2.csv\")"
      ]
    },
    {
      "cell_type": "code",
      "execution_count": 14,
      "metadata": {
        "colab": {
          "base_uri": "https://localhost:8080/",
          "height": 327
        },
        "id": "viwfGiVgPMCt",
        "outputId": "1bf5159e-8794-4904-cb70-f27c88539f7b"
      },
      "outputs": [
        {
          "output_type": "display_data",
          "data": {
            "text/html": [
              "<table class=\"dataframe\">\n",
              "<caption>A matrix: 6 × 534 of type dbl</caption>\n",
              "<thead>\n",
              "\t<tr><th></th><th scope=col>TCGA-E1-A7YQ-01A-11R-A34R-07</th><th scope=col>TCGA-S9-A7QW-01A-11R-A34F-07</th><th scope=col>TCGA-FG-A4MU-01B-11R-A28M-07</th><th scope=col>TCGA-QH-A6CU-01A-11R-A31N-07</th><th scope=col>TCGA-DU-8162-01A-21R-2256-07</th><th scope=col>TCGA-S9-A7R8-01A-11R-A34R-07</th><th scope=col>TCGA-DB-A4XG-01A-11R-A27Q-07</th><th scope=col>TCGA-E1-A7YY-01A-11R-A34R-07</th><th scope=col>TCGA-RY-A840-01A-11R-A36H-07</th><th scope=col>TCGA-S9-A7QZ-01A-12R-A34R-07</th><th scope=col>⋯</th><th scope=col>TCGA-HT-A615-01A-11R-A29R-07</th><th scope=col>TCGA-HT-7468-01A-11R-2027-07</th><th scope=col>TCGA-HT-A4DS-01A-11R-A26U-07</th><th scope=col>TCGA-HT-8107-01A-13R-2404-07</th><th scope=col>TCGA-HT-A5R5-01A-11R-A28M-07</th><th scope=col>TCGA-HT-7860-01A-11R-2403-07</th><th scope=col>TCGA-TM-A84H-01A-11R-A36H-07</th><th scope=col>TCGA-HT-7681-01A-11R-2403-07</th><th scope=col>TCGA-DB-5270-01A-02R-1470-07</th><th scope=col>TCGA-IK-8125-01A-11R-2256-07</th></tr>\n",
              "</thead>\n",
              "<tbody>\n",
              "\t<tr><th scope=row>ENSG00000000003</th><td>11.533816</td><td>11.411511</td><td>12.211888</td><td>11.778488</td><td>10.680360</td><td>10.805744</td><td>11.861475</td><td> 9.413628</td><td>11.154185</td><td>11.144658</td><td>⋯</td><td>11.349834</td><td>12.294046</td><td>10.032046</td><td> 9.590587</td><td>11.661778</td><td>12.270879</td><td>12.130249</td><td>11.424166</td><td>11.598518</td><td>11.793197</td></tr>\n",
              "\t<tr><th scope=row>ENSG00000000005</th><td> 2.584963</td><td> 1.584963</td><td> 4.321928</td><td> 2.807355</td><td> 4.169925</td><td> 3.459432</td><td> 2.000000</td><td> 2.807355</td><td> 1.000000</td><td> 3.321928</td><td>⋯</td><td> 3.169925</td><td> 3.459432</td><td> 0.000000</td><td> 3.169925</td><td> 2.321928</td><td> 1.000000</td><td> 1.584963</td><td> 3.321928</td><td> 5.727920</td><td> 3.807355</td></tr>\n",
              "\t<tr><th scope=row>ENSG00000000419</th><td>10.497852</td><td> 9.842350</td><td>10.688250</td><td> 9.679480</td><td>10.256209</td><td> 9.710806</td><td>10.326429</td><td>10.122828</td><td> 9.891784</td><td>10.002815</td><td>⋯</td><td>10.032046</td><td>10.324181</td><td> 9.372865</td><td>10.136991</td><td> 9.413628</td><td>10.269127</td><td>10.363040</td><td> 9.967226</td><td> 9.949827</td><td>10.360847</td></tr>\n",
              "\t<tr><th scope=row>ENSG00000000457</th><td>10.074141</td><td> 8.654636</td><td> 9.084808</td><td> 8.417853</td><td> 9.623881</td><td> 8.891784</td><td> 9.383704</td><td> 9.098032</td><td> 8.861087</td><td> 9.537218</td><td>⋯</td><td> 9.209453</td><td> 9.930737</td><td> 7.994353</td><td> 9.346514</td><td> 8.573647</td><td> 9.575539</td><td> 9.778077</td><td> 8.965784</td><td> 9.144658</td><td> 9.864186</td></tr>\n",
              "\t<tr><th scope=row>ENSG00000000460</th><td> 9.011227</td><td> 7.366322</td><td> 8.422065</td><td> 6.321928</td><td> 7.781360</td><td> 8.224002</td><td> 7.515700</td><td> 6.918863</td><td> 7.022368</td><td> 7.781360</td><td>⋯</td><td> 7.754888</td><td> 8.027906</td><td> 6.209453</td><td> 6.781360</td><td> 6.906891</td><td> 8.566054</td><td> 8.022368</td><td> 6.727920</td><td> 7.499846</td><td> 8.134426</td></tr>\n",
              "\t<tr><th scope=row>ENSG00000000938</th><td>10.651052</td><td> 6.714246</td><td> 9.204571</td><td> 8.005625</td><td> 8.672425</td><td> 9.449149</td><td> 8.430453</td><td> 8.335390</td><td> 7.339850</td><td> 9.315150</td><td>⋯</td><td> 8.247928</td><td> 8.569856</td><td> 8.409391</td><td> 9.207014</td><td> 9.842350</td><td> 9.729621</td><td> 7.159871</td><td> 7.614710</td><td> 8.011227</td><td> 8.974415</td></tr>\n",
              "</tbody>\n",
              "</table>\n"
            ],
            "text/markdown": "\nA matrix: 6 × 534 of type dbl\n\n| <!--/--> | TCGA-E1-A7YQ-01A-11R-A34R-07 | TCGA-S9-A7QW-01A-11R-A34F-07 | TCGA-FG-A4MU-01B-11R-A28M-07 | TCGA-QH-A6CU-01A-11R-A31N-07 | TCGA-DU-8162-01A-21R-2256-07 | TCGA-S9-A7R8-01A-11R-A34R-07 | TCGA-DB-A4XG-01A-11R-A27Q-07 | TCGA-E1-A7YY-01A-11R-A34R-07 | TCGA-RY-A840-01A-11R-A36H-07 | TCGA-S9-A7QZ-01A-12R-A34R-07 | ⋯ | TCGA-HT-A615-01A-11R-A29R-07 | TCGA-HT-7468-01A-11R-2027-07 | TCGA-HT-A4DS-01A-11R-A26U-07 | TCGA-HT-8107-01A-13R-2404-07 | TCGA-HT-A5R5-01A-11R-A28M-07 | TCGA-HT-7860-01A-11R-2403-07 | TCGA-TM-A84H-01A-11R-A36H-07 | TCGA-HT-7681-01A-11R-2403-07 | TCGA-DB-5270-01A-02R-1470-07 | TCGA-IK-8125-01A-11R-2256-07 |\n|---|---|---|---|---|---|---|---|---|---|---|---|---|---|---|---|---|---|---|---|---|---|\n| ENSG00000000003 | 11.533816 | 11.411511 | 12.211888 | 11.778488 | 10.680360 | 10.805744 | 11.861475 |  9.413628 | 11.154185 | 11.144658 | ⋯ | 11.349834 | 12.294046 | 10.032046 |  9.590587 | 11.661778 | 12.270879 | 12.130249 | 11.424166 | 11.598518 | 11.793197 |\n| ENSG00000000005 |  2.584963 |  1.584963 |  4.321928 |  2.807355 |  4.169925 |  3.459432 |  2.000000 |  2.807355 |  1.000000 |  3.321928 | ⋯ |  3.169925 |  3.459432 |  0.000000 |  3.169925 |  2.321928 |  1.000000 |  1.584963 |  3.321928 |  5.727920 |  3.807355 |\n| ENSG00000000419 | 10.497852 |  9.842350 | 10.688250 |  9.679480 | 10.256209 |  9.710806 | 10.326429 | 10.122828 |  9.891784 | 10.002815 | ⋯ | 10.032046 | 10.324181 |  9.372865 | 10.136991 |  9.413628 | 10.269127 | 10.363040 |  9.967226 |  9.949827 | 10.360847 |\n| ENSG00000000457 | 10.074141 |  8.654636 |  9.084808 |  8.417853 |  9.623881 |  8.891784 |  9.383704 |  9.098032 |  8.861087 |  9.537218 | ⋯ |  9.209453 |  9.930737 |  7.994353 |  9.346514 |  8.573647 |  9.575539 |  9.778077 |  8.965784 |  9.144658 |  9.864186 |\n| ENSG00000000460 |  9.011227 |  7.366322 |  8.422065 |  6.321928 |  7.781360 |  8.224002 |  7.515700 |  6.918863 |  7.022368 |  7.781360 | ⋯ |  7.754888 |  8.027906 |  6.209453 |  6.781360 |  6.906891 |  8.566054 |  8.022368 |  6.727920 |  7.499846 |  8.134426 |\n| ENSG00000000938 | 10.651052 |  6.714246 |  9.204571 |  8.005625 |  8.672425 |  9.449149 |  8.430453 |  8.335390 |  7.339850 |  9.315150 | ⋯ |  8.247928 |  8.569856 |  8.409391 |  9.207014 |  9.842350 |  9.729621 |  7.159871 |  7.614710 |  8.011227 |  8.974415 |\n\n",
            "text/latex": "A matrix: 6 × 534 of type dbl\n\\begin{tabular}{r|lllllllllllllllllllll}\n  & TCGA-E1-A7YQ-01A-11R-A34R-07 & TCGA-S9-A7QW-01A-11R-A34F-07 & TCGA-FG-A4MU-01B-11R-A28M-07 & TCGA-QH-A6CU-01A-11R-A31N-07 & TCGA-DU-8162-01A-21R-2256-07 & TCGA-S9-A7R8-01A-11R-A34R-07 & TCGA-DB-A4XG-01A-11R-A27Q-07 & TCGA-E1-A7YY-01A-11R-A34R-07 & TCGA-RY-A840-01A-11R-A36H-07 & TCGA-S9-A7QZ-01A-12R-A34R-07 & ⋯ & TCGA-HT-A615-01A-11R-A29R-07 & TCGA-HT-7468-01A-11R-2027-07 & TCGA-HT-A4DS-01A-11R-A26U-07 & TCGA-HT-8107-01A-13R-2404-07 & TCGA-HT-A5R5-01A-11R-A28M-07 & TCGA-HT-7860-01A-11R-2403-07 & TCGA-TM-A84H-01A-11R-A36H-07 & TCGA-HT-7681-01A-11R-2403-07 & TCGA-DB-5270-01A-02R-1470-07 & TCGA-IK-8125-01A-11R-2256-07\\\\\n\\hline\n\tENSG00000000003 & 11.533816 & 11.411511 & 12.211888 & 11.778488 & 10.680360 & 10.805744 & 11.861475 &  9.413628 & 11.154185 & 11.144658 & ⋯ & 11.349834 & 12.294046 & 10.032046 &  9.590587 & 11.661778 & 12.270879 & 12.130249 & 11.424166 & 11.598518 & 11.793197\\\\\n\tENSG00000000005 &  2.584963 &  1.584963 &  4.321928 &  2.807355 &  4.169925 &  3.459432 &  2.000000 &  2.807355 &  1.000000 &  3.321928 & ⋯ &  3.169925 &  3.459432 &  0.000000 &  3.169925 &  2.321928 &  1.000000 &  1.584963 &  3.321928 &  5.727920 &  3.807355\\\\\n\tENSG00000000419 & 10.497852 &  9.842350 & 10.688250 &  9.679480 & 10.256209 &  9.710806 & 10.326429 & 10.122828 &  9.891784 & 10.002815 & ⋯ & 10.032046 & 10.324181 &  9.372865 & 10.136991 &  9.413628 & 10.269127 & 10.363040 &  9.967226 &  9.949827 & 10.360847\\\\\n\tENSG00000000457 & 10.074141 &  8.654636 &  9.084808 &  8.417853 &  9.623881 &  8.891784 &  9.383704 &  9.098032 &  8.861087 &  9.537218 & ⋯ &  9.209453 &  9.930737 &  7.994353 &  9.346514 &  8.573647 &  9.575539 &  9.778077 &  8.965784 &  9.144658 &  9.864186\\\\\n\tENSG00000000460 &  9.011227 &  7.366322 &  8.422065 &  6.321928 &  7.781360 &  8.224002 &  7.515700 &  6.918863 &  7.022368 &  7.781360 & ⋯ &  7.754888 &  8.027906 &  6.209453 &  6.781360 &  6.906891 &  8.566054 &  8.022368 &  6.727920 &  7.499846 &  8.134426\\\\\n\tENSG00000000938 & 10.651052 &  6.714246 &  9.204571 &  8.005625 &  8.672425 &  9.449149 &  8.430453 &  8.335390 &  7.339850 &  9.315150 & ⋯ &  8.247928 &  8.569856 &  8.409391 &  9.207014 &  9.842350 &  9.729621 &  7.159871 &  7.614710 &  8.011227 &  8.974415\\\\\n\\end{tabular}\n",
            "text/plain": [
              "                TCGA-E1-A7YQ-01A-11R-A34R-07 TCGA-S9-A7QW-01A-11R-A34F-07\n",
              "ENSG00000000003 11.533816                    11.411511                   \n",
              "ENSG00000000005  2.584963                     1.584963                   \n",
              "ENSG00000000419 10.497852                     9.842350                   \n",
              "ENSG00000000457 10.074141                     8.654636                   \n",
              "ENSG00000000460  9.011227                     7.366322                   \n",
              "ENSG00000000938 10.651052                     6.714246                   \n",
              "                TCGA-FG-A4MU-01B-11R-A28M-07 TCGA-QH-A6CU-01A-11R-A31N-07\n",
              "ENSG00000000003 12.211888                    11.778488                   \n",
              "ENSG00000000005  4.321928                     2.807355                   \n",
              "ENSG00000000419 10.688250                     9.679480                   \n",
              "ENSG00000000457  9.084808                     8.417853                   \n",
              "ENSG00000000460  8.422065                     6.321928                   \n",
              "ENSG00000000938  9.204571                     8.005625                   \n",
              "                TCGA-DU-8162-01A-21R-2256-07 TCGA-S9-A7R8-01A-11R-A34R-07\n",
              "ENSG00000000003 10.680360                    10.805744                   \n",
              "ENSG00000000005  4.169925                     3.459432                   \n",
              "ENSG00000000419 10.256209                     9.710806                   \n",
              "ENSG00000000457  9.623881                     8.891784                   \n",
              "ENSG00000000460  7.781360                     8.224002                   \n",
              "ENSG00000000938  8.672425                     9.449149                   \n",
              "                TCGA-DB-A4XG-01A-11R-A27Q-07 TCGA-E1-A7YY-01A-11R-A34R-07\n",
              "ENSG00000000003 11.861475                     9.413628                   \n",
              "ENSG00000000005  2.000000                     2.807355                   \n",
              "ENSG00000000419 10.326429                    10.122828                   \n",
              "ENSG00000000457  9.383704                     9.098032                   \n",
              "ENSG00000000460  7.515700                     6.918863                   \n",
              "ENSG00000000938  8.430453                     8.335390                   \n",
              "                TCGA-RY-A840-01A-11R-A36H-07 TCGA-S9-A7QZ-01A-12R-A34R-07 ⋯\n",
              "ENSG00000000003 11.154185                    11.144658                    ⋯\n",
              "ENSG00000000005  1.000000                     3.321928                    ⋯\n",
              "ENSG00000000419  9.891784                    10.002815                    ⋯\n",
              "ENSG00000000457  8.861087                     9.537218                    ⋯\n",
              "ENSG00000000460  7.022368                     7.781360                    ⋯\n",
              "ENSG00000000938  7.339850                     9.315150                    ⋯\n",
              "                TCGA-HT-A615-01A-11R-A29R-07 TCGA-HT-7468-01A-11R-2027-07\n",
              "ENSG00000000003 11.349834                    12.294046                   \n",
              "ENSG00000000005  3.169925                     3.459432                   \n",
              "ENSG00000000419 10.032046                    10.324181                   \n",
              "ENSG00000000457  9.209453                     9.930737                   \n",
              "ENSG00000000460  7.754888                     8.027906                   \n",
              "ENSG00000000938  8.247928                     8.569856                   \n",
              "                TCGA-HT-A4DS-01A-11R-A26U-07 TCGA-HT-8107-01A-13R-2404-07\n",
              "ENSG00000000003 10.032046                     9.590587                   \n",
              "ENSG00000000005  0.000000                     3.169925                   \n",
              "ENSG00000000419  9.372865                    10.136991                   \n",
              "ENSG00000000457  7.994353                     9.346514                   \n",
              "ENSG00000000460  6.209453                     6.781360                   \n",
              "ENSG00000000938  8.409391                     9.207014                   \n",
              "                TCGA-HT-A5R5-01A-11R-A28M-07 TCGA-HT-7860-01A-11R-2403-07\n",
              "ENSG00000000003 11.661778                    12.270879                   \n",
              "ENSG00000000005  2.321928                     1.000000                   \n",
              "ENSG00000000419  9.413628                    10.269127                   \n",
              "ENSG00000000457  8.573647                     9.575539                   \n",
              "ENSG00000000460  6.906891                     8.566054                   \n",
              "ENSG00000000938  9.842350                     9.729621                   \n",
              "                TCGA-TM-A84H-01A-11R-A36H-07 TCGA-HT-7681-01A-11R-2403-07\n",
              "ENSG00000000003 12.130249                    11.424166                   \n",
              "ENSG00000000005  1.584963                     3.321928                   \n",
              "ENSG00000000419 10.363040                     9.967226                   \n",
              "ENSG00000000457  9.778077                     8.965784                   \n",
              "ENSG00000000460  8.022368                     6.727920                   \n",
              "ENSG00000000938  7.159871                     7.614710                   \n",
              "                TCGA-DB-5270-01A-02R-1470-07 TCGA-IK-8125-01A-11R-2256-07\n",
              "ENSG00000000003 11.598518                    11.793197                   \n",
              "ENSG00000000005  5.727920                     3.807355                   \n",
              "ENSG00000000419  9.949827                    10.360847                   \n",
              "ENSG00000000457  9.144658                     9.864186                   \n",
              "ENSG00000000460  7.499846                     8.134426                   \n",
              "ENSG00000000938  8.011227                     8.974415                   "
            ]
          },
          "metadata": {}
        }
      ],
      "source": [
        "head(DEA_matrix_log2)"
      ]
    },
    {
      "cell_type": "markdown",
      "metadata": {
        "id": "rUSYWh1X-pIk"
      },
      "source": [
        "### **Save all objects into RDS files for future references**"
      ]
    },
    {
      "cell_type": "markdown",
      "metadata": {
        "id": "BSi2PE-kspcA"
      },
      "source": [
        "### **Download Mulecular subtypes to get IDH Status:**"
      ]
    },
    {
      "cell_type": "code",
      "execution_count": 16,
      "metadata": {
        "colab": {
          "base_uri": "https://localhost:8080/",
          "height": 208
        },
        "id": "gTZzax5QVxKU",
        "outputId": "59417877-e218-49ba-934a-fa705bad21f0"
      },
      "outputs": [
        {
          "output_type": "stream",
          "name": "stderr",
          "text": [
            "lgg subtype information from:doi:10.1016/j.cell.2015.12.028\n",
            "\n"
          ]
        },
        {
          "output_type": "display_data",
          "data": {
            "text/html": [
              "<style>\n",
              ".list-inline {list-style: none; margin:0; padding: 0}\n",
              ".list-inline>li {display: inline-block}\n",
              ".list-inline>li:not(:last-child)::after {content: \"\\00b7\"; padding: 0 .5ex}\n",
              "</style>\n",
              "<ol class=list-inline><li>'patient'</li><li>'Tissue.source.site'</li><li>'Study'</li><li>'BCR'</li><li>'Whole.exome'</li><li>'Whole.genome'</li><li>'RNAseq'</li><li>'SNP6'</li><li>'U133a'</li><li>'HM450'</li><li>'HM27'</li><li>'RPPA'</li><li>'Histology'</li><li>'Grade'</li><li>'Age..years.at.diagnosis.'</li><li>'Gender'</li><li>'Survival..months.'</li><li>'Vital.status..1.dead.'</li><li>'Karnofsky.Performance.Score'</li><li>'Mutation.Count'</li><li>'Percent.aneuploidy'</li><li>'IDH.status'</li><li>'X1p.19q.codeletion'</li><li>'IDH.codel.subtype'</li><li>'MGMT.promoter.status'</li><li>'Chr.7.gain.Chr.10.loss'</li><li>'Chr.19.20.co.gain'</li><li>'TERT.promoter.status'</li><li>'TERT.expression..log2.'</li><li>'TERT.expression.status'</li><li>'ATRX.status'</li><li>'DAXX.status'</li><li>'Telomere.Maintenance'</li><li>'BRAF.V600E.status'</li><li>'BRAF.KIAA1549.fusion'</li><li>'ABSOLUTE.purity'</li><li>'ABSOLUTE.ploidy'</li><li>'ESTIMATE.stromal.score'</li><li>'ESTIMATE.immune.score'</li><li>'ESTIMATE.combined.score'</li><li>'Original.Subtype'</li><li>'Transcriptome.Subtype'</li><li>'Pan.Glioma.RNA.Expression.Cluster'</li><li>'IDH.specific.RNA.Expression.Cluster'</li><li>'Pan.Glioma.DNA.Methylation.Cluster'</li><li>'IDH.specific.DNA.Methylation.Cluster'</li><li>'Supervised.DNA.Methylation.Cluster'</li><li>'Random.Forest.Sturm.Cluster'</li><li>'RPPA.cluster'</li><li>'Telomere.length.estimate.in.blood.normal..Kb.'</li><li>'Telomere.length.estimate.in.tumor..Kb.'</li></ol>\n"
            ],
            "text/markdown": "1. 'patient'\n2. 'Tissue.source.site'\n3. 'Study'\n4. 'BCR'\n5. 'Whole.exome'\n6. 'Whole.genome'\n7. 'RNAseq'\n8. 'SNP6'\n9. 'U133a'\n10. 'HM450'\n11. 'HM27'\n12. 'RPPA'\n13. 'Histology'\n14. 'Grade'\n15. 'Age..years.at.diagnosis.'\n16. 'Gender'\n17. 'Survival..months.'\n18. 'Vital.status..1.dead.'\n19. 'Karnofsky.Performance.Score'\n20. 'Mutation.Count'\n21. 'Percent.aneuploidy'\n22. 'IDH.status'\n23. 'X1p.19q.codeletion'\n24. 'IDH.codel.subtype'\n25. 'MGMT.promoter.status'\n26. 'Chr.7.gain.Chr.10.loss'\n27. 'Chr.19.20.co.gain'\n28. 'TERT.promoter.status'\n29. 'TERT.expression..log2.'\n30. 'TERT.expression.status'\n31. 'ATRX.status'\n32. 'DAXX.status'\n33. 'Telomere.Maintenance'\n34. 'BRAF.V600E.status'\n35. 'BRAF.KIAA1549.fusion'\n36. 'ABSOLUTE.purity'\n37. 'ABSOLUTE.ploidy'\n38. 'ESTIMATE.stromal.score'\n39. 'ESTIMATE.immune.score'\n40. 'ESTIMATE.combined.score'\n41. 'Original.Subtype'\n42. 'Transcriptome.Subtype'\n43. 'Pan.Glioma.RNA.Expression.Cluster'\n44. 'IDH.specific.RNA.Expression.Cluster'\n45. 'Pan.Glioma.DNA.Methylation.Cluster'\n46. 'IDH.specific.DNA.Methylation.Cluster'\n47. 'Supervised.DNA.Methylation.Cluster'\n48. 'Random.Forest.Sturm.Cluster'\n49. 'RPPA.cluster'\n50. 'Telomere.length.estimate.in.blood.normal..Kb.'\n51. 'Telomere.length.estimate.in.tumor..Kb.'\n\n\n",
            "text/latex": "\\begin{enumerate*}\n\\item 'patient'\n\\item 'Tissue.source.site'\n\\item 'Study'\n\\item 'BCR'\n\\item 'Whole.exome'\n\\item 'Whole.genome'\n\\item 'RNAseq'\n\\item 'SNP6'\n\\item 'U133a'\n\\item 'HM450'\n\\item 'HM27'\n\\item 'RPPA'\n\\item 'Histology'\n\\item 'Grade'\n\\item 'Age..years.at.diagnosis.'\n\\item 'Gender'\n\\item 'Survival..months.'\n\\item 'Vital.status..1.dead.'\n\\item 'Karnofsky.Performance.Score'\n\\item 'Mutation.Count'\n\\item 'Percent.aneuploidy'\n\\item 'IDH.status'\n\\item 'X1p.19q.codeletion'\n\\item 'IDH.codel.subtype'\n\\item 'MGMT.promoter.status'\n\\item 'Chr.7.gain.Chr.10.loss'\n\\item 'Chr.19.20.co.gain'\n\\item 'TERT.promoter.status'\n\\item 'TERT.expression..log2.'\n\\item 'TERT.expression.status'\n\\item 'ATRX.status'\n\\item 'DAXX.status'\n\\item 'Telomere.Maintenance'\n\\item 'BRAF.V600E.status'\n\\item 'BRAF.KIAA1549.fusion'\n\\item 'ABSOLUTE.purity'\n\\item 'ABSOLUTE.ploidy'\n\\item 'ESTIMATE.stromal.score'\n\\item 'ESTIMATE.immune.score'\n\\item 'ESTIMATE.combined.score'\n\\item 'Original.Subtype'\n\\item 'Transcriptome.Subtype'\n\\item 'Pan.Glioma.RNA.Expression.Cluster'\n\\item 'IDH.specific.RNA.Expression.Cluster'\n\\item 'Pan.Glioma.DNA.Methylation.Cluster'\n\\item 'IDH.specific.DNA.Methylation.Cluster'\n\\item 'Supervised.DNA.Methylation.Cluster'\n\\item 'Random.Forest.Sturm.Cluster'\n\\item 'RPPA.cluster'\n\\item 'Telomere.length.estimate.in.blood.normal..Kb.'\n\\item 'Telomere.length.estimate.in.tumor..Kb.'\n\\end{enumerate*}\n",
            "text/plain": [
              " [1] \"patient\"                                      \n",
              " [2] \"Tissue.source.site\"                           \n",
              " [3] \"Study\"                                        \n",
              " [4] \"BCR\"                                          \n",
              " [5] \"Whole.exome\"                                  \n",
              " [6] \"Whole.genome\"                                 \n",
              " [7] \"RNAseq\"                                       \n",
              " [8] \"SNP6\"                                         \n",
              " [9] \"U133a\"                                        \n",
              "[10] \"HM450\"                                        \n",
              "[11] \"HM27\"                                         \n",
              "[12] \"RPPA\"                                         \n",
              "[13] \"Histology\"                                    \n",
              "[14] \"Grade\"                                        \n",
              "[15] \"Age..years.at.diagnosis.\"                     \n",
              "[16] \"Gender\"                                       \n",
              "[17] \"Survival..months.\"                            \n",
              "[18] \"Vital.status..1.dead.\"                        \n",
              "[19] \"Karnofsky.Performance.Score\"                  \n",
              "[20] \"Mutation.Count\"                               \n",
              "[21] \"Percent.aneuploidy\"                           \n",
              "[22] \"IDH.status\"                                   \n",
              "[23] \"X1p.19q.codeletion\"                           \n",
              "[24] \"IDH.codel.subtype\"                            \n",
              "[25] \"MGMT.promoter.status\"                         \n",
              "[26] \"Chr.7.gain.Chr.10.loss\"                       \n",
              "[27] \"Chr.19.20.co.gain\"                            \n",
              "[28] \"TERT.promoter.status\"                         \n",
              "[29] \"TERT.expression..log2.\"                       \n",
              "[30] \"TERT.expression.status\"                       \n",
              "[31] \"ATRX.status\"                                  \n",
              "[32] \"DAXX.status\"                                  \n",
              "[33] \"Telomere.Maintenance\"                         \n",
              "[34] \"BRAF.V600E.status\"                            \n",
              "[35] \"BRAF.KIAA1549.fusion\"                         \n",
              "[36] \"ABSOLUTE.purity\"                              \n",
              "[37] \"ABSOLUTE.ploidy\"                              \n",
              "[38] \"ESTIMATE.stromal.score\"                       \n",
              "[39] \"ESTIMATE.immune.score\"                        \n",
              "[40] \"ESTIMATE.combined.score\"                      \n",
              "[41] \"Original.Subtype\"                             \n",
              "[42] \"Transcriptome.Subtype\"                        \n",
              "[43] \"Pan.Glioma.RNA.Expression.Cluster\"            \n",
              "[44] \"IDH.specific.RNA.Expression.Cluster\"          \n",
              "[45] \"Pan.Glioma.DNA.Methylation.Cluster\"           \n",
              "[46] \"IDH.specific.DNA.Methylation.Cluster\"         \n",
              "[47] \"Supervised.DNA.Methylation.Cluster\"           \n",
              "[48] \"Random.Forest.Sturm.Cluster\"                  \n",
              "[49] \"RPPA.cluster\"                                 \n",
              "[50] \"Telomere.length.estimate.in.blood.normal..Kb.\"\n",
              "[51] \"Telomere.length.estimate.in.tumor..Kb.\"       "
            ]
          },
          "metadata": {}
        }
      ],
      "source": [
        "# get molecular subtype for LGG data\n",
        "lgg.gbm.subtype <- TCGAquery_subtype(tumor = \"lgg\")\n",
        "\n",
        "colnames(lgg.gbm.subtype)"
      ]
    },
    {
      "cell_type": "markdown",
      "metadata": {
        "id": "MYrRePZgwn02"
      },
      "source": [
        "**Select specific columns from lgg subtype data and make a new dataframe**"
      ]
    },
    {
      "cell_type": "code",
      "execution_count": 17,
      "metadata": {
        "colab": {
          "base_uri": "https://localhost:8080/",
          "height": 390
        },
        "id": "sieeWDg2vuYw",
        "outputId": "a3846e70-031d-46dd-cf02-5eb4f7f0353e"
      },
      "outputs": [
        {
          "output_type": "display_data",
          "data": {
            "text/html": [
              "<table class=\"dataframe\">\n",
              "<caption>A data.frame: 6 × 5</caption>\n",
              "<thead>\n",
              "\t<tr><th></th><th scope=col>patient</th><th scope=col>IDH.status</th><th scope=col>IDH.codel.subtype</th><th scope=col>IDH.specific.DNA.Methylation.Cluster</th><th scope=col>IDH.specific.RNA.Expression.Cluster</th></tr>\n",
              "\t<tr><th></th><th scope=col>&lt;chr&gt;</th><th scope=col>&lt;chr&gt;</th><th scope=col>&lt;chr&gt;</th><th scope=col>&lt;chr&gt;</th><th scope=col>&lt;chr&gt;</th></tr>\n",
              "</thead>\n",
              "<tbody>\n",
              "\t<tr><th scope=row>1</th><td>TCGA-CS-4938</td><td>Mutant</td><td>IDHmut-non-codel</td><td>IDHmut-K2</td><td>IDHmut-R3</td></tr>\n",
              "\t<tr><th scope=row>2</th><td>TCGA-CS-4941</td><td>WT    </td><td>IDHwt           </td><td>IDHwt-K2 </td><td>IDHwt-R2 </td></tr>\n",
              "\t<tr><th scope=row>3</th><td>TCGA-CS-4942</td><td>Mutant</td><td>IDHmut-non-codel</td><td>IDHmut-K2</td><td>IDHmut-R3</td></tr>\n",
              "\t<tr><th scope=row>4</th><td>TCGA-CS-4943</td><td>Mutant</td><td>IDHmut-non-codel</td><td>IDHmut-K2</td><td>IDHmut-R3</td></tr>\n",
              "\t<tr><th scope=row>5</th><td>TCGA-CS-4944</td><td>Mutant</td><td>IDHmut-non-codel</td><td>IDHmut-K2</td><td>IDHmut-R3</td></tr>\n",
              "\t<tr><th scope=row>6</th><td>TCGA-CS-5390</td><td>Mutant</td><td>IDHmut-codel    </td><td>IDHmut-K3</td><td>IDHmut-R1</td></tr>\n",
              "</tbody>\n",
              "</table>\n"
            ],
            "text/markdown": "\nA data.frame: 6 × 5\n\n| <!--/--> | patient &lt;chr&gt; | IDH.status &lt;chr&gt; | IDH.codel.subtype &lt;chr&gt; | IDH.specific.DNA.Methylation.Cluster &lt;chr&gt; | IDH.specific.RNA.Expression.Cluster &lt;chr&gt; |\n|---|---|---|---|---|---|\n| 1 | TCGA-CS-4938 | Mutant | IDHmut-non-codel | IDHmut-K2 | IDHmut-R3 |\n| 2 | TCGA-CS-4941 | WT     | IDHwt            | IDHwt-K2  | IDHwt-R2  |\n| 3 | TCGA-CS-4942 | Mutant | IDHmut-non-codel | IDHmut-K2 | IDHmut-R3 |\n| 4 | TCGA-CS-4943 | Mutant | IDHmut-non-codel | IDHmut-K2 | IDHmut-R3 |\n| 5 | TCGA-CS-4944 | Mutant | IDHmut-non-codel | IDHmut-K2 | IDHmut-R3 |\n| 6 | TCGA-CS-5390 | Mutant | IDHmut-codel     | IDHmut-K3 | IDHmut-R1 |\n\n",
            "text/latex": "A data.frame: 6 × 5\n\\begin{tabular}{r|lllll}\n  & patient & IDH.status & IDH.codel.subtype & IDH.specific.DNA.Methylation.Cluster & IDH.specific.RNA.Expression.Cluster\\\\\n  & <chr> & <chr> & <chr> & <chr> & <chr>\\\\\n\\hline\n\t1 & TCGA-CS-4938 & Mutant & IDHmut-non-codel & IDHmut-K2 & IDHmut-R3\\\\\n\t2 & TCGA-CS-4941 & WT     & IDHwt            & IDHwt-K2  & IDHwt-R2 \\\\\n\t3 & TCGA-CS-4942 & Mutant & IDHmut-non-codel & IDHmut-K2 & IDHmut-R3\\\\\n\t4 & TCGA-CS-4943 & Mutant & IDHmut-non-codel & IDHmut-K2 & IDHmut-R3\\\\\n\t5 & TCGA-CS-4944 & Mutant & IDHmut-non-codel & IDHmut-K2 & IDHmut-R3\\\\\n\t6 & TCGA-CS-5390 & Mutant & IDHmut-codel     & IDHmut-K3 & IDHmut-R1\\\\\n\\end{tabular}\n",
            "text/plain": [
              "  patient      IDH.status IDH.codel.subtype\n",
              "1 TCGA-CS-4938 Mutant     IDHmut-non-codel \n",
              "2 TCGA-CS-4941 WT         IDHwt            \n",
              "3 TCGA-CS-4942 Mutant     IDHmut-non-codel \n",
              "4 TCGA-CS-4943 Mutant     IDHmut-non-codel \n",
              "5 TCGA-CS-4944 Mutant     IDHmut-non-codel \n",
              "6 TCGA-CS-5390 Mutant     IDHmut-codel     \n",
              "  IDH.specific.DNA.Methylation.Cluster IDH.specific.RNA.Expression.Cluster\n",
              "1 IDHmut-K2                            IDHmut-R3                          \n",
              "2 IDHwt-K2                             IDHwt-R2                           \n",
              "3 IDHmut-K2                            IDHmut-R3                          \n",
              "4 IDHmut-K2                            IDHmut-R3                          \n",
              "5 IDHmut-K2                            IDHmut-R3                          \n",
              "6 IDHmut-K3                            IDHmut-R1                          "
            ]
          },
          "metadata": {}
        }
      ],
      "source": [
        "lgg_subtype_df <- data.frame(\n",
        "                            patient = as.character(lgg.gbm.subtype$patient),\n",
        "                            IDH.status= as.character(lgg.gbm.subtype$IDH.status),\n",
        "                            IDH.codel.subtype= as.character(lgg.gbm.subtype$IDH.codel.subtype),\n",
        "                            IDH.specific.DNA.Methylation.Cluster= as.character(lgg.gbm.subtype$IDH.specific.DNA.Methylation.Cluster),\n",
        "                            IDH.specific.RNA.Expression.Cluster=as.character(lgg.gbm.subtype$IDH.specific.RNA.Expression.Cluster))\n",
        "\n",
        "head(lgg_subtype_df)"
      ]
    },
    {
      "cell_type": "code",
      "execution_count": 18,
      "metadata": {
        "colab": {
          "base_uri": "https://localhost:8080/",
          "height": 52
        },
        "id": "cYmR8_U8nDLD",
        "outputId": "fef7ad1c-6b45-44f7-b25e-76a8158e5ec5"
      },
      "outputs": [
        {
          "output_type": "display_data",
          "data": {
            "text/html": [
              "534"
            ],
            "text/markdown": "534",
            "text/latex": "534",
            "text/plain": [
              "[1] 534"
            ]
          },
          "metadata": {}
        },
        {
          "output_type": "display_data",
          "data": {
            "text/html": [
              "516"
            ],
            "text/markdown": "516",
            "text/latex": "516",
            "text/plain": [
              "[1] 516"
            ]
          },
          "metadata": {}
        }
      ],
      "source": [
        "length(colnames(DEA_matrix_log2))\n",
        "\n",
        "length(rownames(lgg_subtype_df))"
      ]
    },
    {
      "cell_type": "code",
      "execution_count": 19,
      "metadata": {
        "colab": {
          "base_uri": "https://localhost:8080/",
          "height": 34
        },
        "id": "AJgX_fMqoThL",
        "outputId": "7668e57c-8adc-4083-f5b5-36345a912201"
      },
      "outputs": [
        {
          "output_type": "display_data",
          "data": {
            "text/html": [
              "'character'"
            ],
            "text/markdown": "'character'",
            "text/latex": "'character'",
            "text/plain": [
              "[1] \"character\""
            ]
          },
          "metadata": {}
        }
      ],
      "source": [
        "typeof(lgg_subtype_df$patient)"
      ]
    },
    {
      "cell_type": "code",
      "execution_count": 21,
      "metadata": {
        "id": "myoVgm-TmjK7"
      },
      "outputs": [],
      "source": [
        "\n",
        "#extarct sample barcodes from lgg subtypes data\n",
        "lgg_subtype_samplebarcodes <- lgg_subtype_df$patient"
      ]
    },
    {
      "cell_type": "code",
      "execution_count": 22,
      "metadata": {
        "colab": {
          "base_uri": "https://localhost:8080/",
          "height": 69
        },
        "id": "dcbUN-xDozJu",
        "outputId": "c04952a4-8e40-43c8-884f-dc02b492def8"
      },
      "outputs": [
        {
          "output_type": "display_data",
          "data": {
            "text/html": [
              "<style>\n",
              ".list-inline {list-style: none; margin:0; padding: 0}\n",
              ".list-inline>li {display: inline-block}\n",
              ".list-inline>li:not(:last-child)::after {content: \"\\00b7\"; padding: 0 .5ex}\n",
              "</style>\n",
              "<ol class=list-inline><li>'TCGA-E1-A7YQ-01A-11R-A34R-07'</li><li>'TCGA-S9-A7QW-01A-11R-A34F-07'</li><li>'TCGA-FG-A4MU-01B-11R-A28M-07'</li><li>'TCGA-QH-A6CU-01A-11R-A31N-07'</li><li>'TCGA-DU-8162-01A-21R-2256-07'</li><li>'TCGA-S9-A7R8-01A-11R-A34R-07'</li></ol>\n"
            ],
            "text/markdown": "1. 'TCGA-E1-A7YQ-01A-11R-A34R-07'\n2. 'TCGA-S9-A7QW-01A-11R-A34F-07'\n3. 'TCGA-FG-A4MU-01B-11R-A28M-07'\n4. 'TCGA-QH-A6CU-01A-11R-A31N-07'\n5. 'TCGA-DU-8162-01A-21R-2256-07'\n6. 'TCGA-S9-A7R8-01A-11R-A34R-07'\n\n\n",
            "text/latex": "\\begin{enumerate*}\n\\item 'TCGA-E1-A7YQ-01A-11R-A34R-07'\n\\item 'TCGA-S9-A7QW-01A-11R-A34F-07'\n\\item 'TCGA-FG-A4MU-01B-11R-A28M-07'\n\\item 'TCGA-QH-A6CU-01A-11R-A31N-07'\n\\item 'TCGA-DU-8162-01A-21R-2256-07'\n\\item 'TCGA-S9-A7R8-01A-11R-A34R-07'\n\\end{enumerate*}\n",
            "text/plain": [
              "[1] \"TCGA-E1-A7YQ-01A-11R-A34R-07\" \"TCGA-S9-A7QW-01A-11R-A34F-07\"\n",
              "[3] \"TCGA-FG-A4MU-01B-11R-A28M-07\" \"TCGA-QH-A6CU-01A-11R-A31N-07\"\n",
              "[5] \"TCGA-DU-8162-01A-21R-2256-07\" \"TCGA-S9-A7R8-01A-11R-A34R-07\""
            ]
          },
          "metadata": {}
        },
        {
          "output_type": "display_data",
          "data": {
            "text/html": [
              "<style>\n",
              ".list-inline {list-style: none; margin:0; padding: 0}\n",
              ".list-inline>li {display: inline-block}\n",
              ".list-inline>li:not(:last-child)::after {content: \"\\00b7\"; padding: 0 .5ex}\n",
              "</style>\n",
              "<ol class=list-inline><li>'TCGA-CS-4938'</li><li>'TCGA-CS-4941'</li><li>'TCGA-CS-4942'</li><li>'TCGA-CS-4943'</li><li>'TCGA-CS-4944'</li><li>'TCGA-CS-5390'</li></ol>\n"
            ],
            "text/markdown": "1. 'TCGA-CS-4938'\n2. 'TCGA-CS-4941'\n3. 'TCGA-CS-4942'\n4. 'TCGA-CS-4943'\n5. 'TCGA-CS-4944'\n6. 'TCGA-CS-5390'\n\n\n",
            "text/latex": "\\begin{enumerate*}\n\\item 'TCGA-CS-4938'\n\\item 'TCGA-CS-4941'\n\\item 'TCGA-CS-4942'\n\\item 'TCGA-CS-4943'\n\\item 'TCGA-CS-4944'\n\\item 'TCGA-CS-5390'\n\\end{enumerate*}\n",
            "text/plain": [
              "[1] \"TCGA-CS-4938\" \"TCGA-CS-4941\" \"TCGA-CS-4942\" \"TCGA-CS-4943\" \"TCGA-CS-4944\"\n",
              "[6] \"TCGA-CS-5390\""
            ]
          },
          "metadata": {}
        }
      ],
      "source": [
        "\n",
        "head(DGE_metadata$sample_names)\n",
        "head(lgg_subtype_samplebarcodes)"
      ]
    },
    {
      "cell_type": "markdown",
      "metadata": {
        "id": "7niCvJbm-8mQ"
      },
      "source": [
        "**Since sample barcodes formats are different in methylation, DGE and subtype data, removing last part and keeping only the\n",
        "first 12 digits TCGA-TQ-A7RH of patientIDs**"
      ]
    },
    {
      "cell_type": "code",
      "execution_count": 23,
      "metadata": {
        "id": "HLtV7GMF98bu"
      },
      "outputs": [],
      "source": [
        "# Extract the first 12 characters (sample identifier) from each barcode\n",
        "dge_short_barcodes <- substr(DGE_metadata$sample_names, 1, 12)"
      ]
    },
    {
      "cell_type": "code",
      "execution_count": 24,
      "metadata": {
        "colab": {
          "base_uri": "https://localhost:8080/",
          "height": 69
        },
        "id": "QFB-Nh5189Zu",
        "outputId": "31dc5779-5b5a-4e63-bf55-ae1f3731c0c8"
      },
      "outputs": [
        {
          "output_type": "display_data",
          "data": {
            "text/html": [
              "<style>\n",
              ".list-inline {list-style: none; margin:0; padding: 0}\n",
              ".list-inline>li {display: inline-block}\n",
              ".list-inline>li:not(:last-child)::after {content: \"\\00b7\"; padding: 0 .5ex}\n",
              "</style>\n",
              "<ol class=list-inline><li>'TCGA-E1-A7YQ'</li><li>'TCGA-S9-A7QW'</li><li>'TCGA-FG-A4MU'</li><li>'TCGA-QH-A6CU'</li><li>'TCGA-DU-8162'</li><li>'TCGA-S9-A7R8'</li><li>'TCGA-DB-A4XG'</li><li>'TCGA-E1-A7YY'</li><li>'TCGA-RY-A840'</li><li>'TCGA-S9-A7QZ'</li></ol>\n"
            ],
            "text/markdown": "1. 'TCGA-E1-A7YQ'\n2. 'TCGA-S9-A7QW'\n3. 'TCGA-FG-A4MU'\n4. 'TCGA-QH-A6CU'\n5. 'TCGA-DU-8162'\n6. 'TCGA-S9-A7R8'\n7. 'TCGA-DB-A4XG'\n8. 'TCGA-E1-A7YY'\n9. 'TCGA-RY-A840'\n10. 'TCGA-S9-A7QZ'\n\n\n",
            "text/latex": "\\begin{enumerate*}\n\\item 'TCGA-E1-A7YQ'\n\\item 'TCGA-S9-A7QW'\n\\item 'TCGA-FG-A4MU'\n\\item 'TCGA-QH-A6CU'\n\\item 'TCGA-DU-8162'\n\\item 'TCGA-S9-A7R8'\n\\item 'TCGA-DB-A4XG'\n\\item 'TCGA-E1-A7YY'\n\\item 'TCGA-RY-A840'\n\\item 'TCGA-S9-A7QZ'\n\\end{enumerate*}\n",
            "text/plain": [
              " [1] \"TCGA-E1-A7YQ\" \"TCGA-S9-A7QW\" \"TCGA-FG-A4MU\" \"TCGA-QH-A6CU\" \"TCGA-DU-8162\"\n",
              " [6] \"TCGA-S9-A7R8\" \"TCGA-DB-A4XG\" \"TCGA-E1-A7YY\" \"TCGA-RY-A840\" \"TCGA-S9-A7QZ\""
            ]
          },
          "metadata": {}
        },
        {
          "output_type": "display_data",
          "data": {
            "text/html": [
              "<style>\n",
              ".list-inline {list-style: none; margin:0; padding: 0}\n",
              ".list-inline>li {display: inline-block}\n",
              ".list-inline>li:not(:last-child)::after {content: \"\\00b7\"; padding: 0 .5ex}\n",
              "</style>\n",
              "<ol class=list-inline><li>'TCGA-CS-4938'</li><li>'TCGA-CS-4941'</li><li>'TCGA-CS-4942'</li><li>'TCGA-CS-4943'</li><li>'TCGA-CS-4944'</li><li>'TCGA-CS-5390'</li></ol>\n"
            ],
            "text/markdown": "1. 'TCGA-CS-4938'\n2. 'TCGA-CS-4941'\n3. 'TCGA-CS-4942'\n4. 'TCGA-CS-4943'\n5. 'TCGA-CS-4944'\n6. 'TCGA-CS-5390'\n\n\n",
            "text/latex": "\\begin{enumerate*}\n\\item 'TCGA-CS-4938'\n\\item 'TCGA-CS-4941'\n\\item 'TCGA-CS-4942'\n\\item 'TCGA-CS-4943'\n\\item 'TCGA-CS-4944'\n\\item 'TCGA-CS-5390'\n\\end{enumerate*}\n",
            "text/plain": [
              "[1] \"TCGA-CS-4938\" \"TCGA-CS-4941\" \"TCGA-CS-4942\" \"TCGA-CS-4943\" \"TCGA-CS-4944\"\n",
              "[6] \"TCGA-CS-5390\""
            ]
          },
          "metadata": {}
        }
      ],
      "source": [
        "dge_short_barcodes[1:10]\n",
        "head(lgg_subtype_samplebarcodes)"
      ]
    },
    {
      "cell_type": "markdown",
      "metadata": {
        "id": "F0Exzr0drUJ0"
      },
      "source": [
        "**Add short barcodes columns in Methylation and DGE metadata**"
      ]
    },
    {
      "cell_type": "code",
      "execution_count": 25,
      "metadata": {
        "id": "bX_S53t4q5ez"
      },
      "outputs": [],
      "source": [
        "DGE_metadata$patient <- dge_short_barcodes\n"
      ]
    },
    {
      "cell_type": "code",
      "execution_count": 26,
      "metadata": {
        "colab": {
          "base_uri": "https://localhost:8080/",
          "height": 286
        },
        "id": "4bRpk1WMrGeN",
        "outputId": "cc672518-73cf-49fe-d5f6-27a897cb54d3"
      },
      "outputs": [
        {
          "output_type": "display_data",
          "data": {
            "text/html": [
              "<table class=\"dataframe\">\n",
              "<caption>A data.frame: 6 × 3</caption>\n",
              "<thead>\n",
              "\t<tr><th></th><th scope=col>sample_names</th><th scope=col>sample_type</th><th scope=col>patient</th></tr>\n",
              "\t<tr><th></th><th scope=col>&lt;chr&gt;</th><th scope=col>&lt;chr&gt;</th><th scope=col>&lt;chr&gt;</th></tr>\n",
              "</thead>\n",
              "<tbody>\n",
              "\t<tr><th scope=row>1</th><td>TCGA-E1-A7YQ-01A-11R-A34R-07</td><td>Primary Tumor</td><td>TCGA-E1-A7YQ</td></tr>\n",
              "\t<tr><th scope=row>2</th><td>TCGA-S9-A7QW-01A-11R-A34F-07</td><td>Primary Tumor</td><td>TCGA-S9-A7QW</td></tr>\n",
              "\t<tr><th scope=row>3</th><td>TCGA-FG-A4MU-01B-11R-A28M-07</td><td>Primary Tumor</td><td>TCGA-FG-A4MU</td></tr>\n",
              "\t<tr><th scope=row>4</th><td>TCGA-QH-A6CU-01A-11R-A31N-07</td><td>Primary Tumor</td><td>TCGA-QH-A6CU</td></tr>\n",
              "\t<tr><th scope=row>5</th><td>TCGA-DU-8162-01A-21R-2256-07</td><td>Primary Tumor</td><td>TCGA-DU-8162</td></tr>\n",
              "\t<tr><th scope=row>6</th><td>TCGA-S9-A7R8-01A-11R-A34R-07</td><td>Primary Tumor</td><td>TCGA-S9-A7R8</td></tr>\n",
              "</tbody>\n",
              "</table>\n"
            ],
            "text/markdown": "\nA data.frame: 6 × 3\n\n| <!--/--> | sample_names &lt;chr&gt; | sample_type &lt;chr&gt; | patient &lt;chr&gt; |\n|---|---|---|---|\n| 1 | TCGA-E1-A7YQ-01A-11R-A34R-07 | Primary Tumor | TCGA-E1-A7YQ |\n| 2 | TCGA-S9-A7QW-01A-11R-A34F-07 | Primary Tumor | TCGA-S9-A7QW |\n| 3 | TCGA-FG-A4MU-01B-11R-A28M-07 | Primary Tumor | TCGA-FG-A4MU |\n| 4 | TCGA-QH-A6CU-01A-11R-A31N-07 | Primary Tumor | TCGA-QH-A6CU |\n| 5 | TCGA-DU-8162-01A-21R-2256-07 | Primary Tumor | TCGA-DU-8162 |\n| 6 | TCGA-S9-A7R8-01A-11R-A34R-07 | Primary Tumor | TCGA-S9-A7R8 |\n\n",
            "text/latex": "A data.frame: 6 × 3\n\\begin{tabular}{r|lll}\n  & sample\\_names & sample\\_type & patient\\\\\n  & <chr> & <chr> & <chr>\\\\\n\\hline\n\t1 & TCGA-E1-A7YQ-01A-11R-A34R-07 & Primary Tumor & TCGA-E1-A7YQ\\\\\n\t2 & TCGA-S9-A7QW-01A-11R-A34F-07 & Primary Tumor & TCGA-S9-A7QW\\\\\n\t3 & TCGA-FG-A4MU-01B-11R-A28M-07 & Primary Tumor & TCGA-FG-A4MU\\\\\n\t4 & TCGA-QH-A6CU-01A-11R-A31N-07 & Primary Tumor & TCGA-QH-A6CU\\\\\n\t5 & TCGA-DU-8162-01A-21R-2256-07 & Primary Tumor & TCGA-DU-8162\\\\\n\t6 & TCGA-S9-A7R8-01A-11R-A34R-07 & Primary Tumor & TCGA-S9-A7R8\\\\\n\\end{tabular}\n",
            "text/plain": [
              "  sample_names                 sample_type   patient     \n",
              "1 TCGA-E1-A7YQ-01A-11R-A34R-07 Primary Tumor TCGA-E1-A7YQ\n",
              "2 TCGA-S9-A7QW-01A-11R-A34F-07 Primary Tumor TCGA-S9-A7QW\n",
              "3 TCGA-FG-A4MU-01B-11R-A28M-07 Primary Tumor TCGA-FG-A4MU\n",
              "4 TCGA-QH-A6CU-01A-11R-A31N-07 Primary Tumor TCGA-QH-A6CU\n",
              "5 TCGA-DU-8162-01A-21R-2256-07 Primary Tumor TCGA-DU-8162\n",
              "6 TCGA-S9-A7R8-01A-11R-A34R-07 Primary Tumor TCGA-S9-A7R8"
            ]
          },
          "metadata": {}
        }
      ],
      "source": [
        "\n",
        "head(DGE_metadata)"
      ]
    },
    {
      "cell_type": "markdown",
      "metadata": {
        "id": "4DZOkbn-_U67"
      },
      "source": [
        "**Now barcode format is the same so check if they matches**"
      ]
    },
    {
      "cell_type": "code",
      "execution_count": 27,
      "metadata": {
        "colab": {
          "base_uri": "https://localhost:8080/"
        },
        "id": "9S2M8D4flPud",
        "outputId": "eef051bd-6d6a-4d25-cf52-99ea8fcb9afc"
      },
      "outputs": [
        {
          "output_type": "stream",
          "name": "stdout",
          "text": [
            "[1] \"Number of matched barcodes in DGE data: 534\"\n"
          ]
        }
      ],
      "source": [
        "# Check which short barcodes are present in lgg_subtype barcodes\n",
        "matched_columns_dge <- DGE_metadata$patient %in% lgg_subtype_df$patient\n",
        "# Print how many barcodes matched now\n",
        "print(paste(\"Number of matched barcodes in DGE data:\", sum(matched_columns_dge)))\n",
        "\n"
      ]
    },
    {
      "cell_type": "markdown",
      "metadata": {
        "id": "xuLyWtQp8nRc"
      },
      "source": [
        "### **Merge DGE Data with IDH status from subtype data**"
      ]
    },
    {
      "cell_type": "code",
      "execution_count": 28,
      "metadata": {
        "colab": {
          "base_uri": "https://localhost:8080/",
          "height": 515
        },
        "id": "kzxGTVk58rtj",
        "outputId": "53b706f5-b7e3-41ac-a9d5-af166e682cc6"
      },
      "outputs": [
        {
          "output_type": "display_data",
          "data": {
            "text/html": [
              "<table class=\"dataframe\">\n",
              "<caption>A data.frame: 6 × 7</caption>\n",
              "<thead>\n",
              "\t<tr><th></th><th scope=col>patient</th><th scope=col>sample_names</th><th scope=col>sample_type</th><th scope=col>IDH.status</th><th scope=col>IDH.codel.subtype</th><th scope=col>IDH.specific.DNA.Methylation.Cluster</th><th scope=col>IDH.specific.RNA.Expression.Cluster</th></tr>\n",
              "\t<tr><th></th><th scope=col>&lt;chr&gt;</th><th scope=col>&lt;chr&gt;</th><th scope=col>&lt;chr&gt;</th><th scope=col>&lt;chr&gt;</th><th scope=col>&lt;chr&gt;</th><th scope=col>&lt;chr&gt;</th><th scope=col>&lt;chr&gt;</th></tr>\n",
              "</thead>\n",
              "<tbody>\n",
              "\t<tr><th scope=row>1</th><td>TCGA-CS-4938</td><td>TCGA-CS-4938-01B-11R-1896-07</td><td>Primary Tumor</td><td>Mutant</td><td>IDHmut-non-codel</td><td>IDHmut-K2</td><td>IDHmut-R3</td></tr>\n",
              "\t<tr><th scope=row>2</th><td>TCGA-CS-4941</td><td>TCGA-CS-4941-01A-01R-1470-07</td><td>Primary Tumor</td><td>WT    </td><td>IDHwt           </td><td>IDHwt-K2 </td><td>IDHwt-R2 </td></tr>\n",
              "\t<tr><th scope=row>3</th><td>TCGA-CS-4942</td><td>TCGA-CS-4942-01A-01R-1470-07</td><td>Primary Tumor</td><td>Mutant</td><td>IDHmut-non-codel</td><td>IDHmut-K2</td><td>IDHmut-R3</td></tr>\n",
              "\t<tr><th scope=row>4</th><td>TCGA-CS-4943</td><td>TCGA-CS-4943-01A-01R-1470-07</td><td>Primary Tumor</td><td>Mutant</td><td>IDHmut-non-codel</td><td>IDHmut-K2</td><td>IDHmut-R3</td></tr>\n",
              "\t<tr><th scope=row>5</th><td>TCGA-CS-4944</td><td>TCGA-CS-4944-01A-01R-1470-07</td><td>Primary Tumor</td><td>Mutant</td><td>IDHmut-non-codel</td><td>IDHmut-K2</td><td>IDHmut-R3</td></tr>\n",
              "\t<tr><th scope=row>6</th><td>TCGA-CS-5390</td><td>TCGA-CS-5390-01A-02R-1470-07</td><td>Primary Tumor</td><td>Mutant</td><td>IDHmut-codel    </td><td>IDHmut-K3</td><td>IDHmut-R1</td></tr>\n",
              "</tbody>\n",
              "</table>\n"
            ],
            "text/markdown": "\nA data.frame: 6 × 7\n\n| <!--/--> | patient &lt;chr&gt; | sample_names &lt;chr&gt; | sample_type &lt;chr&gt; | IDH.status &lt;chr&gt; | IDH.codel.subtype &lt;chr&gt; | IDH.specific.DNA.Methylation.Cluster &lt;chr&gt; | IDH.specific.RNA.Expression.Cluster &lt;chr&gt; |\n|---|---|---|---|---|---|---|---|\n| 1 | TCGA-CS-4938 | TCGA-CS-4938-01B-11R-1896-07 | Primary Tumor | Mutant | IDHmut-non-codel | IDHmut-K2 | IDHmut-R3 |\n| 2 | TCGA-CS-4941 | TCGA-CS-4941-01A-01R-1470-07 | Primary Tumor | WT     | IDHwt            | IDHwt-K2  | IDHwt-R2  |\n| 3 | TCGA-CS-4942 | TCGA-CS-4942-01A-01R-1470-07 | Primary Tumor | Mutant | IDHmut-non-codel | IDHmut-K2 | IDHmut-R3 |\n| 4 | TCGA-CS-4943 | TCGA-CS-4943-01A-01R-1470-07 | Primary Tumor | Mutant | IDHmut-non-codel | IDHmut-K2 | IDHmut-R3 |\n| 5 | TCGA-CS-4944 | TCGA-CS-4944-01A-01R-1470-07 | Primary Tumor | Mutant | IDHmut-non-codel | IDHmut-K2 | IDHmut-R3 |\n| 6 | TCGA-CS-5390 | TCGA-CS-5390-01A-02R-1470-07 | Primary Tumor | Mutant | IDHmut-codel     | IDHmut-K3 | IDHmut-R1 |\n\n",
            "text/latex": "A data.frame: 6 × 7\n\\begin{tabular}{r|lllllll}\n  & patient & sample\\_names & sample\\_type & IDH.status & IDH.codel.subtype & IDH.specific.DNA.Methylation.Cluster & IDH.specific.RNA.Expression.Cluster\\\\\n  & <chr> & <chr> & <chr> & <chr> & <chr> & <chr> & <chr>\\\\\n\\hline\n\t1 & TCGA-CS-4938 & TCGA-CS-4938-01B-11R-1896-07 & Primary Tumor & Mutant & IDHmut-non-codel & IDHmut-K2 & IDHmut-R3\\\\\n\t2 & TCGA-CS-4941 & TCGA-CS-4941-01A-01R-1470-07 & Primary Tumor & WT     & IDHwt            & IDHwt-K2  & IDHwt-R2 \\\\\n\t3 & TCGA-CS-4942 & TCGA-CS-4942-01A-01R-1470-07 & Primary Tumor & Mutant & IDHmut-non-codel & IDHmut-K2 & IDHmut-R3\\\\\n\t4 & TCGA-CS-4943 & TCGA-CS-4943-01A-01R-1470-07 & Primary Tumor & Mutant & IDHmut-non-codel & IDHmut-K2 & IDHmut-R3\\\\\n\t5 & TCGA-CS-4944 & TCGA-CS-4944-01A-01R-1470-07 & Primary Tumor & Mutant & IDHmut-non-codel & IDHmut-K2 & IDHmut-R3\\\\\n\t6 & TCGA-CS-5390 & TCGA-CS-5390-01A-02R-1470-07 & Primary Tumor & Mutant & IDHmut-codel     & IDHmut-K3 & IDHmut-R1\\\\\n\\end{tabular}\n",
            "text/plain": [
              "  patient      sample_names                 sample_type   IDH.status\n",
              "1 TCGA-CS-4938 TCGA-CS-4938-01B-11R-1896-07 Primary Tumor Mutant    \n",
              "2 TCGA-CS-4941 TCGA-CS-4941-01A-01R-1470-07 Primary Tumor WT        \n",
              "3 TCGA-CS-4942 TCGA-CS-4942-01A-01R-1470-07 Primary Tumor Mutant    \n",
              "4 TCGA-CS-4943 TCGA-CS-4943-01A-01R-1470-07 Primary Tumor Mutant    \n",
              "5 TCGA-CS-4944 TCGA-CS-4944-01A-01R-1470-07 Primary Tumor Mutant    \n",
              "6 TCGA-CS-5390 TCGA-CS-5390-01A-02R-1470-07 Primary Tumor Mutant    \n",
              "  IDH.codel.subtype IDH.specific.DNA.Methylation.Cluster\n",
              "1 IDHmut-non-codel  IDHmut-K2                           \n",
              "2 IDHwt             IDHwt-K2                            \n",
              "3 IDHmut-non-codel  IDHmut-K2                           \n",
              "4 IDHmut-non-codel  IDHmut-K2                           \n",
              "5 IDHmut-non-codel  IDHmut-K2                           \n",
              "6 IDHmut-codel      IDHmut-K3                           \n",
              "  IDH.specific.RNA.Expression.Cluster\n",
              "1 IDHmut-R3                          \n",
              "2 IDHwt-R2                           \n",
              "3 IDHmut-R3                          \n",
              "4 IDHmut-R3                          \n",
              "5 IDHmut-R3                          \n",
              "6 IDHmut-R1                          "
            ]
          },
          "metadata": {}
        }
      ],
      "source": [
        "dge_metadata_with_IDHstatus <- merge(DGE_metadata, lgg_subtype_df, by = \"patient\", all = TRUE)\n",
        "\n",
        "head(dge_metadata_with_IDHstatus)\n",
        "\n",
        "write.csv(dge_metadata_with_IDHstatus, \"dge_metadata_with_IDHstatus.csv\",row.names = TRUE)"
      ]
    },
    {
      "cell_type": "markdown",
      "metadata": {
        "id": "Hhprs2umkqKU"
      },
      "source": [
        "### **Differential Gene Expression Analysis of TCGA-LGG data**"
      ]
    },
    {
      "cell_type": "markdown",
      "source": [
        "**Perform differetial expression analysis using TCGAanalyze_DEA method**"
      ],
      "metadata": {
        "id": "WRiaiaEwExkV"
      }
    },
    {
      "cell_type": "code",
      "source": [
        "# Remove rows with NA values from metadata in IDH.status column before subsetting\n",
        "dge_metadata_with_IDHstatus <- dge_metadata_with_IDHstatus[!is.na(dge_metadata_with_IDHstatus$IDH.status), ]\n",
        "\n",
        "# Separate samples into Mutant and Wildtype groups based on IDH status\n",
        "mutant_samples <- dge_metadata_with_IDHstatus[dge_metadata_with_IDHstatus$IDH.status == \"Mutant\", ]\n",
        "wildtype_samples <- dge_metadata_with_IDHstatus[dge_metadata_with_IDHstatus$IDH.status == \"WT\", ]\n",
        "\n",
        "# Find column names in DEA_matrix_log2 that match mutant and wildtype samples\n",
        "matched_col_mutant <- colnames(DEA_matrix_log2)[colnames(DEA_matrix_log2) %in% mutant_samples$sample_names]\n",
        "matched_col_wt <- colnames(DEA_matrix_log2)[colnames(DEA_matrix_log2) %in% wildtype_samples$sample_names]\n",
        "\n",
        "# Extract log2 values for wildtype and mutant samples\n",
        "log2_wildtype <- DEA_matrix_log2[, matched_col_wt]\n",
        "log2_mutant <- DEA_matrix_log2[, matched_col_mutant]\n",
        "\n",
        "# Perform differential gene expression analysis using edgeR\n",
        "lgg_dge_results <- TCGAanalyze_DEA(\n",
        "  mat1 = log2_wildtype,       # Wildtype expression matrix\n",
        "  mat2 = log2_mutant,         # Mutant expression matrix\n",
        "  Cond1type = \"WT\",           # Condition label for wildtype\n",
        "  Cond2type = \"Mutant\",       # Condition label for mutant\n",
        "  pipeline = \"edgeR\",\n",
        "  fdr.cut = 0.01,\n",
        "  logFC.cut = 2,\n",
        "  method = \"glmLRT\"          # Using glmLRT method for DGE\n",
        ")\n",
        "\n",
        "# Analyze the levels of differential expression\n",
        "lgg_dge_levels <- TCGAanalyze_LevelTab(\n",
        "  lgg_dge_results,\n",
        "  \"WT\",\n",
        "  \"Mutant\",\n",
        "  log2_wildtype,\n",
        "  log2_mutant\n",
        ")\n",
        "\n",
        "# View the first few rows of the differential expression results\n",
        "head(lgg_dge_levels)\n",
        "\n",
        "# Save the results to CSV\n",
        "write.csv(lgg_dge_levels, \"LGG_DGE_levels.csv\")\n",
        "\n",
        "\n",
        "\n",
        "\n"
      ],
      "metadata": {
        "colab": {
          "base_uri": "https://localhost:8080/",
          "height": 529
        },
        "id": "uXpoREmE5O8D",
        "outputId": "0e3ccf26-4dce-4fae-8b0b-a97ecc98655a"
      },
      "execution_count": 30,
      "outputs": [
        {
          "output_type": "stream",
          "name": "stderr",
          "text": [
            "Batch correction skipped since no factors provided\n",
            "\n",
            "----------------------- DEA -------------------------------\n",
            "\n",
            "o 97 samples in Cond1type WT\n",
            "\n",
            "o 434 samples in Cond2type Mutant\n",
            "\n",
            "o 34549 features as miRNA or genes \n",
            "\n",
            "This may take some minutes...\n",
            "\n",
            "----------------------- END DEA -------------------------------\n",
            "\n"
          ]
        },
        {
          "output_type": "display_data",
          "data": {
            "text/html": [
              "<table class=\"dataframe\">\n",
              "<caption>A data.frame: 6 × 8</caption>\n",
              "<thead>\n",
              "\t<tr><th></th><th scope=col>mRNA</th><th scope=col>logFC</th><th scope=col>FDR</th><th scope=col>Delta</th><th scope=col>WT</th><th scope=col>Mutant</th><th scope=col>start</th><th scope=col>end</th></tr>\n",
              "\t<tr><th></th><th scope=col>&lt;chr&gt;</th><th scope=col>&lt;dbl&gt;</th><th scope=col>&lt;dbl&gt;</th><th scope=col>&lt;dbl&gt;</th><th scope=col>&lt;dbl&gt;</th><th scope=col>&lt;dbl&gt;</th><th scope=col>&lt;int&gt;</th><th scope=col>&lt;int&gt;</th></tr>\n",
              "</thead>\n",
              "<tbody>\n",
              "\t<tr><th scope=row>ENSG00000257935</th><td>ENSG00000257935</td><td>2.389878</td><td>3.557592e-98</td><td>2.089740</td><td>0.8744125</td><td>5.071961</td><td>113472003</td><td>113480624</td></tr>\n",
              "\t<tr><th scope=row>ENSG00000286953</th><td>ENSG00000286953</td><td>2.279222</td><td>1.435709e-80</td><td>1.830508</td><td>0.8031284</td><td>4.345280</td><td> 97799404</td><td> 97882687</td></tr>\n",
              "\t<tr><th scope=row>ENSG00000129152</th><td>ENSG00000129152</td><td>2.155459</td><td>3.568524e-69</td><td>1.718389</td><td>0.7972266</td><td>3.951736</td><td> 17719571</td><td> 17722136</td></tr>\n",
              "\t<tr><th scope=row>ENSG00000163206</th><td>ENSG00000163206</td><td>2.350968</td><td>1.612729e-76</td><td>1.597042</td><td>0.6793125</td><td>3.947077</td><td>152878322</td><td>152885047</td></tr>\n",
              "\t<tr><th scope=row>ENSG00000165762</th><td>ENSG00000165762</td><td>2.093974</td><td>3.245439e-57</td><td>1.446258</td><td>0.6906759</td><td>3.330757</td><td> 19875142</td><td> 19883932</td></tr>\n",
              "\t<tr><th scope=row>ENSG00000189295</th><td>ENSG00000189295</td><td>2.478826</td><td>1.136234e-67</td><td>1.188988</td><td>0.4796576</td><td>3.221227</td><td> 16654066</td><td> 16675540</td></tr>\n",
              "</tbody>\n",
              "</table>\n"
            ],
            "text/markdown": "\nA data.frame: 6 × 8\n\n| <!--/--> | mRNA &lt;chr&gt; | logFC &lt;dbl&gt; | FDR &lt;dbl&gt; | Delta &lt;dbl&gt; | WT &lt;dbl&gt; | Mutant &lt;dbl&gt; | start &lt;int&gt; | end &lt;int&gt; |\n|---|---|---|---|---|---|---|---|---|\n| ENSG00000257935 | ENSG00000257935 | 2.389878 | 3.557592e-98 | 2.089740 | 0.8744125 | 5.071961 | 113472003 | 113480624 |\n| ENSG00000286953 | ENSG00000286953 | 2.279222 | 1.435709e-80 | 1.830508 | 0.8031284 | 4.345280 |  97799404 |  97882687 |\n| ENSG00000129152 | ENSG00000129152 | 2.155459 | 3.568524e-69 | 1.718389 | 0.7972266 | 3.951736 |  17719571 |  17722136 |\n| ENSG00000163206 | ENSG00000163206 | 2.350968 | 1.612729e-76 | 1.597042 | 0.6793125 | 3.947077 | 152878322 | 152885047 |\n| ENSG00000165762 | ENSG00000165762 | 2.093974 | 3.245439e-57 | 1.446258 | 0.6906759 | 3.330757 |  19875142 |  19883932 |\n| ENSG00000189295 | ENSG00000189295 | 2.478826 | 1.136234e-67 | 1.188988 | 0.4796576 | 3.221227 |  16654066 |  16675540 |\n\n",
            "text/latex": "A data.frame: 6 × 8\n\\begin{tabular}{r|llllllll}\n  & mRNA & logFC & FDR & Delta & WT & Mutant & start & end\\\\\n  & <chr> & <dbl> & <dbl> & <dbl> & <dbl> & <dbl> & <int> & <int>\\\\\n\\hline\n\tENSG00000257935 & ENSG00000257935 & 2.389878 & 3.557592e-98 & 2.089740 & 0.8744125 & 5.071961 & 113472003 & 113480624\\\\\n\tENSG00000286953 & ENSG00000286953 & 2.279222 & 1.435709e-80 & 1.830508 & 0.8031284 & 4.345280 &  97799404 &  97882687\\\\\n\tENSG00000129152 & ENSG00000129152 & 2.155459 & 3.568524e-69 & 1.718389 & 0.7972266 & 3.951736 &  17719571 &  17722136\\\\\n\tENSG00000163206 & ENSG00000163206 & 2.350968 & 1.612729e-76 & 1.597042 & 0.6793125 & 3.947077 & 152878322 & 152885047\\\\\n\tENSG00000165762 & ENSG00000165762 & 2.093974 & 3.245439e-57 & 1.446258 & 0.6906759 & 3.330757 &  19875142 &  19883932\\\\\n\tENSG00000189295 & ENSG00000189295 & 2.478826 & 1.136234e-67 & 1.188988 & 0.4796576 & 3.221227 &  16654066 &  16675540\\\\\n\\end{tabular}\n",
            "text/plain": [
              "                mRNA            logFC    FDR          Delta    WT       \n",
              "ENSG00000257935 ENSG00000257935 2.389878 3.557592e-98 2.089740 0.8744125\n",
              "ENSG00000286953 ENSG00000286953 2.279222 1.435709e-80 1.830508 0.8031284\n",
              "ENSG00000129152 ENSG00000129152 2.155459 3.568524e-69 1.718389 0.7972266\n",
              "ENSG00000163206 ENSG00000163206 2.350968 1.612729e-76 1.597042 0.6793125\n",
              "ENSG00000165762 ENSG00000165762 2.093974 3.245439e-57 1.446258 0.6906759\n",
              "ENSG00000189295 ENSG00000189295 2.478826 1.136234e-67 1.188988 0.4796576\n",
              "                Mutant   start     end      \n",
              "ENSG00000257935 5.071961 113472003 113480624\n",
              "ENSG00000286953 4.345280  97799404  97882687\n",
              "ENSG00000129152 3.951736  17719571  17722136\n",
              "ENSG00000163206 3.947077 152878322 152885047\n",
              "ENSG00000165762 3.330757  19875142  19883932\n",
              "ENSG00000189295 3.221227  16654066  16675540"
            ]
          },
          "metadata": {}
        }
      ]
    },
    {
      "cell_type": "code",
      "source": [
        "# Separate upregulated and downregulated genes based on logFC cutoff\n",
        "upreg_genes <- lgg_dge_levels[lgg_dge_levels$logFC > 2, ]\n",
        "dnreg_genes <- lgg_dge_levels[lgg_dge_levels$logFC < -2, ]\n",
        "\n",
        "# Change column names to \"GeneIDs\"\n",
        "colnames(upreg_genes)[1] <- \"GeneIDs\"\n",
        "colnames(dnreg_genes)[1] <- \"GeneIDs\"\n",
        "\n",
        "# Save upregulated and downregulated genes to CSV files\n",
        "write.csv(upreg_genes, \"LGG_Uregulated_genes.csv\")\n",
        "write.csv(dnreg_genes, \"LGG_Downregulated_genes.csv\")\n"
      ],
      "metadata": {
        "id": "hMabM3iZ5_wv"
      },
      "execution_count": 31,
      "outputs": []
    },
    {
      "cell_type": "code",
      "source": [
        "volcano_data <- data.frame(\n",
        "  Gene = rownames(lgg_dge_results),\n",
        "  logFC = lgg_dge_results$logFC,\n",
        "  FDR = lgg_dge_results$FDR,\n",
        "  IDH_status = ifelse(rownames(lgg_dge_results) %in% upreg_genes$GeneIDs, \"Mutant\",\n",
        "                      ifelse(rownames(lgg_dge_results) %in% dnreg_genes$GeneIDs, \"Wild Type\", \"Not significant\"))\n",
        ")\n",
        "\n",
        "# Calculate -log10 FDR for the y-axis\n",
        "volcano_data$negLogFDR <- -log10(volcano_data$FDR)\n",
        "png(filename = \"Volcano_Heatmap_LGG-TCGA.png\", res = 300, width=1500, height=1200)\n",
        "# Create volcano plot\n",
        "ggplot(volcano_data, aes(x = logFC, y = negLogFDR, color = IDH_status)) +\n",
        "  geom_point(size = 2, alpha = 0.6) +\n",
        "  geom_vline(xintercept = c(-1, 1), linetype = \"dashed\", color = \"black\") +\n",
        "  geom_hline(yintercept = 1.3, linetype = \"dashed\", color = \"black\") +\n",
        "  scale_color_manual(values = c(\"Mutant\" = \"red\", \"Wild Type\" = \"blue\", \"Not significant\" = \"grey\")) +\n",
        "  theme_minimal() +\n",
        "  labs(x = \"Log2 Fold Change\", y = \"-Log10 FDR\", title = \"Volcano Plot of WT vs Mut\", color = \"Sample Type\") +\n",
        "  theme(axis.text = element_text(size = 12),\n",
        "        axis.title = element_text(size = 14),\n",
        "        plot.title = element_text(hjust = 0.5, size = 16),\n",
        "        legend.position = \"top\") +\n",
        "  ggrepel::geom_label_repel(data = subset(volcano_data, abs(logFC) > 2 & FDR < 0.01), aes(label = Gene))\n",
        "\n",
        "dev.off()"
      ],
      "metadata": {
        "colab": {
          "base_uri": "https://localhost:8080/",
          "height": 69
        },
        "id": "QvU8xyRJ7SGF",
        "outputId": "28185622-9a9f-4c8b-adaa-ef4e2c05c8d2"
      },
      "execution_count": 44,
      "outputs": [
        {
          "output_type": "stream",
          "name": "stderr",
          "text": [
            "Warning message:\n",
            "“ggrepel: 66 unlabeled data points (too many overlaps). Consider increasing max.overlaps”\n"
          ]
        },
        {
          "output_type": "display_data",
          "data": {
            "text/html": [
              "<strong>pdf:</strong> 2"
            ],
            "text/markdown": "**pdf:** 2",
            "text/latex": "\\textbf{pdf:} 2",
            "text/plain": [
              "pdf \n",
              "  2 "
            ]
          },
          "metadata": {}
        }
      ]
    },
    {
      "cell_type": "code",
      "source": [
        "write.csv(lgg_dge_results,\"LGG_DGE_results.csv\")"
      ],
      "metadata": {
        "id": "YRU29e1CGUuc"
      },
      "execution_count": 38,
      "outputs": []
    },
    {
      "cell_type": "markdown",
      "source": [
        "### **Heatmap generation by sample clustering**"
      ],
      "metadata": {
        "id": "tgNKR6piIn2B"
      }
    },
    {
      "cell_type": "code",
      "source": [
        "# take data from coad_log2norm matrix with rownames by coad_dge_levels\n",
        "heatmap_data <- head(DEA_matrix_log2[rownames(lgg_dge_levels),])"
      ],
      "metadata": {
        "id": "1lk3c5FSIs06"
      },
      "execution_count": 40,
      "outputs": []
    },
    {
      "cell_type": "code",
      "source": [
        "# color the plot by kind of mutant\n",
        "idh_type <- c(rep(\"Mutant\",434), rep(\"WT\",97))\n",
        "\n",
        "color_code <- c(rep(\"Mutant\",434), rep(\"WT\",97))"
      ],
      "metadata": {
        "id": "-pUhkehdInj3"
      },
      "execution_count": 41,
      "outputs": []
    },
    {
      "cell_type": "code",
      "source": [
        "color_code <- c()\n",
        "\n",
        "for(i in idh_type ){\n",
        "  if(i == \"WT\"){\n",
        "    color_code <- c(color_code,\"blue\")\n",
        "  }else{\n",
        "     color_code <- c(color_code,\"red\")\n",
        "  }\n",
        "}"
      ],
      "metadata": {
        "id": "Kn3yyXNHJm2h"
      },
      "execution_count": 42,
      "outputs": []
    },
    {
      "cell_type": "code",
      "source": [
        "typeof(color_code)"
      ],
      "metadata": {
        "collapsed": true,
        "colab": {
          "base_uri": "https://localhost:8080/",
          "height": 34
        },
        "id": "p3DhDPYIJy7n",
        "outputId": "3d7dcb51-7908-4ce2-9fab-3594ad02b012"
      },
      "execution_count": null,
      "outputs": [
        {
          "output_type": "display_data",
          "data": {
            "text/html": [
              "'character'"
            ],
            "text/markdown": "'character'",
            "text/latex": "'character'",
            "text/plain": [
              "[1] \"character\""
            ]
          },
          "metadata": {}
        }
      ]
    },
    {
      "cell_type": "code",
      "source": [
        "# Specify the output file and dimensions for heapmap\n",
        "\n",
        "png(filename = \"SampleCluster_Heatmap_LGG-TCGA.png\", res = 300, width=1500, height=1200)\n",
        "\n",
        "heatmap.2(\n",
        "            x = as.matrix(heatmap_data),                    # data matrix\n",
        "            dendrogram = \"col\", # Creates both row and column dendrograms\n",
        "            Rowv =F, Colv =T,\n",
        "            scale = \"row\",  # Scale by row (normalize each row)\n",
        "            trace = \"none\",                  # No trace lines inside the heatmap\n",
        "            col = bluered(100),              # Color scheme (you can choose another one)\n",
        "            #margins = c(3, 3),               # Adjust margins\n",
        "            key = TRUE,                      # Show a color key\n",
        "            cexRow = 0.5,                    # Font size for row labels\n",
        "            cexCol = 0.5,    # Font size for column labels\n",
        "            main = \"LGG Sample clusters heatmap\" ,\n",
        "            #ColSideColors = color_code\n",
        ")\n",
        "\n",
        "dev.off()"
      ],
      "metadata": {
        "colab": {
          "base_uri": "https://localhost:8080/",
          "height": 34
        },
        "id": "5LqENP8LJ5Dv",
        "outputId": "ee8e189a-8f0c-4db4-f736-b41d0a282d40"
      },
      "execution_count": 43,
      "outputs": [
        {
          "output_type": "display_data",
          "data": {
            "text/html": [
              "<strong>pdf:</strong> 2"
            ],
            "text/markdown": "**pdf:** 2",
            "text/latex": "\\textbf{pdf:} 2",
            "text/plain": [
              "pdf \n",
              "  2 "
            ]
          },
          "metadata": {}
        }
      ]
    }
  ],
  "metadata": {
    "accelerator": "GPU",
    "colab": {
      "gpuType": "T4",
      "machine_shape": "hm",
      "provenance": []
    },
    "kernelspec": {
      "display_name": "R",
      "name": "ir"
    },
    "language_info": {
      "name": "R"
    }
  },
  "nbformat": 4,
  "nbformat_minor": 0
}