{
  "cells": [
    {
      "cell_type": "code",
      "execution_count": null,
      "metadata": {
        "colab": {
          "base_uri": "https://localhost:8080/"
        },
        "id": "VncKY0mj3IDM",
        "outputId": "e99b1931-a375-4929-dc6d-7833cdbf0738"
      },
      "outputs": [
        {
          "output_type": "stream",
          "name": "stderr",
          "text": [
            "Installing package into ‘/usr/local/lib/R/site-library’\n",
            "(as ‘lib’ is unspecified)\n",
            "\n",
            "'getOption(\"repos\")' replaces Bioconductor standard repositories, see\n",
            "'help(\"repositories\", package = \"BiocManager\")' for details.\n",
            "Replacement repositories:\n",
            "    CRAN: https://cran.rstudio.com\n",
            "\n",
            "Bioconductor version 3.19 (BiocManager 1.30.25), R 4.4.1 (2024-06-14)\n",
            "\n",
            "Installing package(s) 'BiocVersion', 'TCGAbiolinks'\n",
            "\n",
            "also installing the dependencies ‘plogr’, ‘png’, ‘Biostrings’, ‘RSQLite’, ‘KEGGREST’, ‘filelock’, ‘UCSC.utils’, ‘GenomeInfoDbData’, ‘zlibbioc’, ‘matrixStats’, ‘abind’, ‘SparseArray’, ‘AnnotationDbi’, ‘BiocFileCache’, ‘BiocGenerics’, ‘GenomeInfoDb’, ‘XVector’, ‘R.oo’, ‘R.methodsS3’, ‘MatrixGenerics’, ‘Biobase’, ‘S4Arrays’, ‘DelayedArray’, ‘downloader’, ‘biomaRt’, ‘GenomicRanges’, ‘XML’, ‘plyr’, ‘IRanges’, ‘S4Vectors’, ‘R.utils’, ‘SummarizedExperiment’, ‘TCGAbiolinksGUI.data’\n",
            "\n",
            "\n",
            "Old packages: 'askpass', 'commonmark', 'credentials', 'sys', 'xfun'\n",
            "\n",
            "Installing package into ‘/usr/local/lib/R/site-library’\n",
            "(as ‘lib’ is unspecified)\n",
            "\n",
            "also installing the dependency ‘RcppEigen’\n",
            "\n",
            "\n",
            "Installing package into ‘/usr/local/lib/R/site-library’\n",
            "(as ‘lib’ is unspecified)\n",
            "\n",
            "also installing the dependencies ‘listenv’, ‘parallelly’, ‘future’, ‘globals’, ‘shape’, ‘future.apply’, ‘numDeriv’, ‘progressr’, ‘SQUAREM’, ‘diagram’, ‘lava’, ‘prodlim’, ‘proxy’, ‘iterators’, ‘clock’, ‘gower’, ‘hardhat’, ‘ipred’, ‘timeDate’, ‘e1071’, ‘foreach’, ‘ModelMetrics’, ‘pROC’, ‘recipes’, ‘reshape2’\n",
            "\n",
            "\n",
            "Installing package into ‘/usr/local/lib/R/site-library’\n",
            "(as ‘lib’ is unspecified)\n",
            "\n",
            "also installing the dependencies ‘gridExtra’, ‘iBreakDown’, ‘ingredients’\n",
            "\n",
            "\n",
            "Installing package into ‘/usr/local/lib/R/site-library’\n",
            "(as ‘lib’ is unspecified)\n",
            "\n",
            "Installing package into ‘/usr/local/lib/R/site-library’\n",
            "(as ‘lib’ is unspecified)\n",
            "\n",
            "Warning message:\n",
            "“package ‘SummarizedExperiment’ is not available for this version of R\n",
            "\n",
            "A version of this package for your version of R might be available elsewhere,\n",
            "see the ideas at\n",
            "https://cran.r-project.org/doc/manuals/r-patched/R-admin.html#Installing-packages”\n"
          ]
        }
      ],
      "source": [
        "# install necessary packages\n",
        "if (!require(\"BiocManager\", quietly = TRUE))\n",
        "    install.packages(\"BiocManager\")\n",
        "\n",
        "BiocManager::install(\"TCGAbiolinks\")\n",
        "install.packages(\"ranger\")\n",
        "install.packages('caret')\n",
        "install.packages('DALEX')\n",
        "install.packages('pROC')\n",
        "install.packages('SummarizedExperiment')"
      ]
    },
    {
      "cell_type": "code",
      "execution_count": null,
      "metadata": {
        "colab": {
          "base_uri": "https://localhost:8080/"
        },
        "id": "86gkluJHJGbD",
        "outputId": "dbe14e7f-fd52-4d91-e6ce-3eb52e2be11e"
      },
      "outputs": [
        {
          "output_type": "stream",
          "name": "stderr",
          "text": [
            "Loading required package: ggplot2\n",
            "\n",
            "Loading required package: lattice\n",
            "\n",
            "Welcome to DALEX (version: 2.4.3).\n",
            "Find examples and detailed introduction at: http://ema.drwhy.ai/\n",
            "Additional features will be available after installation of: ggpubr.\n",
            "Use 'install_dependencies()' to get all suggested dependencies\n",
            "\n",
            "Type 'citation(\"pROC\")' for a citation.\n",
            "\n",
            "\n",
            "Attaching package: ‘pROC’\n",
            "\n",
            "\n",
            "The following objects are masked from ‘package:stats’:\n",
            "\n",
            "    cov, smooth, var\n",
            "\n",
            "\n",
            "Loading required package: MatrixGenerics\n",
            "\n",
            "Loading required package: matrixStats\n",
            "\n",
            "\n",
            "Attaching package: ‘MatrixGenerics’\n",
            "\n",
            "\n",
            "The following objects are masked from ‘package:matrixStats’:\n",
            "\n",
            "    colAlls, colAnyNAs, colAnys, colAvgsPerRowSet, colCollapse,\n",
            "    colCounts, colCummaxs, colCummins, colCumprods, colCumsums,\n",
            "    colDiffs, colIQRDiffs, colIQRs, colLogSumExps, colMadDiffs,\n",
            "    colMads, colMaxs, colMeans2, colMedians, colMins, colOrderStats,\n",
            "    colProds, colQuantiles, colRanges, colRanks, colSdDiffs, colSds,\n",
            "    colSums2, colTabulates, colVarDiffs, colVars, colWeightedMads,\n",
            "    colWeightedMeans, colWeightedMedians, colWeightedSds,\n",
            "    colWeightedVars, rowAlls, rowAnyNAs, rowAnys, rowAvgsPerColSet,\n",
            "    rowCollapse, rowCounts, rowCummaxs, rowCummins, rowCumprods,\n",
            "    rowCumsums, rowDiffs, rowIQRDiffs, rowIQRs, rowLogSumExps,\n",
            "    rowMadDiffs, rowMads, rowMaxs, rowMeans2, rowMedians, rowMins,\n",
            "    rowOrderStats, rowProds, rowQuantiles, rowRanges, rowRanks,\n",
            "    rowSdDiffs, rowSds, rowSums2, rowTabulates, rowVarDiffs, rowVars,\n",
            "    rowWeightedMads, rowWeightedMeans, rowWeightedMedians,\n",
            "    rowWeightedSds, rowWeightedVars\n",
            "\n",
            "\n",
            "Loading required package: GenomicRanges\n",
            "\n",
            "Loading required package: stats4\n",
            "\n",
            "Loading required package: BiocGenerics\n",
            "\n",
            "\n",
            "Attaching package: ‘BiocGenerics’\n",
            "\n",
            "\n",
            "The following object is masked from ‘package:pROC’:\n",
            "\n",
            "    var\n",
            "\n",
            "\n",
            "The following objects are masked from ‘package:stats’:\n",
            "\n",
            "    IQR, mad, sd, var, xtabs\n",
            "\n",
            "\n",
            "The following objects are masked from ‘package:base’:\n",
            "\n",
            "    anyDuplicated, aperm, append, as.data.frame, basename, cbind,\n",
            "    colnames, dirname, do.call, duplicated, eval, evalq, Filter, Find,\n",
            "    get, grep, grepl, intersect, is.unsorted, lapply, Map, mapply,\n",
            "    match, mget, order, paste, pmax, pmax.int, pmin, pmin.int,\n",
            "    Position, rank, rbind, Reduce, rownames, sapply, setdiff, table,\n",
            "    tapply, union, unique, unsplit, which.max, which.min\n",
            "\n",
            "\n",
            "Loading required package: S4Vectors\n",
            "\n",
            "\n",
            "Attaching package: ‘S4Vectors’\n",
            "\n",
            "\n",
            "The following object is masked from ‘package:utils’:\n",
            "\n",
            "    findMatches\n",
            "\n",
            "\n",
            "The following objects are masked from ‘package:base’:\n",
            "\n",
            "    expand.grid, I, unname\n",
            "\n",
            "\n",
            "Loading required package: IRanges\n",
            "\n",
            "Loading required package: GenomeInfoDb\n",
            "\n",
            "Loading required package: Biobase\n",
            "\n",
            "Welcome to Bioconductor\n",
            "\n",
            "    Vignettes contain introductory material; view with\n",
            "    'browseVignettes()'. To cite Bioconductor, see\n",
            "    'citation(\"Biobase\")', and for packages 'citation(\"pkgname\")'.\n",
            "\n",
            "\n",
            "\n",
            "Attaching package: ‘Biobase’\n",
            "\n",
            "\n",
            "The following object is masked from ‘package:MatrixGenerics’:\n",
            "\n",
            "    rowMedians\n",
            "\n",
            "\n",
            "The following objects are masked from ‘package:matrixStats’:\n",
            "\n",
            "    anyMissing, rowMedians\n",
            "\n",
            "\n"
          ]
        }
      ],
      "source": [
        "library(caret)\n",
        "library(TCGAbiolinks)\n",
        "library(DALEX)\n",
        "library(pROC)\n",
        "library(ranger)\n",
        "library(SummarizedExperiment)"
      ]
    },
    {
      "cell_type": "code",
      "execution_count": null,
      "metadata": {
        "colab": {
          "base_uri": "https://localhost:8080/"
        },
        "id": "02ezfEMAGIrZ",
        "outputId": "338a3591-5bc8-4693-c8bb-bddb317cfe2b"
      },
      "outputs": [
        {
          "output_type": "stream",
          "name": "stderr",
          "text": [
            "--------------------------------------\n",
            "\n",
            "o GDCquery: Searching in GDC database\n",
            "\n",
            "--------------------------------------\n",
            "\n",
            "Genome of reference: hg38\n",
            "\n",
            "--------------------------------------------\n",
            "\n",
            "oo Accessing GDC. This might take a while...\n",
            "\n",
            "--------------------------------------------\n",
            "\n",
            "ooo Project: TCGA-LGG\n",
            "\n",
            "--------------------\n",
            "\n",
            "oo Filtering results\n",
            "\n",
            "--------------------\n",
            "\n",
            "ooo By access\n",
            "\n",
            "ooo By experimental.strategy\n",
            "\n",
            "ooo By workflow.type\n",
            "\n",
            "----------------\n",
            "\n",
            "oo Checking data\n",
            "\n",
            "----------------\n",
            "\n",
            "ooo Checking if there are duplicated cases\n",
            "\n",
            "ooo Checking if there are results for the query\n",
            "\n",
            "-------------------\n",
            "\n",
            "o Preparing output\n",
            "\n",
            "-------------------\n",
            "\n"
          ]
        }
      ],
      "source": [
        "query_DGE <- GDCquery(project = \"TCGA-LGG\",\n",
        "                  data.category = \"Transcriptome Profiling\",\n",
        "                  experimental.strategy = \"RNA-Seq\",\n",
        "                  workflow.type = \"STAR - Counts\",\n",
        "                  access = \"open\")"
      ]
    },
    {
      "cell_type": "code",
      "execution_count": null,
      "metadata": {
        "id": "sIYGmIfSGLAm"
      },
      "outputs": [],
      "source": [
        "#get results of the query\n",
        "output_query_DGE_TCGA <- getResults(query_DGE)"
      ]
    },
    {
      "cell_type": "code",
      "execution_count": null,
      "metadata": {
        "colab": {
          "base_uri": "https://localhost:8080/"
        },
        "id": "oZCaWY_uGP_4",
        "outputId": "1203668a-9408-4b9a-d292-1e187196bce9"
      },
      "outputs": [
        {
          "output_type": "stream",
          "name": "stderr",
          "text": [
            "Downloading data for project TCGA-LGG\n",
            "\n",
            "GDCdownload will download 534 files. A total of 2.267094301 GB\n",
            "\n",
            "The total size of files is big. We will download files in chunks\n",
            "\n",
            "Downloading chunk 1 of 3 (235 files, size = 997.720977 MB) as Sat_Oct__5_16_35_26_2024_0.tar.gz\n",
            "\n"
          ]
        },
        {
          "output_type": "stream",
          "name": "stdout",
          "text": [
            "Downloading: 250 MB     "
          ]
        },
        {
          "output_type": "stream",
          "name": "stderr",
          "text": [
            "Downloading chunk 2 of 3 (235 files, size = 997.728398 MB) as Sat_Oct__5_16_35_26_2024_1.tar.gz\n",
            "\n"
          ]
        },
        {
          "output_type": "stream",
          "name": "stdout",
          "text": [
            "Downloading: 250 MB     "
          ]
        },
        {
          "output_type": "stream",
          "name": "stderr",
          "text": [
            "Downloading chunk 3 of 3 (64 files, size = 271.644926 MB) as Sat_Oct__5_16_35_26_2024_2.tar.gz\n",
            "\n"
          ]
        },
        {
          "output_type": "stream",
          "name": "stdout",
          "text": [
            "Downloading: 67 MB     "
          ]
        }
      ],
      "source": [
        "GDCdownload(query_DGE)"
      ]
    },
    {
      "cell_type": "code",
      "execution_count": null,
      "metadata": {
        "colab": {
          "base_uri": "https://localhost:8080/"
        },
        "id": "xOmNxoIjGVmk",
        "outputId": "9fbe14f6-719e-4f56-d8c9-1904b39e8aa7"
      },
      "outputs": [
        {
          "output_type": "stream",
          "name": "stdout",
          "text": [
            "|====================================================|100%                      Completed after 35 s \n"
          ]
        },
        {
          "output_type": "stream",
          "name": "stderr",
          "text": [
            "Starting to add information to samples\n",
            "\n",
            " => Add clinical information to samples\n",
            "\n",
            " => Adding TCGA molecular information from marker papers\n",
            "\n",
            " => Information will have prefix 'paper_' \n",
            "\n",
            "lgg subtype information from:doi:10.1016/j.cell.2015.12.028\n",
            "\n",
            "Available assays in SummarizedExperiment : \n",
            "  => unstranded\n",
            "  => stranded_first\n",
            "  => stranded_second\n",
            "  => tpm_unstrand\n",
            "  => fpkm_unstrand\n",
            "  => fpkm_uq_unstrand\n",
            "\n"
          ]
        }
      ],
      "source": [
        "DGE_data <- GDCprepare(query_DGE)"
      ]
    },
    {
      "cell_type": "code",
      "execution_count": null,
      "metadata": {
        "id": "NPhUbjeBGW0Y"
      },
      "outputs": [],
      "source": [
        "DEA_matrix <- assay(DGE_data, \"unstranded\")"
      ]
    },
    {
      "cell_type": "code",
      "execution_count": null,
      "metadata": {
        "colab": {
          "base_uri": "https://localhost:8080/",
          "height": 34
        },
        "id": "AapAKB_gGY_D",
        "outputId": "c37fb7c3-e6cd-4ab2-db14-c19b558af782"
      },
      "outputs": [
        {
          "output_type": "display_data",
          "data": {
            "text/html": [
              "<style>\n",
              ".list-inline {list-style: none; margin:0; padding: 0}\n",
              ".list-inline>li {display: inline-block}\n",
              ".list-inline>li:not(:last-child)::after {content: \"\\00b7\"; padding: 0 .5ex}\n",
              "</style>\n",
              "<ol class=list-inline><li>60660</li><li>534</li></ol>\n"
            ],
            "text/markdown": "1. 60660\n2. 534\n\n\n",
            "text/latex": "\\begin{enumerate*}\n\\item 60660\n\\item 534\n\\end{enumerate*}\n",
            "text/plain": [
              "[1] 60660   534"
            ]
          },
          "metadata": {}
        }
      ],
      "source": [
        "dim(DEA_matrix)"
      ]
    },
    {
      "cell_type": "code",
      "execution_count": null,
      "metadata": {
        "colab": {
          "base_uri": "https://localhost:8080/",
          "height": 390
        },
        "id": "qwCpFyCCaJuT",
        "outputId": "50eb735b-f944-4b05-9d54-ed9979271ecf"
      },
      "outputs": [
        {
          "output_type": "display_data",
          "data": {
            "text/html": [
              "<table class=\"dataframe\">\n",
              "<caption>A data.frame: 6 × 7</caption>\n",
              "<thead>\n",
              "\t<tr><th></th><th scope=col>patient</th><th scope=col>sample_names</th><th scope=col>sample_type</th><th scope=col>IDH.status</th><th scope=col>IDH.codel.subtype</th><th scope=col>IDH.specific.DNA.Methylation.Cluster</th><th scope=col>IDH.specific.RNA.Expression.Cluster</th></tr>\n",
              "\t<tr><th></th><th scope=col>&lt;chr&gt;</th><th scope=col>&lt;chr&gt;</th><th scope=col>&lt;chr&gt;</th><th scope=col>&lt;chr&gt;</th><th scope=col>&lt;chr&gt;</th><th scope=col>&lt;chr&gt;</th><th scope=col>&lt;chr&gt;</th></tr>\n",
              "</thead>\n",
              "<tbody>\n",
              "\t<tr><th scope=row>1</th><td>TCGA-CS-4938</td><td>TCGA-CS-4938-01B-11R-1896-07</td><td>Primary Tumor</td><td>Mutant</td><td>IDHmut-non-codel</td><td>IDHmut-K2</td><td>IDHmut-R3</td></tr>\n",
              "\t<tr><th scope=row>2</th><td>TCGA-CS-4941</td><td>TCGA-CS-4941-01A-01R-1470-07</td><td>Primary Tumor</td><td>WT    </td><td>IDHwt           </td><td>IDHwt-K2 </td><td>IDHwt-R2 </td></tr>\n",
              "\t<tr><th scope=row>3</th><td>TCGA-CS-4942</td><td>TCGA-CS-4942-01A-01R-1470-07</td><td>Primary Tumor</td><td>Mutant</td><td>IDHmut-non-codel</td><td>IDHmut-K2</td><td>IDHmut-R3</td></tr>\n",
              "\t<tr><th scope=row>4</th><td>TCGA-CS-4943</td><td>TCGA-CS-4943-01A-01R-1470-07</td><td>Primary Tumor</td><td>Mutant</td><td>IDHmut-non-codel</td><td>IDHmut-K2</td><td>IDHmut-R3</td></tr>\n",
              "\t<tr><th scope=row>5</th><td>TCGA-CS-4944</td><td>TCGA-CS-4944-01A-01R-1470-07</td><td>Primary Tumor</td><td>Mutant</td><td>IDHmut-non-codel</td><td>IDHmut-K2</td><td>IDHmut-R3</td></tr>\n",
              "\t<tr><th scope=row>6</th><td>TCGA-CS-5390</td><td>TCGA-CS-5390-01A-02R-1470-07</td><td>Primary Tumor</td><td>Mutant</td><td>IDHmut-codel    </td><td>IDHmut-K3</td><td>IDHmut-R1</td></tr>\n",
              "</tbody>\n",
              "</table>\n"
            ],
            "text/markdown": "\nA data.frame: 6 × 7\n\n| <!--/--> | patient &lt;chr&gt; | sample_names &lt;chr&gt; | sample_type &lt;chr&gt; | IDH.status &lt;chr&gt; | IDH.codel.subtype &lt;chr&gt; | IDH.specific.DNA.Methylation.Cluster &lt;chr&gt; | IDH.specific.RNA.Expression.Cluster &lt;chr&gt; |\n|---|---|---|---|---|---|---|---|\n| 1 | TCGA-CS-4938 | TCGA-CS-4938-01B-11R-1896-07 | Primary Tumor | Mutant | IDHmut-non-codel | IDHmut-K2 | IDHmut-R3 |\n| 2 | TCGA-CS-4941 | TCGA-CS-4941-01A-01R-1470-07 | Primary Tumor | WT     | IDHwt            | IDHwt-K2  | IDHwt-R2  |\n| 3 | TCGA-CS-4942 | TCGA-CS-4942-01A-01R-1470-07 | Primary Tumor | Mutant | IDHmut-non-codel | IDHmut-K2 | IDHmut-R3 |\n| 4 | TCGA-CS-4943 | TCGA-CS-4943-01A-01R-1470-07 | Primary Tumor | Mutant | IDHmut-non-codel | IDHmut-K2 | IDHmut-R3 |\n| 5 | TCGA-CS-4944 | TCGA-CS-4944-01A-01R-1470-07 | Primary Tumor | Mutant | IDHmut-non-codel | IDHmut-K2 | IDHmut-R3 |\n| 6 | TCGA-CS-5390 | TCGA-CS-5390-01A-02R-1470-07 | Primary Tumor | Mutant | IDHmut-codel     | IDHmut-K3 | IDHmut-R1 |\n\n",
            "text/latex": "A data.frame: 6 × 7\n\\begin{tabular}{r|lllllll}\n  & patient & sample\\_names & sample\\_type & IDH.status & IDH.codel.subtype & IDH.specific.DNA.Methylation.Cluster & IDH.specific.RNA.Expression.Cluster\\\\\n  & <chr> & <chr> & <chr> & <chr> & <chr> & <chr> & <chr>\\\\\n\\hline\n\t1 & TCGA-CS-4938 & TCGA-CS-4938-01B-11R-1896-07 & Primary Tumor & Mutant & IDHmut-non-codel & IDHmut-K2 & IDHmut-R3\\\\\n\t2 & TCGA-CS-4941 & TCGA-CS-4941-01A-01R-1470-07 & Primary Tumor & WT     & IDHwt            & IDHwt-K2  & IDHwt-R2 \\\\\n\t3 & TCGA-CS-4942 & TCGA-CS-4942-01A-01R-1470-07 & Primary Tumor & Mutant & IDHmut-non-codel & IDHmut-K2 & IDHmut-R3\\\\\n\t4 & TCGA-CS-4943 & TCGA-CS-4943-01A-01R-1470-07 & Primary Tumor & Mutant & IDHmut-non-codel & IDHmut-K2 & IDHmut-R3\\\\\n\t5 & TCGA-CS-4944 & TCGA-CS-4944-01A-01R-1470-07 & Primary Tumor & Mutant & IDHmut-non-codel & IDHmut-K2 & IDHmut-R3\\\\\n\t6 & TCGA-CS-5390 & TCGA-CS-5390-01A-02R-1470-07 & Primary Tumor & Mutant & IDHmut-codel     & IDHmut-K3 & IDHmut-R1\\\\\n\\end{tabular}\n",
            "text/plain": [
              "  patient      sample_names                 sample_type   IDH.status\n",
              "1 TCGA-CS-4938 TCGA-CS-4938-01B-11R-1896-07 Primary Tumor Mutant    \n",
              "2 TCGA-CS-4941 TCGA-CS-4941-01A-01R-1470-07 Primary Tumor WT        \n",
              "3 TCGA-CS-4942 TCGA-CS-4942-01A-01R-1470-07 Primary Tumor Mutant    \n",
              "4 TCGA-CS-4943 TCGA-CS-4943-01A-01R-1470-07 Primary Tumor Mutant    \n",
              "5 TCGA-CS-4944 TCGA-CS-4944-01A-01R-1470-07 Primary Tumor Mutant    \n",
              "6 TCGA-CS-5390 TCGA-CS-5390-01A-02R-1470-07 Primary Tumor Mutant    \n",
              "  IDH.codel.subtype IDH.specific.DNA.Methylation.Cluster\n",
              "1 IDHmut-non-codel  IDHmut-K2                           \n",
              "2 IDHwt             IDHwt-K2                            \n",
              "3 IDHmut-non-codel  IDHmut-K2                           \n",
              "4 IDHmut-non-codel  IDHmut-K2                           \n",
              "5 IDHmut-non-codel  IDHmut-K2                           \n",
              "6 IDHmut-codel      IDHmut-K3                           \n",
              "  IDH.specific.RNA.Expression.Cluster\n",
              "1 IDHmut-R3                          \n",
              "2 IDHwt-R2                           \n",
              "3 IDHmut-R3                          \n",
              "4 IDHmut-R3                          \n",
              "5 IDHmut-R3                          \n",
              "6 IDHmut-R1                          "
            ]
          },
          "metadata": {}
        }
      ],
      "source": [
        "# import DGE metadata\n",
        "DGE_metadata <- read.csv(\"https://raw.githubusercontent.com/mahiiC/HackBio_Internship_2024/refs/heads/main/Stage_4%20Task/Data/DGE_metadata_with_IDHstatus.csv\", row.names = 1)\n",
        "head(DGE_metadata)"
      ]
    },
    {
      "cell_type": "code",
      "execution_count": null,
      "metadata": {
        "id": "IoYdp3X3GTJK"
      },
      "outputs": [],
      "source": [
        "# Making sample_names as rownames of DGE_metadata\n",
        "rownames(DGE_metadata) <- DGE_metadata[,2]\n",
        "DGE_metadata <- DGE_metadata[,-2]"
      ]
    },
    {
      "cell_type": "code",
      "execution_count": null,
      "metadata": {
        "colab": {
          "base_uri": "https://localhost:8080/",
          "height": 34
        },
        "id": "L-d7gGgrGbyo",
        "outputId": "07641f46-fa16-422f-94d7-90c8709cb308"
      },
      "outputs": [
        {
          "output_type": "display_data",
          "data": {
            "text/html": [
              "TRUE"
            ],
            "text/markdown": "TRUE",
            "text/latex": "TRUE",
            "text/plain": [
              "[1] TRUE"
            ]
          },
          "metadata": {}
        }
      ],
      "source": [
        "# checking if all row names of DGE_metadata are present in column names DGE_norm_data\n",
        "all(colnames(DEA_matrix) %in% rownames(DGE_metadata))"
      ]
    },
    {
      "cell_type": "code",
      "execution_count": null,
      "metadata": {
        "colab": {
          "base_uri": "https://localhost:8080/",
          "height": 34
        },
        "id": "r0euIx91GeJI",
        "outputId": "3c891552-07a1-4951-f887-e91fb5916db3"
      },
      "outputs": [
        {
          "output_type": "display_data",
          "data": {
            "text/html": [
              "FALSE"
            ],
            "text/markdown": "FALSE",
            "text/latex": "FALSE",
            "text/plain": [
              "[1] FALSE"
            ]
          },
          "metadata": {}
        }
      ],
      "source": [
        "# checking if all row names of DGE_metadata are in the same order as column names in DGE_norm_data\n",
        "all(rownames(DGE_metadata) == colnames(DEA_matrix))"
      ]
    },
    {
      "cell_type": "code",
      "execution_count": null,
      "metadata": {
        "colab": {
          "base_uri": "https://localhost:8080/",
          "height": 34
        },
        "id": "8MFnWj8AGf2L",
        "outputId": "ed9f3b3d-0322-4b3f-ba0d-51cd2543f858"
      },
      "outputs": [
        {
          "output_type": "display_data",
          "data": {
            "text/html": [
              "TRUE"
            ],
            "text/markdown": "TRUE",
            "text/latex": "TRUE",
            "text/plain": [
              "[1] TRUE"
            ]
          },
          "metadata": {}
        }
      ],
      "source": [
        "# reordering dataset\n",
        "DEA_matrix <- DEA_matrix[, rownames(DGE_metadata)]\n",
        "all(rownames(DGE_metadata) == colnames(DEA_matrix))"
      ]
    },
    {
      "cell_type": "code",
      "execution_count": null,
      "metadata": {
        "id": "7WFqECor94TF"
      },
      "outputs": [],
      "source": [
        "set.seed(12345)"
      ]
    },
    {
      "cell_type": "markdown",
      "metadata": {
        "id": "EpeC3H02J5HR"
      },
      "source": [
        "### **Data Preprocessing for ML**"
      ]
    },
    {
      "cell_type": "code",
      "execution_count": null,
      "metadata": {
        "colab": {
          "base_uri": "https://localhost:8080/",
          "height": 34
        },
        "id": "2IwLOdCfB2Ey",
        "outputId": "d7c0ce43-3d70-411e-cf3e-5367580d027d"
      },
      "outputs": [
        {
          "output_type": "display_data",
          "data": {
            "text/html": [
              "<style>\n",
              ".list-inline {list-style: none; margin:0; padding: 0}\n",
              ".list-inline>li {display: inline-block}\n",
              ".list-inline>li:not(:last-child)::after {content: \"\\00b7\"; padding: 0 .5ex}\n",
              "</style>\n",
              "<ol class=list-inline><li>534</li><li>8000</li></ol>\n"
            ],
            "text/markdown": "1. 534\n2. 8000\n\n\n",
            "text/latex": "\\begin{enumerate*}\n\\item 534\n\\item 8000\n\\end{enumerate*}\n",
            "text/plain": [
              "[1]  534 8000"
            ]
          },
          "metadata": {}
        }
      ],
      "source": [
        "# selecting the top 8000 variable genes\n",
        "data_trans <- data.frame(t(DEA_matrix))\n",
        "sds <- apply(data_trans, 2, sd) #standard deviation\n",
        "top_preds <- order(sds, decreasing = T)[1:8000]\n",
        "data_trans <- data_trans[, top_preds]\n",
        "dim(data_trans)"
      ]
    },
    {
      "cell_type": "code",
      "execution_count": null,
      "metadata": {
        "colab": {
          "base_uri": "https://localhost:8080/",
          "height": 931
        },
        "id": "HdeNNn6GSa_E",
        "outputId": "5c340328-0ace-41b8-dd5c-785d4c4ec929"
      },
      "outputs": [
        {
          "output_type": "display_data",
          "data": {
            "text/html": [
              "<table class=\"dataframe\">\n",
              "<caption>A data.frame: 6 × 8000</caption>\n",
              "<thead>\n",
              "\t<tr><th></th><th scope=col>ENSG00000131095.13</th><th scope=col>ENSG00000210082.2</th><th scope=col>ENSG00000198804.2</th><th scope=col>ENSG00000198886.2</th><th scope=col>ENSG00000120885.22</th><th scope=col>ENSG00000113140.11</th><th scope=col>ENSG00000118271.12</th><th scope=col>ENSG00000198938.2</th><th scope=col>ENSG00000198712.1</th><th scope=col>ENSG00000198727.2</th><th scope=col>⋯</th><th scope=col>ENSG00000108306.13</th><th scope=col>ENSG00000160097.20</th><th scope=col>ENSG00000160211.19</th><th scope=col>ENSG00000145348.17</th><th scope=col>ENSG00000101417.12</th><th scope=col>ENSG00000140259.7</th><th scope=col>ENSG00000141385.10</th><th scope=col>ENSG00000101019.22</th><th scope=col>ENSG00000109618.12</th><th scope=col>ENSG00000183549.10</th></tr>\n",
              "\t<tr><th></th><th scope=col>&lt;int&gt;</th><th scope=col>&lt;int&gt;</th><th scope=col>&lt;int&gt;</th><th scope=col>&lt;int&gt;</th><th scope=col>&lt;int&gt;</th><th scope=col>&lt;int&gt;</th><th scope=col>&lt;int&gt;</th><th scope=col>&lt;int&gt;</th><th scope=col>&lt;int&gt;</th><th scope=col>&lt;int&gt;</th><th scope=col>⋯</th><th scope=col>&lt;int&gt;</th><th scope=col>&lt;int&gt;</th><th scope=col>&lt;int&gt;</th><th scope=col>&lt;int&gt;</th><th scope=col>&lt;int&gt;</th><th scope=col>&lt;int&gt;</th><th scope=col>&lt;int&gt;</th><th scope=col>&lt;int&gt;</th><th scope=col>&lt;int&gt;</th><th scope=col>&lt;int&gt;</th></tr>\n",
              "</thead>\n",
              "<tbody>\n",
              "\t<tr><th scope=row>TCGA-CS-4938-01B-11R-1896-07</th><td>4116776</td><td> 990695</td><td>1139736</td><td>1403693</td><td> 136718</td><td>388758</td><td> 2</td><td>350788</td><td>458698</td><td>450084</td><td>⋯</td><td>1880</td><td> 931</td><td>1515</td><td>1612</td><td>1850</td><td>2484</td><td>2598</td><td>2128</td><td>661</td><td> 620</td></tr>\n",
              "\t<tr><th scope=row>TCGA-CS-4941-01A-01R-1470-07</th><td>1986497</td><td> 434211</td><td> 452217</td><td> 350787</td><td> 561733</td><td>197571</td><td> 4</td><td>150503</td><td>210737</td><td>170910</td><td>⋯</td><td>1895</td><td> 706</td><td>2182</td><td>1957</td><td>1825</td><td>2795</td><td>2928</td><td>3269</td><td>744</td><td> 633</td></tr>\n",
              "\t<tr><th scope=row>TCGA-CS-4942-01A-01R-1470-07</th><td>2337734</td><td> 696161</td><td> 512382</td><td> 459020</td><td> 296710</td><td>228339</td><td> 2</td><td>227203</td><td>274289</td><td>266559</td><td>⋯</td><td>2062</td><td>1584</td><td>1739</td><td>2392</td><td> 843</td><td>2966</td><td>2227</td><td>2338</td><td>740</td><td> 909</td></tr>\n",
              "\t<tr><th scope=row>TCGA-CS-4943-01A-01R-1470-07</th><td> 654588</td><td> 605628</td><td> 398355</td><td> 330243</td><td> 168987</td><td>181947</td><td> 0</td><td>180345</td><td>152017</td><td>144796</td><td>⋯</td><td>3270</td><td> 711</td><td>1916</td><td>1979</td><td> 255</td><td>3932</td><td>1868</td><td>2223</td><td>985</td><td> 282</td></tr>\n",
              "\t<tr><th scope=row>TCGA-CS-4944-01A-01R-1470-07</th><td>5644438</td><td>1034671</td><td> 507632</td><td> 538086</td><td>4624713</td><td>231326</td><td>11</td><td>234253</td><td>279080</td><td>268078</td><td>⋯</td><td>1345</td><td>1489</td><td>2068</td><td>1346</td><td> 988</td><td>2599</td><td>1460</td><td>2170</td><td>393</td><td>1098</td></tr>\n",
              "\t<tr><th scope=row>TCGA-CS-5390-01A-02R-1470-07</th><td> 471764</td><td>1052898</td><td> 951973</td><td> 730924</td><td> 191335</td><td>163448</td><td> 1</td><td>311624</td><td>358225</td><td>218747</td><td>⋯</td><td>2984</td><td> 801</td><td>1788</td><td>3302</td><td>2412</td><td>2541</td><td>2476</td><td>2764</td><td>908</td><td> 284</td></tr>\n",
              "</tbody>\n",
              "</table>\n"
            ],
            "text/markdown": "\nA data.frame: 6 × 8000\n\n| <!--/--> | ENSG00000131095.13 &lt;int&gt; | ENSG00000210082.2 &lt;int&gt; | ENSG00000198804.2 &lt;int&gt; | ENSG00000198886.2 &lt;int&gt; | ENSG00000120885.22 &lt;int&gt; | ENSG00000113140.11 &lt;int&gt; | ENSG00000118271.12 &lt;int&gt; | ENSG00000198938.2 &lt;int&gt; | ENSG00000198712.1 &lt;int&gt; | ENSG00000198727.2 &lt;int&gt; | ⋯ ⋯ | ENSG00000108306.13 &lt;int&gt; | ENSG00000160097.20 &lt;int&gt; | ENSG00000160211.19 &lt;int&gt; | ENSG00000145348.17 &lt;int&gt; | ENSG00000101417.12 &lt;int&gt; | ENSG00000140259.7 &lt;int&gt; | ENSG00000141385.10 &lt;int&gt; | ENSG00000101019.22 &lt;int&gt; | ENSG00000109618.12 &lt;int&gt; | ENSG00000183549.10 &lt;int&gt; |\n|---|---|---|---|---|---|---|---|---|---|---|---|---|---|---|---|---|---|---|---|---|---|\n| TCGA-CS-4938-01B-11R-1896-07 | 4116776 |  990695 | 1139736 | 1403693 |  136718 | 388758 |  2 | 350788 | 458698 | 450084 | ⋯ | 1880 |  931 | 1515 | 1612 | 1850 | 2484 | 2598 | 2128 | 661 |  620 |\n| TCGA-CS-4941-01A-01R-1470-07 | 1986497 |  434211 |  452217 |  350787 |  561733 | 197571 |  4 | 150503 | 210737 | 170910 | ⋯ | 1895 |  706 | 2182 | 1957 | 1825 | 2795 | 2928 | 3269 | 744 |  633 |\n| TCGA-CS-4942-01A-01R-1470-07 | 2337734 |  696161 |  512382 |  459020 |  296710 | 228339 |  2 | 227203 | 274289 | 266559 | ⋯ | 2062 | 1584 | 1739 | 2392 |  843 | 2966 | 2227 | 2338 | 740 |  909 |\n| TCGA-CS-4943-01A-01R-1470-07 |  654588 |  605628 |  398355 |  330243 |  168987 | 181947 |  0 | 180345 | 152017 | 144796 | ⋯ | 3270 |  711 | 1916 | 1979 |  255 | 3932 | 1868 | 2223 | 985 |  282 |\n| TCGA-CS-4944-01A-01R-1470-07 | 5644438 | 1034671 |  507632 |  538086 | 4624713 | 231326 | 11 | 234253 | 279080 | 268078 | ⋯ | 1345 | 1489 | 2068 | 1346 |  988 | 2599 | 1460 | 2170 | 393 | 1098 |\n| TCGA-CS-5390-01A-02R-1470-07 |  471764 | 1052898 |  951973 |  730924 |  191335 | 163448 |  1 | 311624 | 358225 | 218747 | ⋯ | 2984 |  801 | 1788 | 3302 | 2412 | 2541 | 2476 | 2764 | 908 |  284 |\n\n",
            "text/latex": "A data.frame: 6 × 8000\n\\begin{tabular}{r|lllllllllllllllllllll}\n  & ENSG00000131095.13 & ENSG00000210082.2 & ENSG00000198804.2 & ENSG00000198886.2 & ENSG00000120885.22 & ENSG00000113140.11 & ENSG00000118271.12 & ENSG00000198938.2 & ENSG00000198712.1 & ENSG00000198727.2 & ⋯ & ENSG00000108306.13 & ENSG00000160097.20 & ENSG00000160211.19 & ENSG00000145348.17 & ENSG00000101417.12 & ENSG00000140259.7 & ENSG00000141385.10 & ENSG00000101019.22 & ENSG00000109618.12 & ENSG00000183549.10\\\\\n  & <int> & <int> & <int> & <int> & <int> & <int> & <int> & <int> & <int> & <int> & ⋯ & <int> & <int> & <int> & <int> & <int> & <int> & <int> & <int> & <int> & <int>\\\\\n\\hline\n\tTCGA-CS-4938-01B-11R-1896-07 & 4116776 &  990695 & 1139736 & 1403693 &  136718 & 388758 &  2 & 350788 & 458698 & 450084 & ⋯ & 1880 &  931 & 1515 & 1612 & 1850 & 2484 & 2598 & 2128 & 661 &  620\\\\\n\tTCGA-CS-4941-01A-01R-1470-07 & 1986497 &  434211 &  452217 &  350787 &  561733 & 197571 &  4 & 150503 & 210737 & 170910 & ⋯ & 1895 &  706 & 2182 & 1957 & 1825 & 2795 & 2928 & 3269 & 744 &  633\\\\\n\tTCGA-CS-4942-01A-01R-1470-07 & 2337734 &  696161 &  512382 &  459020 &  296710 & 228339 &  2 & 227203 & 274289 & 266559 & ⋯ & 2062 & 1584 & 1739 & 2392 &  843 & 2966 & 2227 & 2338 & 740 &  909\\\\\n\tTCGA-CS-4943-01A-01R-1470-07 &  654588 &  605628 &  398355 &  330243 &  168987 & 181947 &  0 & 180345 & 152017 & 144796 & ⋯ & 3270 &  711 & 1916 & 1979 &  255 & 3932 & 1868 & 2223 & 985 &  282\\\\\n\tTCGA-CS-4944-01A-01R-1470-07 & 5644438 & 1034671 &  507632 &  538086 & 4624713 & 231326 & 11 & 234253 & 279080 & 268078 & ⋯ & 1345 & 1489 & 2068 & 1346 &  988 & 2599 & 1460 & 2170 & 393 & 1098\\\\\n\tTCGA-CS-5390-01A-02R-1470-07 &  471764 & 1052898 &  951973 &  730924 &  191335 & 163448 &  1 & 311624 & 358225 & 218747 & ⋯ & 2984 &  801 & 1788 & 3302 & 2412 & 2541 & 2476 & 2764 & 908 &  284\\\\\n\\end{tabular}\n",
            "text/plain": [
              "                             ENSG00000131095.13 ENSG00000210082.2\n",
              "TCGA-CS-4938-01B-11R-1896-07 4116776             990695          \n",
              "TCGA-CS-4941-01A-01R-1470-07 1986497             434211          \n",
              "TCGA-CS-4942-01A-01R-1470-07 2337734             696161          \n",
              "TCGA-CS-4943-01A-01R-1470-07  654588             605628          \n",
              "TCGA-CS-4944-01A-01R-1470-07 5644438            1034671          \n",
              "TCGA-CS-5390-01A-02R-1470-07  471764            1052898          \n",
              "                             ENSG00000198804.2 ENSG00000198886.2\n",
              "TCGA-CS-4938-01B-11R-1896-07 1139736           1403693          \n",
              "TCGA-CS-4941-01A-01R-1470-07  452217            350787          \n",
              "TCGA-CS-4942-01A-01R-1470-07  512382            459020          \n",
              "TCGA-CS-4943-01A-01R-1470-07  398355            330243          \n",
              "TCGA-CS-4944-01A-01R-1470-07  507632            538086          \n",
              "TCGA-CS-5390-01A-02R-1470-07  951973            730924          \n",
              "                             ENSG00000120885.22 ENSG00000113140.11\n",
              "TCGA-CS-4938-01B-11R-1896-07  136718            388758            \n",
              "TCGA-CS-4941-01A-01R-1470-07  561733            197571            \n",
              "TCGA-CS-4942-01A-01R-1470-07  296710            228339            \n",
              "TCGA-CS-4943-01A-01R-1470-07  168987            181947            \n",
              "TCGA-CS-4944-01A-01R-1470-07 4624713            231326            \n",
              "TCGA-CS-5390-01A-02R-1470-07  191335            163448            \n",
              "                             ENSG00000118271.12 ENSG00000198938.2\n",
              "TCGA-CS-4938-01B-11R-1896-07  2                 350788           \n",
              "TCGA-CS-4941-01A-01R-1470-07  4                 150503           \n",
              "TCGA-CS-4942-01A-01R-1470-07  2                 227203           \n",
              "TCGA-CS-4943-01A-01R-1470-07  0                 180345           \n",
              "TCGA-CS-4944-01A-01R-1470-07 11                 234253           \n",
              "TCGA-CS-5390-01A-02R-1470-07  1                 311624           \n",
              "                             ENSG00000198712.1 ENSG00000198727.2 ⋯\n",
              "TCGA-CS-4938-01B-11R-1896-07 458698            450084            ⋯\n",
              "TCGA-CS-4941-01A-01R-1470-07 210737            170910            ⋯\n",
              "TCGA-CS-4942-01A-01R-1470-07 274289            266559            ⋯\n",
              "TCGA-CS-4943-01A-01R-1470-07 152017            144796            ⋯\n",
              "TCGA-CS-4944-01A-01R-1470-07 279080            268078            ⋯\n",
              "TCGA-CS-5390-01A-02R-1470-07 358225            218747            ⋯\n",
              "                             ENSG00000108306.13 ENSG00000160097.20\n",
              "TCGA-CS-4938-01B-11R-1896-07 1880                931              \n",
              "TCGA-CS-4941-01A-01R-1470-07 1895                706              \n",
              "TCGA-CS-4942-01A-01R-1470-07 2062               1584              \n",
              "TCGA-CS-4943-01A-01R-1470-07 3270                711              \n",
              "TCGA-CS-4944-01A-01R-1470-07 1345               1489              \n",
              "TCGA-CS-5390-01A-02R-1470-07 2984                801              \n",
              "                             ENSG00000160211.19 ENSG00000145348.17\n",
              "TCGA-CS-4938-01B-11R-1896-07 1515               1612              \n",
              "TCGA-CS-4941-01A-01R-1470-07 2182               1957              \n",
              "TCGA-CS-4942-01A-01R-1470-07 1739               2392              \n",
              "TCGA-CS-4943-01A-01R-1470-07 1916               1979              \n",
              "TCGA-CS-4944-01A-01R-1470-07 2068               1346              \n",
              "TCGA-CS-5390-01A-02R-1470-07 1788               3302              \n",
              "                             ENSG00000101417.12 ENSG00000140259.7\n",
              "TCGA-CS-4938-01B-11R-1896-07 1850               2484             \n",
              "TCGA-CS-4941-01A-01R-1470-07 1825               2795             \n",
              "TCGA-CS-4942-01A-01R-1470-07  843               2966             \n",
              "TCGA-CS-4943-01A-01R-1470-07  255               3932             \n",
              "TCGA-CS-4944-01A-01R-1470-07  988               2599             \n",
              "TCGA-CS-5390-01A-02R-1470-07 2412               2541             \n",
              "                             ENSG00000141385.10 ENSG00000101019.22\n",
              "TCGA-CS-4938-01B-11R-1896-07 2598               2128              \n",
              "TCGA-CS-4941-01A-01R-1470-07 2928               3269              \n",
              "TCGA-CS-4942-01A-01R-1470-07 2227               2338              \n",
              "TCGA-CS-4943-01A-01R-1470-07 1868               2223              \n",
              "TCGA-CS-4944-01A-01R-1470-07 1460               2170              \n",
              "TCGA-CS-5390-01A-02R-1470-07 2476               2764              \n",
              "                             ENSG00000109618.12 ENSG00000183549.10\n",
              "TCGA-CS-4938-01B-11R-1896-07 661                 620              \n",
              "TCGA-CS-4941-01A-01R-1470-07 744                 633              \n",
              "TCGA-CS-4942-01A-01R-1470-07 740                 909              \n",
              "TCGA-CS-4943-01A-01R-1470-07 985                 282              \n",
              "TCGA-CS-4944-01A-01R-1470-07 393                1098              \n",
              "TCGA-CS-5390-01A-02R-1470-07 908                 284              "
            ]
          },
          "metadata": {}
        }
      ],
      "source": [
        "head(data_trans)"
      ]
    },
    {
      "cell_type": "code",
      "source": [
        "keep_genes = colSums(data_trans) >= 10\n",
        "data_trans <- data_trans[, keep_genes]\n",
        "data_trans <- data_trans[rowSums(data_trans) >= 5, ]"
      ],
      "metadata": {
        "id": "wVl0CvuTp7PK"
      },
      "execution_count": null,
      "outputs": []
    },
    {
      "cell_type": "code",
      "source": [
        "dim(data_trans)"
      ],
      "metadata": {
        "colab": {
          "base_uri": "https://localhost:8080/",
          "height": 34
        },
        "id": "YLGr7ENxr_iq",
        "outputId": "f5beb3fb-dbad-4167-d060-97852d91fdd0"
      },
      "execution_count": null,
      "outputs": [
        {
          "output_type": "display_data",
          "data": {
            "text/html": [
              "<style>\n",
              ".list-inline {list-style: none; margin:0; padding: 0}\n",
              ".list-inline>li {display: inline-block}\n",
              ".list-inline>li:not(:last-child)::after {content: \"\\00b7\"; padding: 0 .5ex}\n",
              "</style>\n",
              "<ol class=list-inline><li>534</li><li>8000</li></ol>\n"
            ],
            "text/markdown": "1. 534\n2. 8000\n\n\n",
            "text/latex": "\\begin{enumerate*}\n\\item 534\n\\item 8000\n\\end{enumerate*}\n",
            "text/plain": [
              "[1]  534 8000"
            ]
          },
          "metadata": {}
        }
      ]
    },
    {
      "cell_type": "code",
      "source": [
        "BiocManager::install('DESeq2')\n",
        "library(DESeq2)"
      ],
      "metadata": {
        "colab": {
          "base_uri": "https://localhost:8080/"
        },
        "id": "qVl_88M6obYB",
        "outputId": "b2c6d216-00fc-4b86-b03d-228327e823d1"
      },
      "execution_count": null,
      "outputs": [
        {
          "output_type": "stream",
          "name": "stderr",
          "text": [
            "'getOption(\"repos\")' replaces Bioconductor standard repositories, see\n",
            "'help(\"repositories\", package = \"BiocManager\")' for details.\n",
            "Replacement repositories:\n",
            "    CRAN: https://cran.rstudio.com\n",
            "\n",
            "Bioconductor version 3.19 (BiocManager 1.30.25), R 4.4.1 (2024-06-14)\n",
            "\n",
            "Installing package(s) 'DESeq2'\n",
            "\n",
            "also installing the dependencies ‘formatR’, ‘lambda.r’, ‘futile.options’, ‘futile.logger’, ‘snow’, ‘BH’, ‘BiocParallel’, ‘locfit’, ‘RcppArmadillo’\n",
            "\n",
            "\n",
            "Old packages: 'askpass', 'commonmark', 'credentials', 'sys', 'xfun'\n",
            "\n"
          ]
        }
      ]
    },
    {
      "cell_type": "code",
      "execution_count": null,
      "metadata": {
        "id": "OiIXIWVRHR7m"
      },
      "outputs": [],
      "source": [
        "# Removing genes with Near Zero Variation (NZV)\n",
        "data_zero <- preProcess(data_trans, method = \"nzv\", uniqueCut = 15)\n",
        "data_trans <- predict(data_zero, data_trans)"
      ]
    },
    {
      "cell_type": "code",
      "execution_count": null,
      "metadata": {
        "colab": {
          "base_uri": "https://localhost:8080/",
          "height": 34
        },
        "id": "rtRzLECjKb5T",
        "outputId": "f1226018-6d54-4303-ea5a-0fac1b4ae4f8"
      },
      "outputs": [
        {
          "output_type": "display_data",
          "data": {
            "text/html": [
              "<style>\n",
              ".list-inline {list-style: none; margin:0; padding: 0}\n",
              ".list-inline>li {display: inline-block}\n",
              ".list-inline>li:not(:last-child)::after {content: \"\\00b7\"; padding: 0 .5ex}\n",
              "</style>\n",
              "<ol class=list-inline><li>534</li><li>8000</li></ol>\n"
            ],
            "text/markdown": "1. 534\n2. 8000\n\n\n",
            "text/latex": "\\begin{enumerate*}\n\\item 534\n\\item 8000\n\\end{enumerate*}\n",
            "text/plain": [
              "[1]  534 8000"
            ]
          },
          "metadata": {}
        }
      ],
      "source": [
        "dim(data_trans)"
      ]
    },
    {
      "cell_type": "code",
      "source": [
        "# Convert data_trans to numeric matrix\n",
        "data_trans <- as.matrix(data_trans)  # Convert to a matrix first\n",
        "data_trans <- data_trans + 1 # Adding pseudocount to avoid genes with all zeros\n",
        "\n",
        "# Normalization with DESeq2\n",
        "dds <- DESeqDataSetFromMatrix(countData = data_trans, colData = DataFrame(row.names=colnames(data_trans)), design = ~ 1) # 1 passed to the function because of no model\n",
        "dds <- DESeq(dds)"
      ],
      "metadata": {
        "colab": {
          "base_uri": "https://localhost:8080/"
        },
        "id": "a-qt4aTtn9Xl",
        "outputId": "72966aac-bcc8-449f-9406-1d0e592d388f"
      },
      "execution_count": null,
      "outputs": [
        {
          "output_type": "stream",
          "name": "stderr",
          "text": [
            "converting counts to integer mode\n",
            "\n",
            "Warning message in DESeq(dds):\n",
            "“the design is ~ 1 (just an intercept). is this intended?”\n",
            "estimating size factors\n",
            "\n",
            "estimating dispersions\n",
            "\n",
            "gene-wise dispersion estimates\n",
            "\n",
            "mean-dispersion relationship\n",
            "\n",
            "-- note: fitType='parametric', but the dispersion trend was not well captured by the\n",
            "   function: y = a/x + b, and a local regression fit was automatically substituted.\n",
            "   specify fitType='local' or 'mean' to avoid this message next time.\n",
            "\n",
            "final dispersion estimates\n",
            "\n",
            "fitting model and testing\n",
            "\n",
            "-- replacing outliers and refitting for 401 genes\n",
            "-- DESeq argument 'minReplicatesForReplace' = 7 \n",
            "-- original counts are preserved in counts(dds)\n",
            "\n",
            "estimating dispersions\n",
            "\n",
            "fitting model and testing\n",
            "\n"
          ]
        }
      ]
    },
    {
      "cell_type": "code",
      "source": [
        "# vst transformation\n",
        "vsd <- assay(varianceStabilizingTransformation(dds))"
      ],
      "metadata": {
        "colab": {
          "base_uri": "https://localhost:8080/"
        },
        "id": "zj8gObLKvELh",
        "outputId": "7c43c45e-aeb6-40e5-d1a5-4a7d8ed4d8ce"
      },
      "execution_count": null,
      "outputs": [
        {
          "output_type": "stream",
          "name": "stderr",
          "text": [
            "-- note: fitType='parametric', but the dispersion trend was not well captured by the\n",
            "   function: y = a/x + b, and a local regression fit was automatically substituted.\n",
            "   specify fitType='local' or 'mean' to avoid this message next time.\n",
            "\n"
          ]
        }
      ]
    },
    {
      "cell_type": "code",
      "execution_count": null,
      "metadata": {
        "colab": {
          "base_uri": "https://localhost:8080/",
          "height": 34
        },
        "id": "hk9-0ws0KxZs",
        "outputId": "a3a61913-19ad-4ea5-c720-69da21b04892"
      },
      "outputs": [
        {
          "output_type": "display_data",
          "data": {
            "text/html": [
              "<style>\n",
              ".list-inline {list-style: none; margin:0; padding: 0}\n",
              ".list-inline>li {display: inline-block}\n",
              ".list-inline>li:not(:last-child)::after {content: \"\\00b7\"; padding: 0 .5ex}\n",
              "</style>\n",
              "<ol class=list-inline><li>534</li><li>2407</li></ol>\n"
            ],
            "text/markdown": "1. 534\n2. 2407\n\n\n",
            "text/latex": "\\begin{enumerate*}\n\\item 534\n\\item 2407\n\\end{enumerate*}\n",
            "text/plain": [
              "[1]  534 2407"
            ]
          },
          "metadata": {}
        }
      ],
      "source": [
        "# remove highly correlated data\n",
        "data_corr <- preProcess(vsd, method = \"corr\", cutoff = 0.70)\n",
        "data_trans <- predict(data_corr, vsd)\n",
        "dim(data_trans)"
      ]
    },
    {
      "cell_type": "code",
      "execution_count": null,
      "metadata": {
        "colab": {
          "base_uri": "https://localhost:8080/",
          "height": 34
        },
        "id": "N3oxeInUDMwR",
        "outputId": "92de415d-ef5a-47ec-e848-fdad2f2bb5e3"
      },
      "outputs": [
        {
          "output_type": "display_data",
          "data": {
            "text/html": [
              "<style>\n",
              ".list-inline {list-style: none; margin:0; padding: 0}\n",
              ".list-inline>li {display: inline-block}\n",
              ".list-inline>li:not(:last-child)::after {content: \"\\00b7\"; padding: 0 .5ex}\n",
              "</style>\n",
              "<ol class=list-inline><li>534</li><li>2409</li></ol>\n"
            ],
            "text/markdown": "1. 534\n2. 2409\n\n\n",
            "text/latex": "\\begin{enumerate*}\n\\item 534\n\\item 2409\n\\end{enumerate*}\n",
            "text/plain": [
              "[1]  534 2409"
            ]
          },
          "metadata": {}
        }
      ],
      "source": [
        "data_trans <- merge(data_trans, DGE_metadata['IDH.status'], by = \"row.names\", sort = FALSE)\n",
        "dim(data_trans)"
      ]
    },
    {
      "cell_type": "code",
      "execution_count": null,
      "metadata": {
        "colab": {
          "base_uri": "https://localhost:8080/",
          "height": 931
        },
        "id": "YhU1i_W6UOxE",
        "outputId": "bc92203b-ece2-4cf3-868e-ba9dba57cb70"
      },
      "outputs": [
        {
          "output_type": "display_data",
          "data": {
            "text/html": [
              "<table class=\"dataframe\">\n",
              "<caption>A data.frame: 6 × 2408</caption>\n",
              "<thead>\n",
              "\t<tr><th></th><th scope=col>ENSG00000131095.13</th><th scope=col>ENSG00000120885.22</th><th scope=col>ENSG00000113140.11</th><th scope=col>ENSG00000118271.12</th><th scope=col>ENSG00000109846.9</th><th scope=col>ENSG00000130203.10</th><th scope=col>ENSG00000146648.19</th><th scope=col>ENSG00000198695.2</th><th scope=col>ENSG00000171885.18</th><th scope=col>ENSG00000135821.19</th><th scope=col>⋯</th><th scope=col>ENSG00000082482.14</th><th scope=col>ENSG00000144354.14</th><th scope=col>ENSG00000171004.18</th><th scope=col>ENSG00000121900.19</th><th scope=col>ENSG00000102032.13</th><th scope=col>ENSG00000146090.16</th><th scope=col>ENSG00000160211.19</th><th scope=col>ENSG00000101417.12</th><th scope=col>ENSG00000183549.10</th><th scope=col>IDH.status</th></tr>\n",
              "\t<tr><th></th><th scope=col>&lt;dbl&gt;</th><th scope=col>&lt;dbl&gt;</th><th scope=col>&lt;dbl&gt;</th><th scope=col>&lt;dbl&gt;</th><th scope=col>&lt;dbl&gt;</th><th scope=col>&lt;dbl&gt;</th><th scope=col>&lt;dbl&gt;</th><th scope=col>&lt;dbl&gt;</th><th scope=col>&lt;dbl&gt;</th><th scope=col>&lt;dbl&gt;</th><th scope=col>⋯</th><th scope=col>&lt;dbl&gt;</th><th scope=col>&lt;dbl&gt;</th><th scope=col>&lt;dbl&gt;</th><th scope=col>&lt;dbl&gt;</th><th scope=col>&lt;dbl&gt;</th><th scope=col>&lt;dbl&gt;</th><th scope=col>&lt;dbl&gt;</th><th scope=col>&lt;dbl&gt;</th><th scope=col>&lt;dbl&gt;</th><th scope=col>&lt;chr&gt;</th></tr>\n",
              "</thead>\n",
              "<tbody>\n",
              "\t<tr><th scope=row>TCGA-CS-4938-01B-11R-1896-07</th><td>14.042195</td><td> 5.603533</td><td>11.851646</td><td>10.307026</td><td> 8.844817</td><td>10.369810</td><td> 8.154948</td><td>12.698106</td><td>13.891425</td><td> 7.116968</td><td>⋯</td><td> 4.680477</td><td>12.435793</td><td> 7.496905</td><td>12.03391</td><td> 7.733082</td><td> 5.018913</td><td>8.147644</td><td>10.471995</td><td>10.813665</td><td>Mutant</td></tr>\n",
              "\t<tr><th scope=row>TCGA-CS-4941-01A-01R-1470-07</th><td>12.375402</td><td>11.513038</td><td> 9.017664</td><td>12.208442</td><td> 5.814786</td><td>10.176636</td><td>16.425503</td><td> 8.823037</td><td>13.796068</td><td>10.418079</td><td>⋯</td><td>12.207555</td><td>13.166846</td><td> 6.456163</td><td>11.55748</td><td>12.501291</td><td> 3.604534</td><td>9.870661</td><td>10.413404</td><td>10.899173</td><td>WT    </td></tr>\n",
              "\t<tr><th scope=row>TCGA-CS-4942-01A-01R-1470-07</th><td>12.815996</td><td> 8.730209</td><td> 9.701820</td><td>10.307026</td><td>11.522600</td><td>11.543719</td><td>10.578318</td><td>11.201400</td><td>11.485022</td><td>10.746416</td><td>⋯</td><td>11.419911</td><td>10.138115</td><td>10.318163</td><td>11.87830</td><td> 9.414809</td><td>10.896232</td><td>8.800690</td><td> 6.893369</td><td>12.178980</td><td>Mutant</td></tr>\n",
              "\t<tr><th scope=row>TCGA-CS-4943-01A-01R-1470-07</th><td> 7.780189</td><td> 6.295149</td><td> 8.623301</td><td> 5.649594</td><td>11.486874</td><td> 9.156750</td><td>12.765411</td><td> 8.340347</td><td> 9.134230</td><td> 7.355507</td><td>⋯</td><td>13.465718</td><td>14.538832</td><td> 7.245613</td><td>10.88667</td><td> 9.180586</td><td> 9.928951</td><td>9.264067</td><td> 4.015380</td><td> 7.228911</td><td>Mutant</td></tr>\n",
              "\t<tr><th scope=row>TCGA-CS-4944-01A-01R-1470-07</th><td>14.601860</td><td>15.869823</td><td> 9.761764</td><td>14.207815</td><td>12.186869</td><td> 9.160028</td><td> 8.495910</td><td>10.791995</td><td> 5.405140</td><td> 9.834508</td><td>⋯</td><td> 5.428684</td><td> 9.040686</td><td> 5.559601</td><td>12.84305</td><td>12.955605</td><td> 6.123716</td><td>9.623670</td><td> 7.571690</td><td>12.710549</td><td>Mutant</td></tr>\n",
              "\t<tr><th scope=row>TCGA-CS-5390-01A-02R-1470-07</th><td> 6.414462</td><td> 6.768295</td><td> 8.117387</td><td> 8.416037</td><td> 6.910824</td><td> 5.125587</td><td>13.960940</td><td>10.549869</td><td> 8.420851</td><td> 7.972475</td><td>⋯</td><td> 9.096286</td><td>10.546378</td><td> 9.795453</td><td> 7.15523</td><td> 7.508538</td><td> 8.622440</td><td>8.933746</td><td>11.529123</td><td> 7.259143</td><td>Mutant</td></tr>\n",
              "</tbody>\n",
              "</table>\n"
            ],
            "text/markdown": "\nA data.frame: 6 × 2408\n\n| <!--/--> | ENSG00000131095.13 &lt;dbl&gt; | ENSG00000120885.22 &lt;dbl&gt; | ENSG00000113140.11 &lt;dbl&gt; | ENSG00000118271.12 &lt;dbl&gt; | ENSG00000109846.9 &lt;dbl&gt; | ENSG00000130203.10 &lt;dbl&gt; | ENSG00000146648.19 &lt;dbl&gt; | ENSG00000198695.2 &lt;dbl&gt; | ENSG00000171885.18 &lt;dbl&gt; | ENSG00000135821.19 &lt;dbl&gt; | ⋯ ⋯ | ENSG00000082482.14 &lt;dbl&gt; | ENSG00000144354.14 &lt;dbl&gt; | ENSG00000171004.18 &lt;dbl&gt; | ENSG00000121900.19 &lt;dbl&gt; | ENSG00000102032.13 &lt;dbl&gt; | ENSG00000146090.16 &lt;dbl&gt; | ENSG00000160211.19 &lt;dbl&gt; | ENSG00000101417.12 &lt;dbl&gt; | ENSG00000183549.10 &lt;dbl&gt; | IDH.status &lt;chr&gt; |\n|---|---|---|---|---|---|---|---|---|---|---|---|---|---|---|---|---|---|---|---|---|---|\n| TCGA-CS-4938-01B-11R-1896-07 | 14.042195 |  5.603533 | 11.851646 | 10.307026 |  8.844817 | 10.369810 |  8.154948 | 12.698106 | 13.891425 |  7.116968 | ⋯ |  4.680477 | 12.435793 |  7.496905 | 12.03391 |  7.733082 |  5.018913 | 8.147644 | 10.471995 | 10.813665 | Mutant |\n| TCGA-CS-4941-01A-01R-1470-07 | 12.375402 | 11.513038 |  9.017664 | 12.208442 |  5.814786 | 10.176636 | 16.425503 |  8.823037 | 13.796068 | 10.418079 | ⋯ | 12.207555 | 13.166846 |  6.456163 | 11.55748 | 12.501291 |  3.604534 | 9.870661 | 10.413404 | 10.899173 | WT     |\n| TCGA-CS-4942-01A-01R-1470-07 | 12.815996 |  8.730209 |  9.701820 | 10.307026 | 11.522600 | 11.543719 | 10.578318 | 11.201400 | 11.485022 | 10.746416 | ⋯ | 11.419911 | 10.138115 | 10.318163 | 11.87830 |  9.414809 | 10.896232 | 8.800690 |  6.893369 | 12.178980 | Mutant |\n| TCGA-CS-4943-01A-01R-1470-07 |  7.780189 |  6.295149 |  8.623301 |  5.649594 | 11.486874 |  9.156750 | 12.765411 |  8.340347 |  9.134230 |  7.355507 | ⋯ | 13.465718 | 14.538832 |  7.245613 | 10.88667 |  9.180586 |  9.928951 | 9.264067 |  4.015380 |  7.228911 | Mutant |\n| TCGA-CS-4944-01A-01R-1470-07 | 14.601860 | 15.869823 |  9.761764 | 14.207815 | 12.186869 |  9.160028 |  8.495910 | 10.791995 |  5.405140 |  9.834508 | ⋯ |  5.428684 |  9.040686 |  5.559601 | 12.84305 | 12.955605 |  6.123716 | 9.623670 |  7.571690 | 12.710549 | Mutant |\n| TCGA-CS-5390-01A-02R-1470-07 |  6.414462 |  6.768295 |  8.117387 |  8.416037 |  6.910824 |  5.125587 | 13.960940 | 10.549869 |  8.420851 |  7.972475 | ⋯ |  9.096286 | 10.546378 |  9.795453 |  7.15523 |  7.508538 |  8.622440 | 8.933746 | 11.529123 |  7.259143 | Mutant |\n\n",
            "text/latex": "A data.frame: 6 × 2408\n\\begin{tabular}{r|lllllllllllllllllllll}\n  & ENSG00000131095.13 & ENSG00000120885.22 & ENSG00000113140.11 & ENSG00000118271.12 & ENSG00000109846.9 & ENSG00000130203.10 & ENSG00000146648.19 & ENSG00000198695.2 & ENSG00000171885.18 & ENSG00000135821.19 & ⋯ & ENSG00000082482.14 & ENSG00000144354.14 & ENSG00000171004.18 & ENSG00000121900.19 & ENSG00000102032.13 & ENSG00000146090.16 & ENSG00000160211.19 & ENSG00000101417.12 & ENSG00000183549.10 & IDH.status\\\\\n  & <dbl> & <dbl> & <dbl> & <dbl> & <dbl> & <dbl> & <dbl> & <dbl> & <dbl> & <dbl> & ⋯ & <dbl> & <dbl> & <dbl> & <dbl> & <dbl> & <dbl> & <dbl> & <dbl> & <dbl> & <chr>\\\\\n\\hline\n\tTCGA-CS-4938-01B-11R-1896-07 & 14.042195 &  5.603533 & 11.851646 & 10.307026 &  8.844817 & 10.369810 &  8.154948 & 12.698106 & 13.891425 &  7.116968 & ⋯ &  4.680477 & 12.435793 &  7.496905 & 12.03391 &  7.733082 &  5.018913 & 8.147644 & 10.471995 & 10.813665 & Mutant\\\\\n\tTCGA-CS-4941-01A-01R-1470-07 & 12.375402 & 11.513038 &  9.017664 & 12.208442 &  5.814786 & 10.176636 & 16.425503 &  8.823037 & 13.796068 & 10.418079 & ⋯ & 12.207555 & 13.166846 &  6.456163 & 11.55748 & 12.501291 &  3.604534 & 9.870661 & 10.413404 & 10.899173 & WT    \\\\\n\tTCGA-CS-4942-01A-01R-1470-07 & 12.815996 &  8.730209 &  9.701820 & 10.307026 & 11.522600 & 11.543719 & 10.578318 & 11.201400 & 11.485022 & 10.746416 & ⋯ & 11.419911 & 10.138115 & 10.318163 & 11.87830 &  9.414809 & 10.896232 & 8.800690 &  6.893369 & 12.178980 & Mutant\\\\\n\tTCGA-CS-4943-01A-01R-1470-07 &  7.780189 &  6.295149 &  8.623301 &  5.649594 & 11.486874 &  9.156750 & 12.765411 &  8.340347 &  9.134230 &  7.355507 & ⋯ & 13.465718 & 14.538832 &  7.245613 & 10.88667 &  9.180586 &  9.928951 & 9.264067 &  4.015380 &  7.228911 & Mutant\\\\\n\tTCGA-CS-4944-01A-01R-1470-07 & 14.601860 & 15.869823 &  9.761764 & 14.207815 & 12.186869 &  9.160028 &  8.495910 & 10.791995 &  5.405140 &  9.834508 & ⋯ &  5.428684 &  9.040686 &  5.559601 & 12.84305 & 12.955605 &  6.123716 & 9.623670 &  7.571690 & 12.710549 & Mutant\\\\\n\tTCGA-CS-5390-01A-02R-1470-07 &  6.414462 &  6.768295 &  8.117387 &  8.416037 &  6.910824 &  5.125587 & 13.960940 & 10.549869 &  8.420851 &  7.972475 & ⋯ &  9.096286 & 10.546378 &  9.795453 &  7.15523 &  7.508538 &  8.622440 & 8.933746 & 11.529123 &  7.259143 & Mutant\\\\\n\\end{tabular}\n",
            "text/plain": [
              "                             ENSG00000131095.13 ENSG00000120885.22\n",
              "TCGA-CS-4938-01B-11R-1896-07 14.042195           5.603533         \n",
              "TCGA-CS-4941-01A-01R-1470-07 12.375402          11.513038         \n",
              "TCGA-CS-4942-01A-01R-1470-07 12.815996           8.730209         \n",
              "TCGA-CS-4943-01A-01R-1470-07  7.780189           6.295149         \n",
              "TCGA-CS-4944-01A-01R-1470-07 14.601860          15.869823         \n",
              "TCGA-CS-5390-01A-02R-1470-07  6.414462           6.768295         \n",
              "                             ENSG00000113140.11 ENSG00000118271.12\n",
              "TCGA-CS-4938-01B-11R-1896-07 11.851646          10.307026         \n",
              "TCGA-CS-4941-01A-01R-1470-07  9.017664          12.208442         \n",
              "TCGA-CS-4942-01A-01R-1470-07  9.701820          10.307026         \n",
              "TCGA-CS-4943-01A-01R-1470-07  8.623301           5.649594         \n",
              "TCGA-CS-4944-01A-01R-1470-07  9.761764          14.207815         \n",
              "TCGA-CS-5390-01A-02R-1470-07  8.117387           8.416037         \n",
              "                             ENSG00000109846.9 ENSG00000130203.10\n",
              "TCGA-CS-4938-01B-11R-1896-07  8.844817         10.369810         \n",
              "TCGA-CS-4941-01A-01R-1470-07  5.814786         10.176636         \n",
              "TCGA-CS-4942-01A-01R-1470-07 11.522600         11.543719         \n",
              "TCGA-CS-4943-01A-01R-1470-07 11.486874          9.156750         \n",
              "TCGA-CS-4944-01A-01R-1470-07 12.186869          9.160028         \n",
              "TCGA-CS-5390-01A-02R-1470-07  6.910824          5.125587         \n",
              "                             ENSG00000146648.19 ENSG00000198695.2\n",
              "TCGA-CS-4938-01B-11R-1896-07  8.154948          12.698106        \n",
              "TCGA-CS-4941-01A-01R-1470-07 16.425503           8.823037        \n",
              "TCGA-CS-4942-01A-01R-1470-07 10.578318          11.201400        \n",
              "TCGA-CS-4943-01A-01R-1470-07 12.765411           8.340347        \n",
              "TCGA-CS-4944-01A-01R-1470-07  8.495910          10.791995        \n",
              "TCGA-CS-5390-01A-02R-1470-07 13.960940          10.549869        \n",
              "                             ENSG00000171885.18 ENSG00000135821.19 ⋯\n",
              "TCGA-CS-4938-01B-11R-1896-07 13.891425           7.116968          ⋯\n",
              "TCGA-CS-4941-01A-01R-1470-07 13.796068          10.418079          ⋯\n",
              "TCGA-CS-4942-01A-01R-1470-07 11.485022          10.746416          ⋯\n",
              "TCGA-CS-4943-01A-01R-1470-07  9.134230           7.355507          ⋯\n",
              "TCGA-CS-4944-01A-01R-1470-07  5.405140           9.834508          ⋯\n",
              "TCGA-CS-5390-01A-02R-1470-07  8.420851           7.972475          ⋯\n",
              "                             ENSG00000082482.14 ENSG00000144354.14\n",
              "TCGA-CS-4938-01B-11R-1896-07  4.680477          12.435793         \n",
              "TCGA-CS-4941-01A-01R-1470-07 12.207555          13.166846         \n",
              "TCGA-CS-4942-01A-01R-1470-07 11.419911          10.138115         \n",
              "TCGA-CS-4943-01A-01R-1470-07 13.465718          14.538832         \n",
              "TCGA-CS-4944-01A-01R-1470-07  5.428684           9.040686         \n",
              "TCGA-CS-5390-01A-02R-1470-07  9.096286          10.546378         \n",
              "                             ENSG00000171004.18 ENSG00000121900.19\n",
              "TCGA-CS-4938-01B-11R-1896-07  7.496905          12.03391          \n",
              "TCGA-CS-4941-01A-01R-1470-07  6.456163          11.55748          \n",
              "TCGA-CS-4942-01A-01R-1470-07 10.318163          11.87830          \n",
              "TCGA-CS-4943-01A-01R-1470-07  7.245613          10.88667          \n",
              "TCGA-CS-4944-01A-01R-1470-07  5.559601          12.84305          \n",
              "TCGA-CS-5390-01A-02R-1470-07  9.795453           7.15523          \n",
              "                             ENSG00000102032.13 ENSG00000146090.16\n",
              "TCGA-CS-4938-01B-11R-1896-07  7.733082           5.018913         \n",
              "TCGA-CS-4941-01A-01R-1470-07 12.501291           3.604534         \n",
              "TCGA-CS-4942-01A-01R-1470-07  9.414809          10.896232         \n",
              "TCGA-CS-4943-01A-01R-1470-07  9.180586           9.928951         \n",
              "TCGA-CS-4944-01A-01R-1470-07 12.955605           6.123716         \n",
              "TCGA-CS-5390-01A-02R-1470-07  7.508538           8.622440         \n",
              "                             ENSG00000160211.19 ENSG00000101417.12\n",
              "TCGA-CS-4938-01B-11R-1896-07 8.147644           10.471995         \n",
              "TCGA-CS-4941-01A-01R-1470-07 9.870661           10.413404         \n",
              "TCGA-CS-4942-01A-01R-1470-07 8.800690            6.893369         \n",
              "TCGA-CS-4943-01A-01R-1470-07 9.264067            4.015380         \n",
              "TCGA-CS-4944-01A-01R-1470-07 9.623670            7.571690         \n",
              "TCGA-CS-5390-01A-02R-1470-07 8.933746           11.529123         \n",
              "                             ENSG00000183549.10 IDH.status\n",
              "TCGA-CS-4938-01B-11R-1896-07 10.813665          Mutant    \n",
              "TCGA-CS-4941-01A-01R-1470-07 10.899173          WT        \n",
              "TCGA-CS-4942-01A-01R-1470-07 12.178980          Mutant    \n",
              "TCGA-CS-4943-01A-01R-1470-07  7.228911          Mutant    \n",
              "TCGA-CS-4944-01A-01R-1470-07 12.710549          Mutant    \n",
              "TCGA-CS-5390-01A-02R-1470-07  7.259143          Mutant    "
            ]
          },
          "metadata": {}
        }
      ],
      "source": [
        "rownames(data_trans) <- data_trans$Row.names\n",
        "data_trans <- data_trans[,-1]\n",
        "head(data_trans)"
      ]
    },
    {
      "cell_type": "markdown",
      "metadata": {
        "id": "QzNYi7DBMXZq"
      },
      "source": [
        "### **Splitting dataset into training and test datasets**"
      ]
    },
    {
      "cell_type": "code",
      "source": [
        "# Remove missing values in 'IDH.status'\n",
        "data_trans <- data_trans[!is.na(data_trans$`IDH.status`), ]\n",
        "unique(data_trans$`IDH.status`)\n",
        "\n",
        "# Convert 'IDH.status' to a factor if it's not already\n",
        "data_trans$`IDH.status` <- as.factor(data_trans$`IDH.status`)"
      ],
      "metadata": {
        "colab": {
          "base_uri": "https://localhost:8080/",
          "height": 34
        },
        "id": "b5aD-gv3tolU",
        "outputId": "354ddfc4-556d-4848-9b42-6254bcdb0c10"
      },
      "execution_count": null,
      "outputs": [
        {
          "output_type": "display_data",
          "data": {
            "text/html": [
              "<style>\n",
              ".list-inline {list-style: none; margin:0; padding: 0}\n",
              ".list-inline>li {display: inline-block}\n",
              ".list-inline>li:not(:last-child)::after {content: \"\\00b7\"; padding: 0 .5ex}\n",
              "</style>\n",
              "<ol class=list-inline><li>'Mutant'</li><li>'WT'</li></ol>\n"
            ],
            "text/markdown": "1. 'Mutant'\n2. 'WT'\n\n\n",
            "text/latex": "\\begin{enumerate*}\n\\item 'Mutant'\n\\item 'WT'\n\\end{enumerate*}\n",
            "text/plain": [
              "[1] \"Mutant\" \"WT\"    "
            ]
          },
          "metadata": {}
        }
      ]
    },
    {
      "cell_type": "code",
      "execution_count": null,
      "metadata": {
        "colab": {
          "base_uri": "https://localhost:8080/",
          "height": 52
        },
        "id": "5WoNseCGLEap",
        "outputId": "80d65424-5191-4fe2-80f3-531f55374d14"
      },
      "outputs": [
        {
          "output_type": "display_data",
          "data": {
            "text/html": [
              "<style>\n",
              ".list-inline {list-style: none; margin:0; padding: 0}\n",
              ".list-inline>li {display: inline-block}\n",
              ".list-inline>li:not(:last-child)::after {content: \"\\00b7\"; padding: 0 .5ex}\n",
              "</style>\n",
              "<ol class=list-inline><li>372</li><li>2408</li></ol>\n"
            ],
            "text/markdown": "1. 372\n2. 2408\n\n\n",
            "text/latex": "\\begin{enumerate*}\n\\item 372\n\\item 2408\n\\end{enumerate*}\n",
            "text/plain": [
              "[1]  372 2408"
            ]
          },
          "metadata": {}
        },
        {
          "output_type": "display_data",
          "data": {
            "text/html": [
              "<style>\n",
              ".list-inline {list-style: none; margin:0; padding: 0}\n",
              ".list-inline>li {display: inline-block}\n",
              ".list-inline>li:not(:last-child)::after {content: \"\\00b7\"; padding: 0 .5ex}\n",
              "</style>\n",
              "<ol class=list-inline><li>159</li><li>2408</li></ol>\n"
            ],
            "text/markdown": "1. 159\n2. 2408\n\n\n",
            "text/latex": "\\begin{enumerate*}\n\\item 159\n\\item 2408\n\\end{enumerate*}\n",
            "text/plain": [
              "[1]  159 2408"
            ]
          },
          "metadata": {}
        }
      ],
      "source": [
        "# splitting the dataset in the ratio 80:20\n",
        "intrain <- createDataPartition(y = data_trans$IDH.status, p = 0.7)[[1]]\n",
        "train_data <- data_trans[intrain,]\n",
        "test_data <- data_trans[-intrain,]\n",
        "dim(train_data)\n",
        "dim(test_data)"
      ]
    },
    {
      "cell_type": "markdown",
      "metadata": {
        "id": "Jk8leOu3OQgX"
      },
      "source": [
        "### **Training the Machine Learning Model on the Training dataset**"
      ]
    },
    {
      "cell_type": "code",
      "execution_count": null,
      "metadata": {
        "id": "0myKPHAfOPpg"
      },
      "outputs": [],
      "source": [
        "# to prevent any bias; done by the cross validation method\n",
        "control.bias <- trainControl(method = \"cv\", number = 7)"
      ]
    },
    {
      "cell_type": "code",
      "execution_count": null,
      "metadata": {
        "id": "C1UorC5rPGPx"
      },
      "outputs": [],
      "source": [
        "#training the model\n",
        "rf.output <- train(IDH.status~.,\n",
        "                  data = train_data,\n",
        "                  method = \"ranger\",\n",
        "                  trControl = control.bias,\n",
        "                  importance = \"permutation\")"
      ]
    },
    {
      "cell_type": "code",
      "execution_count": null,
      "metadata": {
        "colab": {
          "base_uri": "https://localhost:8080/",
          "height": 34
        },
        "id": "L7HQqi3m23U2",
        "outputId": "c6999669-652e-4f1d-b303-0da7a4f38713"
      },
      "outputs": [
        {
          "output_type": "display_data",
          "data": {
            "text/html": [
              "0.021505376344086"
            ],
            "text/markdown": "0.021505376344086",
            "text/latex": "0.021505376344086",
            "text/plain": [
              "[1] 0.02150538"
            ]
          },
          "metadata": {}
        }
      ],
      "source": [
        "rf.output$finalModel$prediction.error"
      ]
    },
    {
      "cell_type": "code",
      "execution_count": null,
      "metadata": {
        "id": "hBJoMwFTcokQ"
      },
      "outputs": [],
      "source": [
        "# predicting on test data\n",
        "rf.predictions <- predict(rf.output, test_data)"
      ]
    },
    {
      "cell_type": "code",
      "execution_count": null,
      "metadata": {
        "id": "B7VDmVyoc4Xt"
      },
      "outputs": [],
      "source": [
        "# Convert rf.predictions and test_data$IDH.status to factors with the same levels\n",
        "rf.predictions <- as.factor(rf.predictions)\n",
        "test_data$IDH.status <- as.factor(test_data$IDH.status)\n",
        "\n",
        "# Set the levels of rf.predictions to be the same as test_data$sample_type\n",
        "levels(rf.predictions) <- levels(test_data$IDH.status)"
      ]
    },
    {
      "cell_type": "code",
      "execution_count": null,
      "metadata": {
        "colab": {
          "base_uri": "https://localhost:8080/",
          "height": 486
        },
        "id": "6h7T-vmJcwnX",
        "outputId": "b238bcd5-7c36-4bd3-d529-2a1b70e02bc4"
      },
      "outputs": [
        {
          "output_type": "display_data",
          "data": {
            "text/plain": [
              "Confusion Matrix and Statistics\n",
              "\n",
              "          Reference\n",
              "Prediction Mutant  WT\n",
              "    Mutant    130   2\n",
              "    WT          0  27\n",
              "                                          \n",
              "               Accuracy : 0.9874          \n",
              "                 95% CI : (0.9553, 0.9985)\n",
              "    No Information Rate : 0.8176          \n",
              "    P-Value [Acc > NIR] : 8.23e-12        \n",
              "                                          \n",
              "                  Kappa : 0.9567          \n",
              "                                          \n",
              " Mcnemar's Test P-Value : 0.4795          \n",
              "                                          \n",
              "            Sensitivity : 1.0000          \n",
              "            Specificity : 0.9310          \n",
              "         Pos Pred Value : 0.9848          \n",
              "         Neg Pred Value : 1.0000          \n",
              "             Prevalence : 0.8176          \n",
              "         Detection Rate : 0.8176          \n",
              "   Detection Prevalence : 0.8302          \n",
              "      Balanced Accuracy : 0.9655          \n",
              "                                          \n",
              "       'Positive' Class : Mutant          \n",
              "                                          "
            ]
          },
          "metadata": {}
        }
      ],
      "source": [
        "confusionMatrix(rf.predictions, test_data$IDH.status)"
      ]
    }
  ],
  "metadata": {
    "colab": {
      "provenance": [],
      "gpuType": "T4"
    },
    "kernelspec": {
      "display_name": "R",
      "name": "ir"
    },
    "language_info": {
      "name": "R"
    },
    "accelerator": "GPU"
  },
  "nbformat": 4,
  "nbformat_minor": 0
}